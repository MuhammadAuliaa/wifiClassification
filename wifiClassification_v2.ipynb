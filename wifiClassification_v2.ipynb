{
 "cells": [
  {
   "cell_type": "code",
   "execution_count": 1,
   "id": "7e637ca4",
   "metadata": {},
   "outputs": [],
   "source": [
    "import pandas as pd\n",
    "from sklearn.preprocessing import LabelEncoder\n",
    "from sklearn.model_selection import train_test_split\n",
    "from sklearn.feature_extraction.text import CountVectorizer,TfidfVectorizer, HashingVectorizer\n",
    "from sklearn.pipeline import Pipeline\n",
    "from sklearn.metrics import classification_report\n",
    "from sklearn.metrics import accuracy_score, recall_score, precision_score, f1_score\n",
    "import pandas as pd\n",
    "from sklearn.model_selection import train_test_split, GridSearchCV\n",
    "from sklearn.metrics import classification_report, accuracy_score, confusion_matrix\n",
    "from sklearn.svm import SVC\n",
    "from sklearn.naive_bayes import GaussianNB\n",
    "from sklearn.ensemble import RandomForestClassifier\n",
    "from sklearn.metrics import precision_score, recall_score, f1_score\n",
    "import pandas as pd\n",
    "from sklearn.preprocessing import LabelEncoder\n",
    "import joblib\n",
    "import seaborn as sns\n",
    "import matplotlib.pyplot as plt\n",
    "import plotly.express as px\n",
    "import category_encoders as ce\n",
    "import os"
   ]
  },
  {
   "cell_type": "markdown",
   "id": "c4e2247f",
   "metadata": {},
   "source": [
    "## Import data"
   ]
  },
  {
   "cell_type": "code",
   "execution_count": 2,
   "id": "cd8be7e8",
   "metadata": {},
   "outputs": [
    {
     "data": {
      "text/html": [
       "<div>\n",
       "<style scoped>\n",
       "    .dataframe tbody tr th:only-of-type {\n",
       "        vertical-align: middle;\n",
       "    }\n",
       "\n",
       "    .dataframe tbody tr th {\n",
       "        vertical-align: top;\n",
       "    }\n",
       "\n",
       "    .dataframe thead th {\n",
       "        text-align: right;\n",
       "    }\n",
       "</style>\n",
       "<table border=\"1\" class=\"dataframe\">\n",
       "  <thead>\n",
       "    <tr style=\"text-align: right;\">\n",
       "      <th></th>\n",
       "      <th>ssid</th>\n",
       "      <th>mackonversi</th>\n",
       "      <th>rssi</th>\n",
       "      <th>lokasi</th>\n",
       "    </tr>\n",
       "  </thead>\n",
       "  <tbody>\n",
       "    <tr>\n",
       "      <th>0</th>\n",
       "      <td>KRAI</td>\n",
       "      <td>273146522812986</td>\n",
       "      <td>-86</td>\n",
       "      <td>Perpustakaan D4</td>\n",
       "    </tr>\n",
       "    <tr>\n",
       "      <th>1</th>\n",
       "      <td>eepisMobile</td>\n",
       "      <td>264428361941459</td>\n",
       "      <td>-85</td>\n",
       "      <td>Perpustakaan D4</td>\n",
       "    </tr>\n",
       "    <tr>\n",
       "      <th>2</th>\n",
       "      <td>eepiswlan</td>\n",
       "      <td>211266695032288</td>\n",
       "      <td>-88</td>\n",
       "      <td>Perpustakaan D4</td>\n",
       "    </tr>\n",
       "    <tr>\n",
       "      <th>3</th>\n",
       "      <td>eepisGuest</td>\n",
       "      <td>264428361175954</td>\n",
       "      <td>-62</td>\n",
       "      <td>Perpustakaan D4</td>\n",
       "    </tr>\n",
       "    <tr>\n",
       "      <th>4</th>\n",
       "      <td>eepisGuest</td>\n",
       "      <td>211266695032290</td>\n",
       "      <td>-87</td>\n",
       "      <td>Perpustakaan D4</td>\n",
       "    </tr>\n",
       "    <tr>\n",
       "      <th>...</th>\n",
       "      <td>...</td>\n",
       "      <td>...</td>\n",
       "      <td>...</td>\n",
       "      <td>...</td>\n",
       "    </tr>\n",
       "    <tr>\n",
       "      <th>2239</th>\n",
       "      <td>eepisGuest</td>\n",
       "      <td>220077978544770</td>\n",
       "      <td>-82</td>\n",
       "      <td>Perpustakaan Pasca</td>\n",
       "    </tr>\n",
       "    <tr>\n",
       "      <th>2240</th>\n",
       "      <td>Lab Emerge _ WSC</td>\n",
       "      <td>158746488395693</td>\n",
       "      <td>-80</td>\n",
       "      <td>Perpustakaan Pasca</td>\n",
       "    </tr>\n",
       "    <tr>\n",
       "      <th>2241</th>\n",
       "      <td>senatGuest</td>\n",
       "      <td>113506318785</td>\n",
       "      <td>-76</td>\n",
       "      <td>Perpustakaan Pasca</td>\n",
       "    </tr>\n",
       "    <tr>\n",
       "      <th>2242</th>\n",
       "      <td>ZTE_2.4G_YYsFKz</td>\n",
       "      <td>57330268306608</td>\n",
       "      <td>-87</td>\n",
       "      <td>Perpustakaan Pasca</td>\n",
       "    </tr>\n",
       "    <tr>\n",
       "      <th>2243</th>\n",
       "      <td>SAS PPNS SBY</td>\n",
       "      <td>246985566369916</td>\n",
       "      <td>-87</td>\n",
       "      <td>Perpustakaan Pasca</td>\n",
       "    </tr>\n",
       "  </tbody>\n",
       "</table>\n",
       "<p>2244 rows × 4 columns</p>\n",
       "</div>"
      ],
      "text/plain": [
       "                  ssid      mackonversi  rssi              lokasi\n",
       "0                 KRAI  273146522812986   -86     Perpustakaan D4\n",
       "1          eepisMobile  264428361941459   -85     Perpustakaan D4\n",
       "2            eepiswlan  211266695032288   -88     Perpustakaan D4\n",
       "3           eepisGuest  264428361175954   -62     Perpustakaan D4\n",
       "4           eepisGuest  211266695032290   -87     Perpustakaan D4\n",
       "...                ...              ...   ...                 ...\n",
       "2239        eepisGuest  220077978544770   -82  Perpustakaan Pasca\n",
       "2240  Lab Emerge _ WSC  158746488395693   -80  Perpustakaan Pasca\n",
       "2241        senatGuest     113506318785   -76  Perpustakaan Pasca\n",
       "2242   ZTE_2.4G_YYsFKz   57330268306608   -87  Perpustakaan Pasca\n",
       "2243      SAS PPNS SBY  246985566369916   -87  Perpustakaan Pasca\n",
       "\n",
       "[2244 rows x 4 columns]"
      ]
     },
     "execution_count": 2,
     "metadata": {},
     "output_type": "execute_result"
    }
   ],
   "source": [
    "df = pd.read_excel('data/wifi.xlsx', sheet_name='Main data')\n",
    "df = df[['ssid', 'mackonversi', 'rssi', 'lokasi']]\n",
    "df"
   ]
  },
  {
   "cell_type": "markdown",
   "id": "4f19480b",
   "metadata": {},
   "source": [
    "## Preprocessing"
   ]
  },
  {
   "cell_type": "code",
   "execution_count": 3,
   "id": "e07d1865",
   "metadata": {},
   "outputs": [],
   "source": [
    "le_ssid = LabelEncoder()\n",
    "le_lokasi = LabelEncoder()\n",
    "\n",
    "df['ssid_encoded'] = le_ssid.fit_transform(df['ssid'])\n",
    "df['lokasi_encoded'] = le_lokasi.fit_transform(df['lokasi'])"
   ]
  },
  {
   "cell_type": "code",
   "execution_count": 4,
   "id": "cc20c576",
   "metadata": {},
   "outputs": [
    {
     "data": {
      "text/html": [
       "<div>\n",
       "<style scoped>\n",
       "    .dataframe tbody tr th:only-of-type {\n",
       "        vertical-align: middle;\n",
       "    }\n",
       "\n",
       "    .dataframe tbody tr th {\n",
       "        vertical-align: top;\n",
       "    }\n",
       "\n",
       "    .dataframe thead th {\n",
       "        text-align: right;\n",
       "    }\n",
       "</style>\n",
       "<table border=\"1\" class=\"dataframe\">\n",
       "  <thead>\n",
       "    <tr style=\"text-align: right;\">\n",
       "      <th></th>\n",
       "      <th>ssid</th>\n",
       "      <th>mackonversi</th>\n",
       "      <th>rssi</th>\n",
       "      <th>lokasi</th>\n",
       "      <th>ssid_encoded</th>\n",
       "      <th>lokasi_encoded</th>\n",
       "    </tr>\n",
       "  </thead>\n",
       "  <tbody>\n",
       "    <tr>\n",
       "      <th>0</th>\n",
       "      <td>KRAI</td>\n",
       "      <td>273146522812986</td>\n",
       "      <td>-86</td>\n",
       "      <td>Perpustakaan D4</td>\n",
       "      <td>65</td>\n",
       "      <td>6</td>\n",
       "    </tr>\n",
       "    <tr>\n",
       "      <th>1</th>\n",
       "      <td>eepisMobile</td>\n",
       "      <td>264428361941459</td>\n",
       "      <td>-85</td>\n",
       "      <td>Perpustakaan D4</td>\n",
       "      <td>148</td>\n",
       "      <td>6</td>\n",
       "    </tr>\n",
       "    <tr>\n",
       "      <th>2</th>\n",
       "      <td>eepiswlan</td>\n",
       "      <td>211266695032288</td>\n",
       "      <td>-88</td>\n",
       "      <td>Perpustakaan D4</td>\n",
       "      <td>149</td>\n",
       "      <td>6</td>\n",
       "    </tr>\n",
       "    <tr>\n",
       "      <th>3</th>\n",
       "      <td>eepisGuest</td>\n",
       "      <td>264428361175954</td>\n",
       "      <td>-62</td>\n",
       "      <td>Perpustakaan D4</td>\n",
       "      <td>147</td>\n",
       "      <td>6</td>\n",
       "    </tr>\n",
       "    <tr>\n",
       "      <th>4</th>\n",
       "      <td>eepisGuest</td>\n",
       "      <td>211266695032290</td>\n",
       "      <td>-87</td>\n",
       "      <td>Perpustakaan D4</td>\n",
       "      <td>147</td>\n",
       "      <td>6</td>\n",
       "    </tr>\n",
       "    <tr>\n",
       "      <th>...</th>\n",
       "      <td>...</td>\n",
       "      <td>...</td>\n",
       "      <td>...</td>\n",
       "      <td>...</td>\n",
       "      <td>...</td>\n",
       "      <td>...</td>\n",
       "    </tr>\n",
       "    <tr>\n",
       "      <th>2239</th>\n",
       "      <td>eepisGuest</td>\n",
       "      <td>220077978544770</td>\n",
       "      <td>-82</td>\n",
       "      <td>Perpustakaan Pasca</td>\n",
       "      <td>147</td>\n",
       "      <td>7</td>\n",
       "    </tr>\n",
       "    <tr>\n",
       "      <th>2240</th>\n",
       "      <td>Lab Emerge _ WSC</td>\n",
       "      <td>158746488395693</td>\n",
       "      <td>-80</td>\n",
       "      <td>Perpustakaan Pasca</td>\n",
       "      <td>79</td>\n",
       "      <td>7</td>\n",
       "    </tr>\n",
       "    <tr>\n",
       "      <th>2241</th>\n",
       "      <td>senatGuest</td>\n",
       "      <td>113506318785</td>\n",
       "      <td>-76</td>\n",
       "      <td>Perpustakaan Pasca</td>\n",
       "      <td>166</td>\n",
       "      <td>7</td>\n",
       "    </tr>\n",
       "    <tr>\n",
       "      <th>2242</th>\n",
       "      <td>ZTE_2.4G_YYsFKz</td>\n",
       "      <td>57330268306608</td>\n",
       "      <td>-87</td>\n",
       "      <td>Perpustakaan Pasca</td>\n",
       "      <td>134</td>\n",
       "      <td>7</td>\n",
       "    </tr>\n",
       "    <tr>\n",
       "      <th>2243</th>\n",
       "      <td>SAS PPNS SBY</td>\n",
       "      <td>246985566369916</td>\n",
       "      <td>-87</td>\n",
       "      <td>Perpustakaan Pasca</td>\n",
       "      <td>113</td>\n",
       "      <td>7</td>\n",
       "    </tr>\n",
       "  </tbody>\n",
       "</table>\n",
       "<p>2244 rows × 6 columns</p>\n",
       "</div>"
      ],
      "text/plain": [
       "                  ssid      mackonversi  rssi              lokasi  \\\n",
       "0                 KRAI  273146522812986   -86     Perpustakaan D4   \n",
       "1          eepisMobile  264428361941459   -85     Perpustakaan D4   \n",
       "2            eepiswlan  211266695032288   -88     Perpustakaan D4   \n",
       "3           eepisGuest  264428361175954   -62     Perpustakaan D4   \n",
       "4           eepisGuest  211266695032290   -87     Perpustakaan D4   \n",
       "...                ...              ...   ...                 ...   \n",
       "2239        eepisGuest  220077978544770   -82  Perpustakaan Pasca   \n",
       "2240  Lab Emerge _ WSC  158746488395693   -80  Perpustakaan Pasca   \n",
       "2241        senatGuest     113506318785   -76  Perpustakaan Pasca   \n",
       "2242   ZTE_2.4G_YYsFKz   57330268306608   -87  Perpustakaan Pasca   \n",
       "2243      SAS PPNS SBY  246985566369916   -87  Perpustakaan Pasca   \n",
       "\n",
       "      ssid_encoded  lokasi_encoded  \n",
       "0               65               6  \n",
       "1              148               6  \n",
       "2              149               6  \n",
       "3              147               6  \n",
       "4              147               6  \n",
       "...            ...             ...  \n",
       "2239           147               7  \n",
       "2240            79               7  \n",
       "2241           166               7  \n",
       "2242           134               7  \n",
       "2243           113               7  \n",
       "\n",
       "[2244 rows x 6 columns]"
      ]
     },
     "execution_count": 4,
     "metadata": {},
     "output_type": "execute_result"
    }
   ],
   "source": [
    "df"
   ]
  },
  {
   "cell_type": "code",
   "execution_count": 5,
   "id": "2e50d0ad",
   "metadata": {},
   "outputs": [],
   "source": [
    "# df = df[df['lokasi_encoded'].isin([1, 2, 3])]"
   ]
  },
  {
   "cell_type": "markdown",
   "id": "b8cfca93",
   "metadata": {},
   "source": [
    "## One-hot encoder ('mackonversi')"
   ]
  },
  {
   "cell_type": "code",
   "execution_count": 6,
   "id": "f673ed96",
   "metadata": {},
   "outputs": [],
   "source": [
    "mackonversi_encoded = pd.get_dummies(df['mackonversi'], prefix='mac')"
   ]
  },
  {
   "cell_type": "code",
   "execution_count": 7,
   "id": "7627db7d",
   "metadata": {},
   "outputs": [
    {
     "data": {
      "text/html": [
       "<div>\n",
       "<style scoped>\n",
       "    .dataframe tbody tr th:only-of-type {\n",
       "        vertical-align: middle;\n",
       "    }\n",
       "\n",
       "    .dataframe tbody tr th {\n",
       "        vertical-align: top;\n",
       "    }\n",
       "\n",
       "    .dataframe thead th {\n",
       "        text-align: right;\n",
       "    }\n",
       "</style>\n",
       "<table border=\"1\" class=\"dataframe\">\n",
       "  <thead>\n",
       "    <tr style=\"text-align: right;\">\n",
       "      <th></th>\n",
       "      <th>ssid</th>\n",
       "      <th>mackonversi</th>\n",
       "      <th>rssi</th>\n",
       "      <th>lokasi</th>\n",
       "      <th>ssid_encoded</th>\n",
       "      <th>lokasi_encoded</th>\n",
       "    </tr>\n",
       "  </thead>\n",
       "  <tbody>\n",
       "    <tr>\n",
       "      <th>0</th>\n",
       "      <td>KRAI</td>\n",
       "      <td>273146522812986</td>\n",
       "      <td>-86</td>\n",
       "      <td>Perpustakaan D4</td>\n",
       "      <td>65</td>\n",
       "      <td>6</td>\n",
       "    </tr>\n",
       "    <tr>\n",
       "      <th>1</th>\n",
       "      <td>eepisMobile</td>\n",
       "      <td>264428361941459</td>\n",
       "      <td>-85</td>\n",
       "      <td>Perpustakaan D4</td>\n",
       "      <td>148</td>\n",
       "      <td>6</td>\n",
       "    </tr>\n",
       "    <tr>\n",
       "      <th>2</th>\n",
       "      <td>eepiswlan</td>\n",
       "      <td>211266695032288</td>\n",
       "      <td>-88</td>\n",
       "      <td>Perpustakaan D4</td>\n",
       "      <td>149</td>\n",
       "      <td>6</td>\n",
       "    </tr>\n",
       "    <tr>\n",
       "      <th>3</th>\n",
       "      <td>eepisGuest</td>\n",
       "      <td>264428361175954</td>\n",
       "      <td>-62</td>\n",
       "      <td>Perpustakaan D4</td>\n",
       "      <td>147</td>\n",
       "      <td>6</td>\n",
       "    </tr>\n",
       "    <tr>\n",
       "      <th>4</th>\n",
       "      <td>eepisGuest</td>\n",
       "      <td>211266695032290</td>\n",
       "      <td>-87</td>\n",
       "      <td>Perpustakaan D4</td>\n",
       "      <td>147</td>\n",
       "      <td>6</td>\n",
       "    </tr>\n",
       "    <tr>\n",
       "      <th>...</th>\n",
       "      <td>...</td>\n",
       "      <td>...</td>\n",
       "      <td>...</td>\n",
       "      <td>...</td>\n",
       "      <td>...</td>\n",
       "      <td>...</td>\n",
       "    </tr>\n",
       "    <tr>\n",
       "      <th>2239</th>\n",
       "      <td>eepisGuest</td>\n",
       "      <td>220077978544770</td>\n",
       "      <td>-82</td>\n",
       "      <td>Perpustakaan Pasca</td>\n",
       "      <td>147</td>\n",
       "      <td>7</td>\n",
       "    </tr>\n",
       "    <tr>\n",
       "      <th>2240</th>\n",
       "      <td>Lab Emerge _ WSC</td>\n",
       "      <td>158746488395693</td>\n",
       "      <td>-80</td>\n",
       "      <td>Perpustakaan Pasca</td>\n",
       "      <td>79</td>\n",
       "      <td>7</td>\n",
       "    </tr>\n",
       "    <tr>\n",
       "      <th>2241</th>\n",
       "      <td>senatGuest</td>\n",
       "      <td>113506318785</td>\n",
       "      <td>-76</td>\n",
       "      <td>Perpustakaan Pasca</td>\n",
       "      <td>166</td>\n",
       "      <td>7</td>\n",
       "    </tr>\n",
       "    <tr>\n",
       "      <th>2242</th>\n",
       "      <td>ZTE_2.4G_YYsFKz</td>\n",
       "      <td>57330268306608</td>\n",
       "      <td>-87</td>\n",
       "      <td>Perpustakaan Pasca</td>\n",
       "      <td>134</td>\n",
       "      <td>7</td>\n",
       "    </tr>\n",
       "    <tr>\n",
       "      <th>2243</th>\n",
       "      <td>SAS PPNS SBY</td>\n",
       "      <td>246985566369916</td>\n",
       "      <td>-87</td>\n",
       "      <td>Perpustakaan Pasca</td>\n",
       "      <td>113</td>\n",
       "      <td>7</td>\n",
       "    </tr>\n",
       "  </tbody>\n",
       "</table>\n",
       "<p>2244 rows × 6 columns</p>\n",
       "</div>"
      ],
      "text/plain": [
       "                  ssid      mackonversi  rssi              lokasi  \\\n",
       "0                 KRAI  273146522812986   -86     Perpustakaan D4   \n",
       "1          eepisMobile  264428361941459   -85     Perpustakaan D4   \n",
       "2            eepiswlan  211266695032288   -88     Perpustakaan D4   \n",
       "3           eepisGuest  264428361175954   -62     Perpustakaan D4   \n",
       "4           eepisGuest  211266695032290   -87     Perpustakaan D4   \n",
       "...                ...              ...   ...                 ...   \n",
       "2239        eepisGuest  220077978544770   -82  Perpustakaan Pasca   \n",
       "2240  Lab Emerge _ WSC  158746488395693   -80  Perpustakaan Pasca   \n",
       "2241        senatGuest     113506318785   -76  Perpustakaan Pasca   \n",
       "2242   ZTE_2.4G_YYsFKz   57330268306608   -87  Perpustakaan Pasca   \n",
       "2243      SAS PPNS SBY  246985566369916   -87  Perpustakaan Pasca   \n",
       "\n",
       "      ssid_encoded  lokasi_encoded  \n",
       "0               65               6  \n",
       "1              148               6  \n",
       "2              149               6  \n",
       "3              147               6  \n",
       "4              147               6  \n",
       "...            ...             ...  \n",
       "2239           147               7  \n",
       "2240            79               7  \n",
       "2241           166               7  \n",
       "2242           134               7  \n",
       "2243           113               7  \n",
       "\n",
       "[2244 rows x 6 columns]"
      ]
     },
     "execution_count": 7,
     "metadata": {},
     "output_type": "execute_result"
    }
   ],
   "source": [
    "df"
   ]
  },
  {
   "cell_type": "code",
   "execution_count": 8,
   "id": "a1151a6a",
   "metadata": {},
   "outputs": [
    {
     "name": "stdout",
     "output_type": "stream",
     "text": [
      "\n",
      "Mapping lokasi:\n",
      "Cafetaria Pasca -> 0\n",
      "Kantin D3 -> 1\n",
      "Kantin Pasca -> 2\n",
      "Lab E204 D4 -> 3\n",
      "Musholla D4 -> 4\n",
      "Musholla Saw -> 5\n",
      "Perpustakaan D4 -> 6\n",
      "Perpustakaan Pasca -> 7\n",
      "Saw 0808 -> 8\n",
      "Sekber D4 -> 9\n"
     ]
    }
   ],
   "source": [
    "print(\"\\nMapping lokasi:\")\n",
    "for label, code in zip(le_lokasi.classes_, le_lokasi.transform(le_lokasi.classes_)):\n",
    "    print(f\"{label} -> {code}\")"
   ]
  },
  {
   "cell_type": "code",
   "execution_count": 9,
   "id": "929bf308",
   "metadata": {},
   "outputs": [
    {
     "data": {
      "text/html": [
       "<div>\n",
       "<style scoped>\n",
       "    .dataframe tbody tr th:only-of-type {\n",
       "        vertical-align: middle;\n",
       "    }\n",
       "\n",
       "    .dataframe tbody tr th {\n",
       "        vertical-align: top;\n",
       "    }\n",
       "\n",
       "    .dataframe thead th {\n",
       "        text-align: right;\n",
       "    }\n",
       "</style>\n",
       "<table border=\"1\" class=\"dataframe\">\n",
       "  <thead>\n",
       "    <tr style=\"text-align: right;\">\n",
       "      <th></th>\n",
       "      <th>ssid</th>\n",
       "      <th>mackonversi</th>\n",
       "      <th>rssi</th>\n",
       "      <th>lokasi</th>\n",
       "      <th>ssid_encoded</th>\n",
       "      <th>lokasi_encoded</th>\n",
       "    </tr>\n",
       "  </thead>\n",
       "  <tbody>\n",
       "    <tr>\n",
       "      <th>0</th>\n",
       "      <td>KRAI</td>\n",
       "      <td>273146522812986</td>\n",
       "      <td>-86</td>\n",
       "      <td>Perpustakaan D4</td>\n",
       "      <td>65</td>\n",
       "      <td>6</td>\n",
       "    </tr>\n",
       "    <tr>\n",
       "      <th>1</th>\n",
       "      <td>eepisMobile</td>\n",
       "      <td>264428361941459</td>\n",
       "      <td>-85</td>\n",
       "      <td>Perpustakaan D4</td>\n",
       "      <td>148</td>\n",
       "      <td>6</td>\n",
       "    </tr>\n",
       "    <tr>\n",
       "      <th>2</th>\n",
       "      <td>eepiswlan</td>\n",
       "      <td>211266695032288</td>\n",
       "      <td>-88</td>\n",
       "      <td>Perpustakaan D4</td>\n",
       "      <td>149</td>\n",
       "      <td>6</td>\n",
       "    </tr>\n",
       "    <tr>\n",
       "      <th>3</th>\n",
       "      <td>eepisGuest</td>\n",
       "      <td>264428361175954</td>\n",
       "      <td>-62</td>\n",
       "      <td>Perpustakaan D4</td>\n",
       "      <td>147</td>\n",
       "      <td>6</td>\n",
       "    </tr>\n",
       "    <tr>\n",
       "      <th>4</th>\n",
       "      <td>eepisGuest</td>\n",
       "      <td>211266695032290</td>\n",
       "      <td>-87</td>\n",
       "      <td>Perpustakaan D4</td>\n",
       "      <td>147</td>\n",
       "      <td>6</td>\n",
       "    </tr>\n",
       "    <tr>\n",
       "      <th>...</th>\n",
       "      <td>...</td>\n",
       "      <td>...</td>\n",
       "      <td>...</td>\n",
       "      <td>...</td>\n",
       "      <td>...</td>\n",
       "      <td>...</td>\n",
       "    </tr>\n",
       "    <tr>\n",
       "      <th>2239</th>\n",
       "      <td>eepisGuest</td>\n",
       "      <td>220077978544770</td>\n",
       "      <td>-82</td>\n",
       "      <td>Perpustakaan Pasca</td>\n",
       "      <td>147</td>\n",
       "      <td>7</td>\n",
       "    </tr>\n",
       "    <tr>\n",
       "      <th>2240</th>\n",
       "      <td>Lab Emerge _ WSC</td>\n",
       "      <td>158746488395693</td>\n",
       "      <td>-80</td>\n",
       "      <td>Perpustakaan Pasca</td>\n",
       "      <td>79</td>\n",
       "      <td>7</td>\n",
       "    </tr>\n",
       "    <tr>\n",
       "      <th>2241</th>\n",
       "      <td>senatGuest</td>\n",
       "      <td>113506318785</td>\n",
       "      <td>-76</td>\n",
       "      <td>Perpustakaan Pasca</td>\n",
       "      <td>166</td>\n",
       "      <td>7</td>\n",
       "    </tr>\n",
       "    <tr>\n",
       "      <th>2242</th>\n",
       "      <td>ZTE_2.4G_YYsFKz</td>\n",
       "      <td>57330268306608</td>\n",
       "      <td>-87</td>\n",
       "      <td>Perpustakaan Pasca</td>\n",
       "      <td>134</td>\n",
       "      <td>7</td>\n",
       "    </tr>\n",
       "    <tr>\n",
       "      <th>2243</th>\n",
       "      <td>SAS PPNS SBY</td>\n",
       "      <td>246985566369916</td>\n",
       "      <td>-87</td>\n",
       "      <td>Perpustakaan Pasca</td>\n",
       "      <td>113</td>\n",
       "      <td>7</td>\n",
       "    </tr>\n",
       "  </tbody>\n",
       "</table>\n",
       "<p>2244 rows × 6 columns</p>\n",
       "</div>"
      ],
      "text/plain": [
       "                  ssid      mackonversi  rssi              lokasi  \\\n",
       "0                 KRAI  273146522812986   -86     Perpustakaan D4   \n",
       "1          eepisMobile  264428361941459   -85     Perpustakaan D4   \n",
       "2            eepiswlan  211266695032288   -88     Perpustakaan D4   \n",
       "3           eepisGuest  264428361175954   -62     Perpustakaan D4   \n",
       "4           eepisGuest  211266695032290   -87     Perpustakaan D4   \n",
       "...                ...              ...   ...                 ...   \n",
       "2239        eepisGuest  220077978544770   -82  Perpustakaan Pasca   \n",
       "2240  Lab Emerge _ WSC  158746488395693   -80  Perpustakaan Pasca   \n",
       "2241        senatGuest     113506318785   -76  Perpustakaan Pasca   \n",
       "2242   ZTE_2.4G_YYsFKz   57330268306608   -87  Perpustakaan Pasca   \n",
       "2243      SAS PPNS SBY  246985566369916   -87  Perpustakaan Pasca   \n",
       "\n",
       "      ssid_encoded  lokasi_encoded  \n",
       "0               65               6  \n",
       "1              148               6  \n",
       "2              149               6  \n",
       "3              147               6  \n",
       "4              147               6  \n",
       "...            ...             ...  \n",
       "2239           147               7  \n",
       "2240            79               7  \n",
       "2241           166               7  \n",
       "2242           134               7  \n",
       "2243           113               7  \n",
       "\n",
       "[2244 rows x 6 columns]"
      ]
     },
     "execution_count": 9,
     "metadata": {},
     "output_type": "execute_result"
    }
   ],
   "source": [
    "df"
   ]
  },
  {
   "cell_type": "markdown",
   "id": "8a0e3aac",
   "metadata": {},
   "source": [
    "## Visualization"
   ]
  },
  {
   "cell_type": "code",
   "execution_count": 10,
   "id": "a634428d",
   "metadata": {},
   "outputs": [
    {
     "data": {
      "image/png": "[encoded data removed]",
      "text/plain": [
       "<Figure size 800x500 with 1 Axes>"
      ]
     },
     "metadata": {},
     "output_type": "display_data"
    }
   ],
   "source": [
    "import matplotlib.pyplot as plt\n",
    "import seaborn as sns\n",
    "\n",
    "# Ambil top 5 lokasi berdasarkan jumlah data\n",
    "top5_lokasi = df['lokasi'].value_counts().nlargest(5).reset_index()\n",
    "top5_lokasi.columns = ['lokasi', 'jumlah']\n",
    "\n",
    "plt.figure(figsize=(8,5))\n",
    "barplot = sns.barplot(data=top5_lokasi, x='lokasi', y='jumlah', palette='Blues')\n",
    "\n",
    "# Tambahkan angka di atas batang\n",
    "for index, row in top5_lokasi.iterrows():\n",
    "    barplot.text(index, row.jumlah + 0.5,  # posisi teks: sedikit di atas batang\n",
    "                 round(row.jumlah, 0), \n",
    "                 color='black', ha=\"center\")\n",
    "\n",
    "plt.title('Top 5 Lokasi Berdasarkan Jumlah Data')\n",
    "plt.xlabel('Lokasi')\n",
    "plt.ylabel('Jumlah Data')\n",
    "plt.ylim(0, top5_lokasi['jumlah'].max() * 1.1)  # sedikit spasi atas batang\n",
    "plt.show()"
   ]
  },
  {
   "cell_type": "code",
   "execution_count": 11,
   "id": "d97eddb0",
   "metadata": {},
   "outputs": [
    {
     "data": {
      "image/png": "[encoded data removed]",
      "text/plain": [
       "<Figure size 800x500 with 1 Axes>"
      ]
     },
     "metadata": {},
     "output_type": "display_data"
    }
   ],
   "source": [
    "# Cari top 5 lokasi berdasarkan frekuensi kemunculan\n",
    "top5_lokasi = df['lokasi'].value_counts().nlargest(5).index\n",
    "\n",
    "# Filter dataframe hanya untuk lokasi top 5\n",
    "df_top5 = df[df['lokasi'].isin(top5_lokasi)]\n",
    "\n",
    "# Plot boxplot untuk top 5 lokasi\n",
    "plt.figure(figsize=(8,5))\n",
    "sns.boxplot(data=df_top5, x='lokasi', y='rssi')\n",
    "plt.title('Distribusi RSSI Berdasarkan Top 5 Lokasi')\n",
    "plt.xlabel('Lokasi')\n",
    "plt.ylabel('RSSI (Signal Strength)')\n",
    "plt.show()"
   ]
  },
  {
   "cell_type": "markdown",
   "id": "6a6060b0",
   "metadata": {},
   "source": [
    "## Spliting Data"
   ]
  },
  {
   "cell_type": "code",
   "execution_count": 12,
   "id": "ec0dd88c",
   "metadata": {},
   "outputs": [
    {
     "data": {
      "text/html": [
       "<div>\n",
       "<style scoped>\n",
       "    .dataframe tbody tr th:only-of-type {\n",
       "        vertical-align: middle;\n",
       "    }\n",
       "\n",
       "    .dataframe tbody tr th {\n",
       "        vertical-align: top;\n",
       "    }\n",
       "\n",
       "    .dataframe thead th {\n",
       "        text-align: right;\n",
       "    }\n",
       "</style>\n",
       "<table border=\"1\" class=\"dataframe\">\n",
       "  <thead>\n",
       "    <tr style=\"text-align: right;\">\n",
       "      <th></th>\n",
       "      <th>ssid</th>\n",
       "      <th>mackonversi</th>\n",
       "      <th>rssi</th>\n",
       "      <th>lokasi</th>\n",
       "      <th>ssid_encoded</th>\n",
       "      <th>lokasi_encoded</th>\n",
       "    </tr>\n",
       "  </thead>\n",
       "  <tbody>\n",
       "    <tr>\n",
       "      <th>0</th>\n",
       "      <td>KRAI</td>\n",
       "      <td>273146522812986</td>\n",
       "      <td>-86</td>\n",
       "      <td>Perpustakaan D4</td>\n",
       "      <td>65</td>\n",
       "      <td>6</td>\n",
       "    </tr>\n",
       "    <tr>\n",
       "      <th>1</th>\n",
       "      <td>eepisMobile</td>\n",
       "      <td>264428361941459</td>\n",
       "      <td>-85</td>\n",
       "      <td>Perpustakaan D4</td>\n",
       "      <td>148</td>\n",
       "      <td>6</td>\n",
       "    </tr>\n",
       "    <tr>\n",
       "      <th>2</th>\n",
       "      <td>eepiswlan</td>\n",
       "      <td>211266695032288</td>\n",
       "      <td>-88</td>\n",
       "      <td>Perpustakaan D4</td>\n",
       "      <td>149</td>\n",
       "      <td>6</td>\n",
       "    </tr>\n",
       "    <tr>\n",
       "      <th>3</th>\n",
       "      <td>eepisGuest</td>\n",
       "      <td>264428361175954</td>\n",
       "      <td>-62</td>\n",
       "      <td>Perpustakaan D4</td>\n",
       "      <td>147</td>\n",
       "      <td>6</td>\n",
       "    </tr>\n",
       "    <tr>\n",
       "      <th>4</th>\n",
       "      <td>eepisGuest</td>\n",
       "      <td>211266695032290</td>\n",
       "      <td>-87</td>\n",
       "      <td>Perpustakaan D4</td>\n",
       "      <td>147</td>\n",
       "      <td>6</td>\n",
       "    </tr>\n",
       "    <tr>\n",
       "      <th>...</th>\n",
       "      <td>...</td>\n",
       "      <td>...</td>\n",
       "      <td>...</td>\n",
       "      <td>...</td>\n",
       "      <td>...</td>\n",
       "      <td>...</td>\n",
       "    </tr>\n",
       "    <tr>\n",
       "      <th>2239</th>\n",
       "      <td>eepisGuest</td>\n",
       "      <td>220077978544770</td>\n",
       "      <td>-82</td>\n",
       "      <td>Perpustakaan Pasca</td>\n",
       "      <td>147</td>\n",
       "      <td>7</td>\n",
       "    </tr>\n",
       "    <tr>\n",
       "      <th>2240</th>\n",
       "      <td>Lab Emerge _ WSC</td>\n",
       "      <td>158746488395693</td>\n",
       "      <td>-80</td>\n",
       "      <td>Perpustakaan Pasca</td>\n",
       "      <td>79</td>\n",
       "      <td>7</td>\n",
       "    </tr>\n",
       "    <tr>\n",
       "      <th>2241</th>\n",
       "      <td>senatGuest</td>\n",
       "      <td>113506318785</td>\n",
       "      <td>-76</td>\n",
       "      <td>Perpustakaan Pasca</td>\n",
       "      <td>166</td>\n",
       "      <td>7</td>\n",
       "    </tr>\n",
       "    <tr>\n",
       "      <th>2242</th>\n",
       "      <td>ZTE_2.4G_YYsFKz</td>\n",
       "      <td>57330268306608</td>\n",
       "      <td>-87</td>\n",
       "      <td>Perpustakaan Pasca</td>\n",
       "      <td>134</td>\n",
       "      <td>7</td>\n",
       "    </tr>\n",
       "    <tr>\n",
       "      <th>2243</th>\n",
       "      <td>SAS PPNS SBY</td>\n",
       "      <td>246985566369916</td>\n",
       "      <td>-87</td>\n",
       "      <td>Perpustakaan Pasca</td>\n",
       "      <td>113</td>\n",
       "      <td>7</td>\n",
       "    </tr>\n",
       "  </tbody>\n",
       "</table>\n",
       "<p>2244 rows × 6 columns</p>\n",
       "</div>"
      ],
      "text/plain": [
       "                  ssid      mackonversi  rssi              lokasi  \\\n",
       "0                 KRAI  273146522812986   -86     Perpustakaan D4   \n",
       "1          eepisMobile  264428361941459   -85     Perpustakaan D4   \n",
       "2            eepiswlan  211266695032288   -88     Perpustakaan D4   \n",
       "3           eepisGuest  264428361175954   -62     Perpustakaan D4   \n",
       "4           eepisGuest  211266695032290   -87     Perpustakaan D4   \n",
       "...                ...              ...   ...                 ...   \n",
       "2239        eepisGuest  220077978544770   -82  Perpustakaan Pasca   \n",
       "2240  Lab Emerge _ WSC  158746488395693   -80  Perpustakaan Pasca   \n",
       "2241        senatGuest     113506318785   -76  Perpustakaan Pasca   \n",
       "2242   ZTE_2.4G_YYsFKz   57330268306608   -87  Perpustakaan Pasca   \n",
       "2243      SAS PPNS SBY  246985566369916   -87  Perpustakaan Pasca   \n",
       "\n",
       "      ssid_encoded  lokasi_encoded  \n",
       "0               65               6  \n",
       "1              148               6  \n",
       "2              149               6  \n",
       "3              147               6  \n",
       "4              147               6  \n",
       "...            ...             ...  \n",
       "2239           147               7  \n",
       "2240            79               7  \n",
       "2241           166               7  \n",
       "2242           134               7  \n",
       "2243           113               7  \n",
       "\n",
       "[2244 rows x 6 columns]"
      ]
     },
     "execution_count": 12,
     "metadata": {},
     "output_type": "execute_result"
    }
   ],
   "source": [
    "df"
   ]
  },
  {
   "cell_type": "code",
   "execution_count": 13,
   "id": "0690277f",
   "metadata": {},
   "outputs": [],
   "source": [
    "# Gabungkan hasil encoding dengan fitur lain\n",
    "X = pd.concat([mackonversi_encoded, df[['ssid_encoded', 'rssi']]], axis=1)\n",
    "y = df['lokasi_encoded']"
   ]
  },
  {
   "cell_type": "code",
   "execution_count": 14,
   "id": "53c90db9",
   "metadata": {},
   "outputs": [],
   "source": [
    "x_train, x_test, y_train, y_test = train_test_split(X,y,test_size=0.3, random_state=42)"
   ]
  },
  {
   "cell_type": "markdown",
   "id": "7a86fd5a",
   "metadata": {},
   "source": [
    "## Training Model (SVM, NBC, RandomForest, KNN)"
   ]
  },
  {
   "cell_type": "code",
   "execution_count": 15,
   "id": "d1b5c323",
   "metadata": {},
   "outputs": [
    {
     "name": "stdout",
     "output_type": "stream",
     "text": [
      "Fitting 5 folds for each of 120 candidates, totalling 600 fits\n",
      "[CV 1/5] END C=0.1, class_weight=None, gamma=1, kernel=rbf, max_iter=1000;, score=(train=0.167, test=0.169) total time=   0.2s\n",
      "[CV 2/5] END C=0.1, class_weight=None, gamma=1, kernel=rbf, max_iter=1000;, score=(train=0.168, test=0.166) total time=   0.2s\n",
      "[CV 3/5] END C=0.1, class_weight=None, gamma=1, kernel=rbf, max_iter=1000;, score=(train=0.168, test=0.166) total time=   0.2s\n",
      "[CV 4/5] END C=0.1, class_weight=None, gamma=1, kernel=rbf, max_iter=1000;, score=(train=0.167, test=0.169) total time=   0.2s\n",
      "[CV 5/5] END C=0.1, class_weight=None, gamma=1, kernel=rbf, max_iter=1000;, score=(train=0.167, test=0.169) total time=   0.2s\n",
      "[CV 1/5] END C=0.1, class_weight=None, gamma=1, kernel=rbf, max_iter=5000;, score=(train=0.167, test=0.169) total time=   0.2s\n",
      "[CV 2/5] END C=0.1, class_weight=None, gamma=1, kernel=rbf, max_iter=5000;, score=(train=0.168, test=0.166) total time=   0.3s\n",
      "[CV 3/5] END C=0.1, class_weight=None, gamma=1, kernel=rbf, max_iter=5000;, score=(train=0.168, test=0.166) total time=   0.2s\n",
      "[CV 4/5] END C=0.1, class_weight=None, gamma=1, kernel=rbf, max_iter=5000;, score=(train=0.167, test=0.169) total time=   0.2s\n",
      "[CV 5/5] END C=0.1, class_weight=None, gamma=1, kernel=rbf, max_iter=5000;, score=(train=0.167, test=0.169) total time=   0.3s\n",
      "[CV 1/5] END C=0.1, class_weight=None, gamma=1, kernel=rbf, max_iter=10000;, score=(train=0.167, test=0.169) total time=   0.2s\n",
      "[CV 2/5] END C=0.1, class_weight=None, gamma=1, kernel=rbf, max_iter=10000;, score=(train=0.168, test=0.166) total time=   0.2s\n",
      "[CV 3/5] END C=0.1, class_weight=None, gamma=1, kernel=rbf, max_iter=10000;, score=(train=0.168, test=0.166) total time=   0.2s\n",
      "[CV 4/5] END C=0.1, class_weight=None, gamma=1, kernel=rbf, max_iter=10000;, score=(train=0.167, test=0.169) total time=   0.2s\n",
      "[CV 5/5] END C=0.1, class_weight=None, gamma=1, kernel=rbf, max_iter=10000;, score=(train=0.167, test=0.169) total time=   0.2s\n",
      "[CV 1/5] END C=0.1, class_weight=None, gamma=0.1, kernel=rbf, max_iter=1000;, score=(train=0.240, test=0.204) total time=   0.2s\n",
      "[CV 2/5] END C=0.1, class_weight=None, gamma=0.1, kernel=rbf, max_iter=1000;, score=(train=0.229, test=0.194) total time=   0.2s\n",
      "[CV 3/5] END C=0.1, class_weight=None, gamma=0.1, kernel=rbf, max_iter=1000;, score=(train=0.221, test=0.194) total time=   0.2s\n",
      "[CV 4/5] END C=0.1, class_weight=None, gamma=0.1, kernel=rbf, max_iter=1000;, score=(train=0.189, test=0.188) total time=   0.2s\n",
      "[CV 5/5] END C=0.1, class_weight=None, gamma=0.1, kernel=rbf, max_iter=1000;, score=(train=0.223, test=0.194) total time=   0.2s\n",
      "[CV 1/5] END C=0.1, class_weight=None, gamma=0.1, kernel=rbf, max_iter=5000;, score=(train=0.240, test=0.204) total time=   0.2s\n",
      "[CV 2/5] END C=0.1, class_weight=None, gamma=0.1, kernel=rbf, max_iter=5000;, score=(train=0.229, test=0.194) total time=   0.2s\n",
      "[CV 3/5] END C=0.1, class_weight=None, gamma=0.1, kernel=rbf, max_iter=5000;, score=(train=0.221, test=0.194) total time=   0.2s\n",
      "[CV 4/5] END C=0.1, class_weight=None, gamma=0.1, kernel=rbf, max_iter=5000;, score=(train=0.189, test=0.188) total time=   0.2s\n",
      "[CV 5/5] END C=0.1, class_weight=None, gamma=0.1, kernel=rbf, max_iter=5000;, score=(train=0.223, test=0.194) total time=   0.2s\n",
      "[CV 1/5] END C=0.1, class_weight=None, gamma=0.1, kernel=rbf, max_iter=10000;, score=(train=0.240, test=0.204) total time=   0.2s\n",
      "[CV 2/5] END C=0.1, class_weight=None, gamma=0.1, kernel=rbf, max_iter=10000;, score=(train=0.229, test=0.194) total time=   0.2s\n",
      "[CV 3/5] END C=0.1, class_weight=None, gamma=0.1, kernel=rbf, max_iter=10000;, score=(train=0.221, test=0.194) total time=   0.2s\n",
      "[CV 4/5] END C=0.1, class_weight=None, gamma=0.1, kernel=rbf, max_iter=10000;, score=(train=0.189, test=0.188) total time=   0.2s\n",
      "[CV 5/5] END C=0.1, class_weight=None, gamma=0.1, kernel=rbf, max_iter=10000;, score=(train=0.223, test=0.194) total time=   0.2s\n",
      "[CV 1/5] END C=0.1, class_weight=None, gamma=0.01, kernel=rbf, max_iter=1000;, score=(train=0.332, test=0.255) total time=   0.2s\n",
      "[CV 2/5] END C=0.1, class_weight=None, gamma=0.01, kernel=rbf, max_iter=1000;, score=(train=0.314, test=0.277) total time=   0.2s\n",
      "[CV 3/5] END C=0.1, class_weight=None, gamma=0.01, kernel=rbf, max_iter=1000;, score=(train=0.307, test=0.303) total time=   0.2s\n",
      "[CV 4/5] END C=0.1, class_weight=None, gamma=0.01, kernel=rbf, max_iter=1000;, score=(train=0.309, test=0.290) total time=   0.2s\n",
      "[CV 5/5] END C=0.1, class_weight=None, gamma=0.01, kernel=rbf, max_iter=1000;, score=(train=0.320, test=0.303) total time=   0.2s\n",
      "[CV 1/5] END C=0.1, class_weight=None, gamma=0.01, kernel=rbf, max_iter=5000;, score=(train=0.332, test=0.255) total time=   0.2s\n",
      "[CV 2/5] END C=0.1, class_weight=None, gamma=0.01, kernel=rbf, max_iter=5000;, score=(train=0.314, test=0.277) total time=   0.2s\n",
      "[CV 3/5] END C=0.1, class_weight=None, gamma=0.01, kernel=rbf, max_iter=5000;, score=(train=0.307, test=0.303) total time=   0.2s\n",
      "[CV 4/5] END C=0.1, class_weight=None, gamma=0.01, kernel=rbf, max_iter=5000;, score=(train=0.309, test=0.290) total time=   0.2s\n",
      "[CV 5/5] END C=0.1, class_weight=None, gamma=0.01, kernel=rbf, max_iter=5000;, score=(train=0.320, test=0.303) total time=   0.2s\n",
      "[CV 1/5] END C=0.1, class_weight=None, gamma=0.01, kernel=rbf, max_iter=10000;, score=(train=0.332, test=0.255) total time=   0.2s\n",
      "[CV 2/5] END C=0.1, class_weight=None, gamma=0.01, kernel=rbf, max_iter=10000;, score=(train=0.314, test=0.277) total time=   0.2s\n",
      "[CV 3/5] END C=0.1, class_weight=None, gamma=0.01, kernel=rbf, max_iter=10000;, score=(train=0.307, test=0.303) total time=   0.2s\n",
      "[CV 4/5] END C=0.1, class_weight=None, gamma=0.01, kernel=rbf, max_iter=10000;, score=(train=0.309, test=0.290) total time=   0.2s\n",
      "[CV 5/5] END C=0.1, class_weight=None, gamma=0.01, kernel=rbf, max_iter=10000;, score=(train=0.320, test=0.303) total time=   0.2s\n",
      "[CV 1/5] END C=0.1, class_weight=None, gamma=0.001, kernel=rbf, max_iter=1000;, score=(train=0.248, test=0.207) total time=   0.2s\n",
      "[CV 2/5] END C=0.1, class_weight=None, gamma=0.001, kernel=rbf, max_iter=1000;, score=(train=0.250, test=0.236) total time=   0.2s\n",
      "[CV 3/5] END C=0.1, class_weight=None, gamma=0.001, kernel=rbf, max_iter=1000;, score=(train=0.252, test=0.239) total time=   0.2s\n",
      "[CV 4/5] END C=0.1, class_weight=None, gamma=0.001, kernel=rbf, max_iter=1000;, score=(train=0.246, test=0.236) total time=   0.2s\n",
      "[CV 5/5] END C=0.1, class_weight=None, gamma=0.001, kernel=rbf, max_iter=1000;, score=(train=0.244, test=0.248) total time=   0.2s\n",
      "[CV 1/5] END C=0.1, class_weight=None, gamma=0.001, kernel=rbf, max_iter=5000;, score=(train=0.248, test=0.207) total time=   0.2s\n",
      "[CV 2/5] END C=0.1, class_weight=None, gamma=0.001, kernel=rbf, max_iter=5000;, score=(train=0.250, test=0.236) total time=   0.2s\n",
      "[CV 3/5] END C=0.1, class_weight=None, gamma=0.001, kernel=rbf, max_iter=5000;, score=(train=0.252, test=0.239) total time=   0.2s\n",
      "[CV 4/5] END C=0.1, class_weight=None, gamma=0.001, kernel=rbf, max_iter=5000;, score=(train=0.246, test=0.236) total time=   0.2s\n",
      "[CV 5/5] END C=0.1, class_weight=None, gamma=0.001, kernel=rbf, max_iter=5000;, score=(train=0.244, test=0.248) total time=   0.2s\n",
      "[CV 1/5] END C=0.1, class_weight=None, gamma=0.001, kernel=rbf, max_iter=10000;, score=(train=0.248, test=0.207) total time=   0.2s\n",
      "[CV 2/5] END C=0.1, class_weight=None, gamma=0.001, kernel=rbf, max_iter=10000;, score=(train=0.250, test=0.236) total time=   0.2s\n",
      "[CV 3/5] END C=0.1, class_weight=None, gamma=0.001, kernel=rbf, max_iter=10000;, score=(train=0.252, test=0.239) total time=   0.1s\n",
      "[CV 4/5] END C=0.1, class_weight=None, gamma=0.001, kernel=rbf, max_iter=10000;, score=(train=0.246, test=0.236) total time=   0.2s\n",
      "[CV 5/5] END C=0.1, class_weight=None, gamma=0.001, kernel=rbf, max_iter=10000;, score=(train=0.244, test=0.248) total time=   0.2s\n",
      "[CV 1/5] END C=0.1, class_weight=None, gamma=0.0001, kernel=rbf, max_iter=1000;, score=(train=0.220, test=0.194) total time=   0.2s\n",
      "[CV 2/5] END C=0.1, class_weight=None, gamma=0.0001, kernel=rbf, max_iter=1000;, score=(train=0.197, test=0.204) total time=   0.2s\n",
      "[CV 3/5] END C=0.1, class_weight=None, gamma=0.0001, kernel=rbf, max_iter=1000;, score=(train=0.194, test=0.201) total time=   0.2s\n",
      "[CV 4/5] END C=0.1, class_weight=None, gamma=0.0001, kernel=rbf, max_iter=1000;, score=(train=0.195, test=0.185) total time=   0.2s\n",
      "[CV 5/5] END C=0.1, class_weight=None, gamma=0.0001, kernel=rbf, max_iter=1000;, score=(train=0.221, test=0.207) total time=   0.2s\n",
      "[CV 1/5] END C=0.1, class_weight=None, gamma=0.0001, kernel=rbf, max_iter=5000;, score=(train=0.220, test=0.194) total time=   0.2s\n",
      "[CV 2/5] END C=0.1, class_weight=None, gamma=0.0001, kernel=rbf, max_iter=5000;, score=(train=0.197, test=0.204) total time=   0.2s\n",
      "[CV 3/5] END C=0.1, class_weight=None, gamma=0.0001, kernel=rbf, max_iter=5000;, score=(train=0.194, test=0.201) total time=   0.2s\n",
      "[CV 4/5] END C=0.1, class_weight=None, gamma=0.0001, kernel=rbf, max_iter=5000;, score=(train=0.195, test=0.185) total time=   0.2s\n",
      "[CV 5/5] END C=0.1, class_weight=None, gamma=0.0001, kernel=rbf, max_iter=5000;, score=(train=0.221, test=0.207) total time=   0.2s\n",
      "[CV 1/5] END C=0.1, class_weight=None, gamma=0.0001, kernel=rbf, max_iter=10000;, score=(train=0.220, test=0.194) total time=   0.2s\n",
      "[CV 2/5] END C=0.1, class_weight=None, gamma=0.0001, kernel=rbf, max_iter=10000;, score=(train=0.197, test=0.204) total time=   0.2s\n",
      "[CV 3/5] END C=0.1, class_weight=None, gamma=0.0001, kernel=rbf, max_iter=10000;, score=(train=0.194, test=0.201) total time=   0.2s\n",
      "[CV 4/5] END C=0.1, class_weight=None, gamma=0.0001, kernel=rbf, max_iter=10000;, score=(train=0.195, test=0.185) total time=   0.2s\n",
      "[CV 5/5] END C=0.1, class_weight=None, gamma=0.0001, kernel=rbf, max_iter=10000;, score=(train=0.221, test=0.207) total time=   0.2s\n",
      "[CV 1/5] END C=0.1, class_weight=balanced, gamma=1, kernel=rbf, max_iter=1000;, score=(train=0.075, test=0.070) total time=   0.2s\n",
      "[CV 2/5] END C=0.1, class_weight=balanced, gamma=1, kernel=rbf, max_iter=1000;, score=(train=0.168, test=0.166) total time=   0.2s\n",
      "[CV 3/5] END C=0.1, class_weight=balanced, gamma=1, kernel=rbf, max_iter=1000;, score=(train=0.168, test=0.166) total time=   0.2s\n",
      "[CV 4/5] END C=0.1, class_weight=balanced, gamma=1, kernel=rbf, max_iter=1000;, score=(train=0.143, test=0.118) total time=   0.2s\n",
      "[CV 5/5] END C=0.1, class_weight=balanced, gamma=1, kernel=rbf, max_iter=1000;, score=(train=0.127, test=0.124) total time=   0.2s\n",
      "[CV 1/5] END C=0.1, class_weight=balanced, gamma=1, kernel=rbf, max_iter=5000;, score=(train=0.075, test=0.070) total time=   0.2s\n",
      "[CV 2/5] END C=0.1, class_weight=balanced, gamma=1, kernel=rbf, max_iter=5000;, score=(train=0.168, test=0.166) total time=   0.2s\n",
      "[CV 3/5] END C=0.1, class_weight=balanced, gamma=1, kernel=rbf, max_iter=5000;, score=(train=0.168, test=0.166) total time=   0.2s\n",
      "[CV 4/5] END C=0.1, class_weight=balanced, gamma=1, kernel=rbf, max_iter=5000;, score=(train=0.143, test=0.118) total time=   0.2s\n",
      "[CV 5/5] END C=0.1, class_weight=balanced, gamma=1, kernel=rbf, max_iter=5000;, score=(train=0.127, test=0.124) total time=   0.2s\n",
      "[CV 1/5] END C=0.1, class_weight=balanced, gamma=1, kernel=rbf, max_iter=10000;, score=(train=0.075, test=0.070) total time=   0.2s\n",
      "[CV 2/5] END C=0.1, class_weight=balanced, gamma=1, kernel=rbf, max_iter=10000;, score=(train=0.168, test=0.166) total time=   0.2s\n",
      "[CV 3/5] END C=0.1, class_weight=balanced, gamma=1, kernel=rbf, max_iter=10000;, score=(train=0.168, test=0.166) total time=   0.3s\n",
      "[CV 4/5] END C=0.1, class_weight=balanced, gamma=1, kernel=rbf, max_iter=10000;, score=(train=0.143, test=0.118) total time=   0.2s\n",
      "[CV 5/5] END C=0.1, class_weight=balanced, gamma=1, kernel=rbf, max_iter=10000;, score=(train=0.127, test=0.124) total time=   0.2s\n",
      "[CV 1/5] END C=0.1, class_weight=balanced, gamma=0.1, kernel=rbf, max_iter=1000;, score=(train=0.346, test=0.258) total time=   0.2s\n",
      "[CV 2/5] END C=0.1, class_weight=balanced, gamma=0.1, kernel=rbf, max_iter=1000;, score=(train=0.313, test=0.264) total time=   0.2s\n",
      "[CV 3/5] END C=0.1, class_weight=balanced, gamma=0.1, kernel=rbf, max_iter=1000;, score=(train=0.318, test=0.242) total time=   0.2s\n",
      "[CV 4/5] END C=0.1, class_weight=balanced, gamma=0.1, kernel=rbf, max_iter=1000;, score=(train=0.316, test=0.315) total time=   0.2s\n",
      "[CV 5/5] END C=0.1, class_weight=balanced, gamma=0.1, kernel=rbf, max_iter=1000;, score=(train=0.343, test=0.277) total time=   0.2s\n",
      "[CV 1/5] END C=0.1, class_weight=balanced, gamma=0.1, kernel=rbf, max_iter=5000;, score=(train=0.346, test=0.258) total time=   0.2s\n",
      "[CV 2/5] END C=0.1, class_weight=balanced, gamma=0.1, kernel=rbf, max_iter=5000;, score=(train=0.313, test=0.264) total time=   0.2s\n",
      "[CV 3/5] END C=0.1, class_weight=balanced, gamma=0.1, kernel=rbf, max_iter=5000;, score=(train=0.318, test=0.242) total time=   0.2s\n",
      "[CV 4/5] END C=0.1, class_weight=balanced, gamma=0.1, kernel=rbf, max_iter=5000;, score=(train=0.316, test=0.315) total time=   0.2s\n",
      "[CV 5/5] END C=0.1, class_weight=balanced, gamma=0.1, kernel=rbf, max_iter=5000;, score=(train=0.343, test=0.277) total time=   0.2s\n",
      "[CV 1/5] END C=0.1, class_weight=balanced, gamma=0.1, kernel=rbf, max_iter=10000;, score=(train=0.346, test=0.258) total time=   0.2s\n",
      "[CV 2/5] END C=0.1, class_weight=balanced, gamma=0.1, kernel=rbf, max_iter=10000;, score=(train=0.313, test=0.264) total time=   0.2s\n",
      "[CV 3/5] END C=0.1, class_weight=balanced, gamma=0.1, kernel=rbf, max_iter=10000;, score=(train=0.318, test=0.242) total time=   0.2s\n",
      "[CV 4/5] END C=0.1, class_weight=balanced, gamma=0.1, kernel=rbf, max_iter=10000;, score=(train=0.316, test=0.315) total time=   0.2s\n",
      "[CV 5/5] END C=0.1, class_weight=balanced, gamma=0.1, kernel=rbf, max_iter=10000;, score=(train=0.343, test=0.277) total time=   0.2s\n",
      "[CV 1/5] END C=0.1, class_weight=balanced, gamma=0.01, kernel=rbf, max_iter=1000;, score=(train=0.319, test=0.242) total time=   0.2s\n",
      "[CV 2/5] END C=0.1, class_weight=balanced, gamma=0.01, kernel=rbf, max_iter=1000;, score=(train=0.295, test=0.274) total time=   0.2s\n",
      "[CV 3/5] END C=0.1, class_weight=balanced, gamma=0.01, kernel=rbf, max_iter=1000;, score=(train=0.293, test=0.268) total time=   0.2s\n",
      "[CV 4/5] END C=0.1, class_weight=balanced, gamma=0.01, kernel=rbf, max_iter=1000;, score=(train=0.292, test=0.309) total time=   0.2s\n",
      "[CV 5/5] END C=0.1, class_weight=balanced, gamma=0.01, kernel=rbf, max_iter=1000;, score=(train=0.312, test=0.264) total time=   0.2s\n",
      "[CV 1/5] END C=0.1, class_weight=balanced, gamma=0.01, kernel=rbf, max_iter=5000;, score=(train=0.319, test=0.242) total time=   0.2s\n",
      "[CV 2/5] END C=0.1, class_weight=balanced, gamma=0.01, kernel=rbf, max_iter=5000;, score=(train=0.295, test=0.274) total time=   0.2s\n",
      "[CV 3/5] END C=0.1, class_weight=balanced, gamma=0.01, kernel=rbf, max_iter=5000;, score=(train=0.293, test=0.268) total time=   0.2s\n",
      "[CV 4/5] END C=0.1, class_weight=balanced, gamma=0.01, kernel=rbf, max_iter=5000;, score=(train=0.292, test=0.309) total time=   0.2s\n",
      "[CV 5/5] END C=0.1, class_weight=balanced, gamma=0.01, kernel=rbf, max_iter=5000;, score=(train=0.312, test=0.264) total time=   0.2s\n",
      "[CV 1/5] END C=0.1, class_weight=balanced, gamma=0.01, kernel=rbf, max_iter=10000;, score=(train=0.319, test=0.242) total time=   0.2s\n",
      "[CV 2/5] END C=0.1, class_weight=balanced, gamma=0.01, kernel=rbf, max_iter=10000;, score=(train=0.295, test=0.274) total time=   0.2s\n",
      "[CV 3/5] END C=0.1, class_weight=balanced, gamma=0.01, kernel=rbf, max_iter=10000;, score=(train=0.293, test=0.268) total time=   0.2s\n",
      "[CV 4/5] END C=0.1, class_weight=balanced, gamma=0.01, kernel=rbf, max_iter=10000;, score=(train=0.292, test=0.309) total time=   0.2s\n",
      "[CV 5/5] END C=0.1, class_weight=balanced, gamma=0.01, kernel=rbf, max_iter=10000;, score=(train=0.312, test=0.264) total time=   0.2s\n",
      "[CV 1/5] END C=0.1, class_weight=balanced, gamma=0.001, kernel=rbf, max_iter=1000;, score=(train=0.261, test=0.191) total time=   0.2s\n",
      "[CV 2/5] END C=0.1, class_weight=balanced, gamma=0.001, kernel=rbf, max_iter=1000;, score=(train=0.245, test=0.255) total time=   0.2s\n",
      "[CV 3/5] END C=0.1, class_weight=balanced, gamma=0.001, kernel=rbf, max_iter=1000;, score=(train=0.258, test=0.264) total time=   0.2s\n",
      "[CV 4/5] END C=0.1, class_weight=balanced, gamma=0.001, kernel=rbf, max_iter=1000;, score=(train=0.253, test=0.264) total time=   0.2s\n",
      "[CV 5/5] END C=0.1, class_weight=balanced, gamma=0.001, kernel=rbf, max_iter=1000;, score=(train=0.246, test=0.245) total time=   0.2s\n",
      "[CV 1/5] END C=0.1, class_weight=balanced, gamma=0.001, kernel=rbf, max_iter=5000;, score=(train=0.261, test=0.191) total time=   0.2s\n",
      "[CV 2/5] END C=0.1, class_weight=balanced, gamma=0.001, kernel=rbf, max_iter=5000;, score=(train=0.245, test=0.255) total time=   0.2s\n",
      "[CV 3/5] END C=0.1, class_weight=balanced, gamma=0.001, kernel=rbf, max_iter=5000;, score=(train=0.258, test=0.264) total time=   0.2s\n",
      "[CV 4/5] END C=0.1, class_weight=balanced, gamma=0.001, kernel=rbf, max_iter=5000;, score=(train=0.253, test=0.264) total time=   0.2s\n",
      "[CV 5/5] END C=0.1, class_weight=balanced, gamma=0.001, kernel=rbf, max_iter=5000;, score=(train=0.246, test=0.245) total time=   0.2s\n",
      "[CV 1/5] END C=0.1, class_weight=balanced, gamma=0.001, kernel=rbf, max_iter=10000;, score=(train=0.261, test=0.191) total time=   0.2s\n",
      "[CV 2/5] END C=0.1, class_weight=balanced, gamma=0.001, kernel=rbf, max_iter=10000;, score=(train=0.245, test=0.255) total time=   0.2s\n",
      "[CV 3/5] END C=0.1, class_weight=balanced, gamma=0.001, kernel=rbf, max_iter=10000;, score=(train=0.258, test=0.264) total time=   0.2s\n",
      "[CV 4/5] END C=0.1, class_weight=balanced, gamma=0.001, kernel=rbf, max_iter=10000;, score=(train=0.253, test=0.264) total time=   0.2s\n",
      "[CV 5/5] END C=0.1, class_weight=balanced, gamma=0.001, kernel=rbf, max_iter=10000;, score=(train=0.246, test=0.245) total time=   0.2s\n",
      "[CV 1/5] END C=0.1, class_weight=balanced, gamma=0.0001, kernel=rbf, max_iter=1000;, score=(train=0.219, test=0.194) total time=   0.2s\n",
      "[CV 2/5] END C=0.1, class_weight=balanced, gamma=0.0001, kernel=rbf, max_iter=1000;, score=(train=0.215, test=0.213) total time=   0.2s\n",
      "[CV 3/5] END C=0.1, class_weight=balanced, gamma=0.0001, kernel=rbf, max_iter=1000;, score=(train=0.213, test=0.223) total time=   0.2s\n",
      "[CV 4/5] END C=0.1, class_weight=balanced, gamma=0.0001, kernel=rbf, max_iter=1000;, score=(train=0.206, test=0.220) total time=   0.2s\n",
      "[CV 5/5] END C=0.1, class_weight=balanced, gamma=0.0001, kernel=rbf, max_iter=1000;, score=(train=0.152, test=0.127) total time=   0.2s\n",
      "[CV 1/5] END C=0.1, class_weight=balanced, gamma=0.0001, kernel=rbf, max_iter=5000;, score=(train=0.219, test=0.194) total time=   0.2s\n",
      "[CV 2/5] END C=0.1, class_weight=balanced, gamma=0.0001, kernel=rbf, max_iter=5000;, score=(train=0.215, test=0.213) total time=   0.2s\n",
      "[CV 3/5] END C=0.1, class_weight=balanced, gamma=0.0001, kernel=rbf, max_iter=5000;, score=(train=0.213, test=0.223) total time=   0.2s\n",
      "[CV 4/5] END C=0.1, class_weight=balanced, gamma=0.0001, kernel=rbf, max_iter=5000;, score=(train=0.206, test=0.220) total time=   0.2s\n",
      "[CV 5/5] END C=0.1, class_weight=balanced, gamma=0.0001, kernel=rbf, max_iter=5000;, score=(train=0.152, test=0.127) total time=   0.2s\n",
      "[CV 1/5] END C=0.1, class_weight=balanced, gamma=0.0001, kernel=rbf, max_iter=10000;, score=(train=0.219, test=0.194) total time=   0.2s\n",
      "[CV 2/5] END C=0.1, class_weight=balanced, gamma=0.0001, kernel=rbf, max_iter=10000;, score=(train=0.215, test=0.213) total time=   0.2s\n",
      "[CV 3/5] END C=0.1, class_weight=balanced, gamma=0.0001, kernel=rbf, max_iter=10000;, score=(train=0.213, test=0.223) total time=   0.2s\n",
      "[CV 4/5] END C=0.1, class_weight=balanced, gamma=0.0001, kernel=rbf, max_iter=10000;, score=(train=0.206, test=0.220) total time=   0.2s\n",
      "[CV 5/5] END C=0.1, class_weight=balanced, gamma=0.0001, kernel=rbf, max_iter=10000;, score=(train=0.152, test=0.127) total time=   0.2s\n",
      "[CV 1/5] END C=1, class_weight=None, gamma=1, kernel=rbf, max_iter=1000;, score=(train=0.976, test=0.462) total time=   0.2s\n",
      "[CV 2/5] END C=1, class_weight=None, gamma=1, kernel=rbf, max_iter=1000;, score=(train=0.973, test=0.433) total time=   0.2s\n",
      "[CV 3/5] END C=1, class_weight=None, gamma=1, kernel=rbf, max_iter=1000;, score=(train=0.977, test=0.452) total time=   0.2s\n",
      "[CV 4/5] END C=1, class_weight=None, gamma=1, kernel=rbf, max_iter=1000;, score=(train=0.973, test=0.484) total time=   0.2s\n",
      "[CV 5/5] END C=1, class_weight=None, gamma=1, kernel=rbf, max_iter=1000;, score=(train=0.977, test=0.494) total time=   0.2s\n",
      "[CV 1/5] END C=1, class_weight=None, gamma=1, kernel=rbf, max_iter=5000;, score=(train=0.976, test=0.462) total time=   0.2s\n",
      "[CV 2/5] END C=1, class_weight=None, gamma=1, kernel=rbf, max_iter=5000;, score=(train=0.973, test=0.433) total time=   0.2s\n",
      "[CV 3/5] END C=1, class_weight=None, gamma=1, kernel=rbf, max_iter=5000;, score=(train=0.977, test=0.452) total time=   0.2s\n",
      "[CV 4/5] END C=1, class_weight=None, gamma=1, kernel=rbf, max_iter=5000;, score=(train=0.973, test=0.484) total time=   0.2s\n",
      "[CV 5/5] END C=1, class_weight=None, gamma=1, kernel=rbf, max_iter=5000;, score=(train=0.977, test=0.494) total time=   0.2s\n",
      "[CV 1/5] END C=1, class_weight=None, gamma=1, kernel=rbf, max_iter=10000;, score=(train=0.976, test=0.462) total time=   0.2s\n",
      "[CV 2/5] END C=1, class_weight=None, gamma=1, kernel=rbf, max_iter=10000;, score=(train=0.973, test=0.433) total time=   0.2s\n",
      "[CV 3/5] END C=1, class_weight=None, gamma=1, kernel=rbf, max_iter=10000;, score=(train=0.977, test=0.452) total time=   0.2s\n",
      "[CV 4/5] END C=1, class_weight=None, gamma=1, kernel=rbf, max_iter=10000;, score=(train=0.973, test=0.484) total time=   0.2s\n",
      "[CV 5/5] END C=1, class_weight=None, gamma=1, kernel=rbf, max_iter=10000;, score=(train=0.977, test=0.494) total time=   0.2s\n",
      "[CV 1/5] END C=1, class_weight=None, gamma=0.1, kernel=rbf, max_iter=1000;, score=(train=0.643, test=0.408) total time=   0.2s\n",
      "[CV 2/5] END C=1, class_weight=None, gamma=0.1, kernel=rbf, max_iter=1000;, score=(train=0.653, test=0.395) total time=   0.2s\n",
      "[CV 3/5] END C=1, class_weight=None, gamma=0.1, kernel=rbf, max_iter=1000;, score=(train=0.643, test=0.417) total time=   0.2s\n",
      "[CV 4/5] END C=1, class_weight=None, gamma=0.1, kernel=rbf, max_iter=1000;, score=(train=0.615, test=0.500) total time=   0.2s\n",
      "[CV 5/5] END C=1, class_weight=None, gamma=0.1, kernel=rbf, max_iter=1000;, score=(train=0.630, test=0.481) total time=   0.2s\n",
      "[CV 1/5] END C=1, class_weight=None, gamma=0.1, kernel=rbf, max_iter=5000;, score=(train=0.643, test=0.408) total time=   0.2s\n",
      "[CV 2/5] END C=1, class_weight=None, gamma=0.1, kernel=rbf, max_iter=5000;, score=(train=0.653, test=0.395) total time=   0.2s\n",
      "[CV 3/5] END C=1, class_weight=None, gamma=0.1, kernel=rbf, max_iter=5000;, score=(train=0.643, test=0.417) total time=   0.2s\n",
      "[CV 4/5] END C=1, class_weight=None, gamma=0.1, kernel=rbf, max_iter=5000;, score=(train=0.615, test=0.500) total time=   0.2s\n",
      "[CV 5/5] END C=1, class_weight=None, gamma=0.1, kernel=rbf, max_iter=5000;, score=(train=0.630, test=0.481) total time=   0.2s\n",
      "[CV 1/5] END C=1, class_weight=None, gamma=0.1, kernel=rbf, max_iter=10000;, score=(train=0.643, test=0.408) total time=   0.2s\n",
      "[CV 2/5] END C=1, class_weight=None, gamma=0.1, kernel=rbf, max_iter=10000;, score=(train=0.653, test=0.395) total time=   0.2s\n",
      "[CV 3/5] END C=1, class_weight=None, gamma=0.1, kernel=rbf, max_iter=10000;, score=(train=0.643, test=0.417) total time=   0.2s\n",
      "[CV 4/5] END C=1, class_weight=None, gamma=0.1, kernel=rbf, max_iter=10000;, score=(train=0.615, test=0.500) total time=   0.2s\n",
      "[CV 5/5] END C=1, class_weight=None, gamma=0.1, kernel=rbf, max_iter=10000;, score=(train=0.630, test=0.481) total time=   0.2s\n"
     ]
    },
    {
     "name": "stderr",
     "output_type": "stream",
     "text": [
      "c:\\Users\\Muhammad Ade Aulia\\miniconda3\\envs\\gpu_load\\lib\\site-packages\\sklearn\\svm\\_base.py:305: ConvergenceWarning: Solver terminated early (max_iter=1000).  Consider pre-processing your data with StandardScaler or MinMaxScaler.\n",
      "  warnings.warn(\n"
     ]
    },
    {
     "name": "stdout",
     "output_type": "stream",
     "text": [
      "[CV 1/5] END C=1, class_weight=None, gamma=0.01, kernel=rbf, max_iter=1000;, score=(train=0.427, test=0.334) total time=   0.1s\n",
      "[CV 2/5] END C=1, class_weight=None, gamma=0.01, kernel=rbf, max_iter=1000;, score=(train=0.428, test=0.344) total time=   0.1s\n",
      "[CV 3/5] END C=1, class_weight=None, gamma=0.01, kernel=rbf, max_iter=1000;, score=(train=0.412, test=0.344) total time=   0.1s\n",
      "[CV 4/5] END C=1, class_weight=None, gamma=0.01, kernel=rbf, max_iter=1000;, score=(train=0.405, test=0.376) total time=   0.1s\n",
      "[CV 5/5] END C=1, class_weight=None, gamma=0.01, kernel=rbf, max_iter=1000;, score=(train=0.421, test=0.334) total time=   0.1s\n",
      "[CV 1/5] END C=1, class_weight=None, gamma=0.01, kernel=rbf, max_iter=5000;, score=(train=0.427, test=0.334) total time=   0.1s\n",
      "[CV 2/5] END C=1, class_weight=None, gamma=0.01, kernel=rbf, max_iter=5000;, score=(train=0.428, test=0.344) total time=   0.1s\n",
      "[CV 3/5] END C=1, class_weight=None, gamma=0.01, kernel=rbf, max_iter=5000;, score=(train=0.412, test=0.344) total time=   0.1s\n",
      "[CV 4/5] END C=1, class_weight=None, gamma=0.01, kernel=rbf, max_iter=5000;, score=(train=0.405, test=0.376) total time=   0.1s\n",
      "[CV 5/5] END C=1, class_weight=None, gamma=0.01, kernel=rbf, max_iter=5000;, score=(train=0.421, test=0.334) total time=   0.1s\n",
      "[CV 1/5] END C=1, class_weight=None, gamma=0.01, kernel=rbf, max_iter=10000;, score=(train=0.427, test=0.334) total time=   0.1s\n",
      "[CV 2/5] END C=1, class_weight=None, gamma=0.01, kernel=rbf, max_iter=10000;, score=(train=0.428, test=0.344) total time=   0.1s\n",
      "[CV 3/5] END C=1, class_weight=None, gamma=0.01, kernel=rbf, max_iter=10000;, score=(train=0.412, test=0.344) total time=   0.1s\n",
      "[CV 4/5] END C=1, class_weight=None, gamma=0.01, kernel=rbf, max_iter=10000;, score=(train=0.405, test=0.376) total time=   0.1s\n",
      "[CV 5/5] END C=1, class_weight=None, gamma=0.01, kernel=rbf, max_iter=10000;, score=(train=0.421, test=0.334) total time=   0.1s\n",
      "[CV 1/5] END C=1, class_weight=None, gamma=0.001, kernel=rbf, max_iter=1000;, score=(train=0.324, test=0.248) total time=   0.1s\n",
      "[CV 2/5] END C=1, class_weight=None, gamma=0.001, kernel=rbf, max_iter=1000;, score=(train=0.315, test=0.322) total time=   0.1s\n",
      "[CV 3/5] END C=1, class_weight=None, gamma=0.001, kernel=rbf, max_iter=1000;, score=(train=0.314, test=0.290) total time=   0.1s\n",
      "[CV 4/5] END C=1, class_weight=None, gamma=0.001, kernel=rbf, max_iter=1000;, score=(train=0.311, test=0.318) total time=   0.1s\n",
      "[CV 5/5] END C=1, class_weight=None, gamma=0.001, kernel=rbf, max_iter=1000;, score=(train=0.311, test=0.299) total time=   0.1s\n",
      "[CV 1/5] END C=1, class_weight=None, gamma=0.001, kernel=rbf, max_iter=5000;, score=(train=0.324, test=0.248) total time=   0.1s\n",
      "[CV 2/5] END C=1, class_weight=None, gamma=0.001, kernel=rbf, max_iter=5000;, score=(train=0.315, test=0.322) total time=   0.1s\n",
      "[CV 3/5] END C=1, class_weight=None, gamma=0.001, kernel=rbf, max_iter=5000;, score=(train=0.314, test=0.290) total time=   0.2s\n",
      "[CV 4/5] END C=1, class_weight=None, gamma=0.001, kernel=rbf, max_iter=5000;, score=(train=0.311, test=0.318) total time=   0.2s\n",
      "[CV 5/5] END C=1, class_weight=None, gamma=0.001, kernel=rbf, max_iter=5000;, score=(train=0.311, test=0.299) total time=   0.1s\n",
      "[CV 1/5] END C=1, class_weight=None, gamma=0.001, kernel=rbf, max_iter=10000;, score=(train=0.324, test=0.248) total time=   0.1s\n",
      "[CV 2/5] END C=1, class_weight=None, gamma=0.001, kernel=rbf, max_iter=10000;, score=(train=0.315, test=0.322) total time=   0.1s\n",
      "[CV 3/5] END C=1, class_weight=None, gamma=0.001, kernel=rbf, max_iter=10000;, score=(train=0.314, test=0.290) total time=   0.2s\n",
      "[CV 4/5] END C=1, class_weight=None, gamma=0.001, kernel=rbf, max_iter=10000;, score=(train=0.311, test=0.318) total time=   0.1s\n",
      "[CV 5/5] END C=1, class_weight=None, gamma=0.001, kernel=rbf, max_iter=10000;, score=(train=0.311, test=0.299) total time=   0.1s\n",
      "[CV 1/5] END C=1, class_weight=None, gamma=0.0001, kernel=rbf, max_iter=1000;, score=(train=0.240, test=0.207) total time=   0.2s\n",
      "[CV 2/5] END C=1, class_weight=None, gamma=0.0001, kernel=rbf, max_iter=1000;, score=(train=0.232, test=0.229) total time=   0.2s\n",
      "[CV 3/5] END C=1, class_weight=None, gamma=0.0001, kernel=rbf, max_iter=1000;, score=(train=0.232, test=0.232) total time=   0.2s\n",
      "[CV 4/5] END C=1, class_weight=None, gamma=0.0001, kernel=rbf, max_iter=1000;, score=(train=0.220, test=0.223) total time=   0.2s\n",
      "[CV 5/5] END C=1, class_weight=None, gamma=0.0001, kernel=rbf, max_iter=1000;, score=(train=0.220, test=0.223) total time=   0.2s\n",
      "[CV 1/5] END C=1, class_weight=None, gamma=0.0001, kernel=rbf, max_iter=5000;, score=(train=0.240, test=0.207) total time=   0.2s\n",
      "[CV 2/5] END C=1, class_weight=None, gamma=0.0001, kernel=rbf, max_iter=5000;, score=(train=0.232, test=0.229) total time=   0.2s\n",
      "[CV 3/5] END C=1, class_weight=None, gamma=0.0001, kernel=rbf, max_iter=5000;, score=(train=0.232, test=0.232) total time=   0.2s\n",
      "[CV 4/5] END C=1, class_weight=None, gamma=0.0001, kernel=rbf, max_iter=5000;, score=(train=0.220, test=0.223) total time=   0.2s\n",
      "[CV 5/5] END C=1, class_weight=None, gamma=0.0001, kernel=rbf, max_iter=5000;, score=(train=0.220, test=0.223) total time=   0.2s\n",
      "[CV 1/5] END C=1, class_weight=None, gamma=0.0001, kernel=rbf, max_iter=10000;, score=(train=0.240, test=0.207) total time=   0.2s\n",
      "[CV 2/5] END C=1, class_weight=None, gamma=0.0001, kernel=rbf, max_iter=10000;, score=(train=0.232, test=0.229) total time=   0.2s\n",
      "[CV 3/5] END C=1, class_weight=None, gamma=0.0001, kernel=rbf, max_iter=10000;, score=(train=0.232, test=0.232) total time=   0.2s\n",
      "[CV 4/5] END C=1, class_weight=None, gamma=0.0001, kernel=rbf, max_iter=10000;, score=(train=0.220, test=0.223) total time=   0.2s\n",
      "[CV 5/5] END C=1, class_weight=None, gamma=0.0001, kernel=rbf, max_iter=10000;, score=(train=0.220, test=0.223) total time=   0.2s\n",
      "[CV 1/5] END C=1, class_weight=balanced, gamma=1, kernel=rbf, max_iter=1000;, score=(train=0.976, test=0.443) total time=   0.2s\n",
      "[CV 2/5] END C=1, class_weight=balanced, gamma=1, kernel=rbf, max_iter=1000;, score=(train=0.973, test=0.462) total time=   0.2s\n",
      "[CV 3/5] END C=1, class_weight=balanced, gamma=1, kernel=rbf, max_iter=1000;, score=(train=0.978, test=0.468) total time=   0.2s\n",
      "[CV 4/5] END C=1, class_weight=balanced, gamma=1, kernel=rbf, max_iter=1000;, score=(train=0.974, test=0.535) total time=   0.2s\n",
      "[CV 5/5] END C=1, class_weight=balanced, gamma=1, kernel=rbf, max_iter=1000;, score=(train=0.978, test=0.519) total time=   0.2s\n",
      "[CV 1/5] END C=1, class_weight=balanced, gamma=1, kernel=rbf, max_iter=5000;, score=(train=0.976, test=0.443) total time=   0.2s\n",
      "[CV 2/5] END C=1, class_weight=balanced, gamma=1, kernel=rbf, max_iter=5000;, score=(train=0.973, test=0.462) total time=   0.2s\n",
      "[CV 3/5] END C=1, class_weight=balanced, gamma=1, kernel=rbf, max_iter=5000;, score=(train=0.978, test=0.468) total time=   0.2s\n",
      "[CV 4/5] END C=1, class_weight=balanced, gamma=1, kernel=rbf, max_iter=5000;, score=(train=0.974, test=0.535) total time=   0.2s\n",
      "[CV 5/5] END C=1, class_weight=balanced, gamma=1, kernel=rbf, max_iter=5000;, score=(train=0.978, test=0.519) total time=   0.2s\n",
      "[CV 1/5] END C=1, class_weight=balanced, gamma=1, kernel=rbf, max_iter=10000;, score=(train=0.976, test=0.443) total time=   0.2s\n",
      "[CV 2/5] END C=1, class_weight=balanced, gamma=1, kernel=rbf, max_iter=10000;, score=(train=0.973, test=0.462) total time=   0.2s\n",
      "[CV 3/5] END C=1, class_weight=balanced, gamma=1, kernel=rbf, max_iter=10000;, score=(train=0.978, test=0.468) total time=   0.2s\n",
      "[CV 4/5] END C=1, class_weight=balanced, gamma=1, kernel=rbf, max_iter=10000;, score=(train=0.974, test=0.535) total time=   0.2s\n",
      "[CV 5/5] END C=1, class_weight=balanced, gamma=1, kernel=rbf, max_iter=10000;, score=(train=0.978, test=0.519) total time=   0.2s\n",
      "[CV 1/5] END C=1, class_weight=balanced, gamma=0.1, kernel=rbf, max_iter=1000;, score=(train=0.611, test=0.389) total time=   0.2s\n",
      "[CV 2/5] END C=1, class_weight=balanced, gamma=0.1, kernel=rbf, max_iter=1000;, score=(train=0.632, test=0.389) total time=   0.2s\n",
      "[CV 3/5] END C=1, class_weight=balanced, gamma=0.1, kernel=rbf, max_iter=1000;, score=(train=0.625, test=0.395) total time=   0.2s\n",
      "[CV 4/5] END C=1, class_weight=balanced, gamma=0.1, kernel=rbf, max_iter=1000;, score=(train=0.616, test=0.462) total time=   0.2s\n",
      "[CV 5/5] END C=1, class_weight=balanced, gamma=0.1, kernel=rbf, max_iter=1000;, score=(train=0.613, test=0.417) total time=   0.2s\n",
      "[CV 1/5] END C=1, class_weight=balanced, gamma=0.1, kernel=rbf, max_iter=5000;, score=(train=0.611, test=0.389) total time=   0.2s\n",
      "[CV 2/5] END C=1, class_weight=balanced, gamma=0.1, kernel=rbf, max_iter=5000;, score=(train=0.632, test=0.389) total time=   0.2s\n",
      "[CV 3/5] END C=1, class_weight=balanced, gamma=0.1, kernel=rbf, max_iter=5000;, score=(train=0.625, test=0.395) total time=   0.2s\n",
      "[CV 4/5] END C=1, class_weight=balanced, gamma=0.1, kernel=rbf, max_iter=5000;, score=(train=0.616, test=0.462) total time=   0.2s\n",
      "[CV 5/5] END C=1, class_weight=balanced, gamma=0.1, kernel=rbf, max_iter=5000;, score=(train=0.613, test=0.417) total time=   0.2s\n",
      "[CV 1/5] END C=1, class_weight=balanced, gamma=0.1, kernel=rbf, max_iter=10000;, score=(train=0.611, test=0.389) total time=   0.2s\n",
      "[CV 2/5] END C=1, class_weight=balanced, gamma=0.1, kernel=rbf, max_iter=10000;, score=(train=0.632, test=0.389) total time=   0.2s\n",
      "[CV 3/5] END C=1, class_weight=balanced, gamma=0.1, kernel=rbf, max_iter=10000;, score=(train=0.625, test=0.395) total time=   0.2s\n",
      "[CV 4/5] END C=1, class_weight=balanced, gamma=0.1, kernel=rbf, max_iter=10000;, score=(train=0.616, test=0.462) total time=   0.2s\n",
      "[CV 5/5] END C=1, class_weight=balanced, gamma=0.1, kernel=rbf, max_iter=10000;, score=(train=0.613, test=0.417) total time=   0.2s\n",
      "[CV 1/5] END C=1, class_weight=balanced, gamma=0.01, kernel=rbf, max_iter=1000;, score=(train=0.407, test=0.299) total time=   0.2s\n",
      "[CV 2/5] END C=1, class_weight=balanced, gamma=0.01, kernel=rbf, max_iter=1000;, score=(train=0.396, test=0.312) total time=   0.1s\n",
      "[CV 3/5] END C=1, class_weight=balanced, gamma=0.01, kernel=rbf, max_iter=1000;, score=(train=0.382, test=0.283) total time=   0.2s\n",
      "[CV 4/5] END C=1, class_weight=balanced, gamma=0.01, kernel=rbf, max_iter=1000;, score=(train=0.385, test=0.366) total time=   0.2s\n",
      "[CV 5/5] END C=1, class_weight=balanced, gamma=0.01, kernel=rbf, max_iter=1000;, score=(train=0.404, test=0.322) total time=   0.1s\n",
      "[CV 1/5] END C=1, class_weight=balanced, gamma=0.01, kernel=rbf, max_iter=5000;, score=(train=0.407, test=0.299) total time=   0.1s\n",
      "[CV 2/5] END C=1, class_weight=balanced, gamma=0.01, kernel=rbf, max_iter=5000;, score=(train=0.396, test=0.312) total time=   0.1s\n",
      "[CV 3/5] END C=1, class_weight=balanced, gamma=0.01, kernel=rbf, max_iter=5000;, score=(train=0.382, test=0.283) total time=   0.1s\n",
      "[CV 4/5] END C=1, class_weight=balanced, gamma=0.01, kernel=rbf, max_iter=5000;, score=(train=0.385, test=0.366) total time=   0.2s\n",
      "[CV 5/5] END C=1, class_weight=balanced, gamma=0.01, kernel=rbf, max_iter=5000;, score=(train=0.404, test=0.322) total time=   0.1s\n",
      "[CV 1/5] END C=1, class_weight=balanced, gamma=0.01, kernel=rbf, max_iter=10000;, score=(train=0.407, test=0.299) total time=   0.1s\n",
      "[CV 2/5] END C=1, class_weight=balanced, gamma=0.01, kernel=rbf, max_iter=10000;, score=(train=0.396, test=0.312) total time=   0.1s\n",
      "[CV 3/5] END C=1, class_weight=balanced, gamma=0.01, kernel=rbf, max_iter=10000;, score=(train=0.382, test=0.283) total time=   0.1s\n",
      "[CV 4/5] END C=1, class_weight=balanced, gamma=0.01, kernel=rbf, max_iter=10000;, score=(train=0.385, test=0.366) total time=   0.1s\n",
      "[CV 5/5] END C=1, class_weight=balanced, gamma=0.01, kernel=rbf, max_iter=10000;, score=(train=0.404, test=0.322) total time=   0.1s\n",
      "[CV 1/5] END C=1, class_weight=balanced, gamma=0.001, kernel=rbf, max_iter=1000;, score=(train=0.307, test=0.239) total time=   0.1s\n",
      "[CV 2/5] END C=1, class_weight=balanced, gamma=0.001, kernel=rbf, max_iter=1000;, score=(train=0.289, test=0.274) total time=   0.1s\n",
      "[CV 3/5] END C=1, class_weight=balanced, gamma=0.001, kernel=rbf, max_iter=1000;, score=(train=0.305, test=0.280) total time=   0.2s\n",
      "[CV 4/5] END C=1, class_weight=balanced, gamma=0.001, kernel=rbf, max_iter=1000;, score=(train=0.283, test=0.299) total time=   0.2s\n",
      "[CV 5/5] END C=1, class_weight=balanced, gamma=0.001, kernel=rbf, max_iter=1000;, score=(train=0.281, test=0.229) total time=   0.2s\n",
      "[CV 1/5] END C=1, class_weight=balanced, gamma=0.001, kernel=rbf, max_iter=5000;, score=(train=0.307, test=0.239) total time=   0.1s\n",
      "[CV 2/5] END C=1, class_weight=balanced, gamma=0.001, kernel=rbf, max_iter=5000;, score=(train=0.289, test=0.274) total time=   0.2s\n",
      "[CV 3/5] END C=1, class_weight=balanced, gamma=0.001, kernel=rbf, max_iter=5000;, score=(train=0.305, test=0.280) total time=   0.2s\n",
      "[CV 4/5] END C=1, class_weight=balanced, gamma=0.001, kernel=rbf, max_iter=5000;, score=(train=0.283, test=0.299) total time=   0.2s\n",
      "[CV 5/5] END C=1, class_weight=balanced, gamma=0.001, kernel=rbf, max_iter=5000;, score=(train=0.281, test=0.229) total time=   0.1s\n",
      "[CV 1/5] END C=1, class_weight=balanced, gamma=0.001, kernel=rbf, max_iter=10000;, score=(train=0.307, test=0.239) total time=   0.1s\n",
      "[CV 2/5] END C=1, class_weight=balanced, gamma=0.001, kernel=rbf, max_iter=10000;, score=(train=0.289, test=0.274) total time=   0.2s\n",
      "[CV 3/5] END C=1, class_weight=balanced, gamma=0.001, kernel=rbf, max_iter=10000;, score=(train=0.305, test=0.280) total time=   0.2s\n",
      "[CV 4/5] END C=1, class_weight=balanced, gamma=0.001, kernel=rbf, max_iter=10000;, score=(train=0.283, test=0.299) total time=   0.2s\n",
      "[CV 5/5] END C=1, class_weight=balanced, gamma=0.001, kernel=rbf, max_iter=10000;, score=(train=0.281, test=0.229) total time=   0.2s\n",
      "[CV 1/5] END C=1, class_weight=balanced, gamma=0.0001, kernel=rbf, max_iter=1000;, score=(train=0.242, test=0.188) total time=   0.2s\n",
      "[CV 2/5] END C=1, class_weight=balanced, gamma=0.0001, kernel=rbf, max_iter=1000;, score=(train=0.226, test=0.242) total time=   0.2s\n",
      "[CV 3/5] END C=1, class_weight=balanced, gamma=0.0001, kernel=rbf, max_iter=1000;, score=(train=0.226, test=0.220) total time=   0.2s\n",
      "[CV 4/5] END C=1, class_weight=balanced, gamma=0.0001, kernel=rbf, max_iter=1000;, score=(train=0.225, test=0.245) total time=   0.2s\n",
      "[CV 5/5] END C=1, class_weight=balanced, gamma=0.0001, kernel=rbf, max_iter=1000;, score=(train=0.229, test=0.226) total time=   0.2s\n",
      "[CV 1/5] END C=1, class_weight=balanced, gamma=0.0001, kernel=rbf, max_iter=5000;, score=(train=0.242, test=0.188) total time=   0.2s\n",
      "[CV 2/5] END C=1, class_weight=balanced, gamma=0.0001, kernel=rbf, max_iter=5000;, score=(train=0.226, test=0.242) total time=   0.2s\n",
      "[CV 3/5] END C=1, class_weight=balanced, gamma=0.0001, kernel=rbf, max_iter=5000;, score=(train=0.226, test=0.220) total time=   0.2s\n",
      "[CV 4/5] END C=1, class_weight=balanced, gamma=0.0001, kernel=rbf, max_iter=5000;, score=(train=0.225, test=0.245) total time=   0.2s\n",
      "[CV 5/5] END C=1, class_weight=balanced, gamma=0.0001, kernel=rbf, max_iter=5000;, score=(train=0.229, test=0.226) total time=   0.2s\n",
      "[CV 1/5] END C=1, class_weight=balanced, gamma=0.0001, kernel=rbf, max_iter=10000;, score=(train=0.242, test=0.188) total time=   0.2s\n",
      "[CV 2/5] END C=1, class_weight=balanced, gamma=0.0001, kernel=rbf, max_iter=10000;, score=(train=0.226, test=0.242) total time=   0.2s\n",
      "[CV 3/5] END C=1, class_weight=balanced, gamma=0.0001, kernel=rbf, max_iter=10000;, score=(train=0.226, test=0.220) total time=   0.2s\n",
      "[CV 4/5] END C=1, class_weight=balanced, gamma=0.0001, kernel=rbf, max_iter=10000;, score=(train=0.225, test=0.245) total time=   0.2s\n",
      "[CV 5/5] END C=1, class_weight=balanced, gamma=0.0001, kernel=rbf, max_iter=10000;, score=(train=0.229, test=0.226) total time=   0.2s\n",
      "[CV 1/5] END C=10, class_weight=None, gamma=1, kernel=rbf, max_iter=1000;, score=(train=0.976, test=0.484) total time=   0.2s\n",
      "[CV 2/5] END C=10, class_weight=None, gamma=1, kernel=rbf, max_iter=1000;, score=(train=0.973, test=0.475) total time=   0.2s\n",
      "[CV 3/5] END C=10, class_weight=None, gamma=1, kernel=rbf, max_iter=1000;, score=(train=0.978, test=0.497) total time=   0.2s\n",
      "[CV 4/5] END C=10, class_weight=None, gamma=1, kernel=rbf, max_iter=1000;, score=(train=0.974, test=0.541) total time=   0.2s\n",
      "[CV 5/5] END C=10, class_weight=None, gamma=1, kernel=rbf, max_iter=1000;, score=(train=0.978, test=0.513) total time=   0.2s\n",
      "[CV 1/5] END C=10, class_weight=None, gamma=1, kernel=rbf, max_iter=5000;, score=(train=0.976, test=0.484) total time=   0.2s\n",
      "[CV 2/5] END C=10, class_weight=None, gamma=1, kernel=rbf, max_iter=5000;, score=(train=0.973, test=0.475) total time=   0.2s\n",
      "[CV 3/5] END C=10, class_weight=None, gamma=1, kernel=rbf, max_iter=5000;, score=(train=0.978, test=0.497) total time=   0.2s\n",
      "[CV 4/5] END C=10, class_weight=None, gamma=1, kernel=rbf, max_iter=5000;, score=(train=0.974, test=0.541) total time=   0.2s\n",
      "[CV 5/5] END C=10, class_weight=None, gamma=1, kernel=rbf, max_iter=5000;, score=(train=0.978, test=0.513) total time=   0.2s\n",
      "[CV 1/5] END C=10, class_weight=None, gamma=1, kernel=rbf, max_iter=10000;, score=(train=0.976, test=0.484) total time=   0.2s\n",
      "[CV 2/5] END C=10, class_weight=None, gamma=1, kernel=rbf, max_iter=10000;, score=(train=0.973, test=0.475) total time=   0.2s\n",
      "[CV 3/5] END C=10, class_weight=None, gamma=1, kernel=rbf, max_iter=10000;, score=(train=0.978, test=0.497) total time=   0.2s\n",
      "[CV 4/5] END C=10, class_weight=None, gamma=1, kernel=rbf, max_iter=10000;, score=(train=0.974, test=0.541) total time=   0.2s\n",
      "[CV 5/5] END C=10, class_weight=None, gamma=1, kernel=rbf, max_iter=10000;, score=(train=0.978, test=0.513) total time=   0.2s\n"
     ]
    },
    {
     "name": "stderr",
     "output_type": "stream",
     "text": [
      "c:\\Users\\Muhammad Ade Aulia\\miniconda3\\envs\\gpu_load\\lib\\site-packages\\sklearn\\svm\\_base.py:305: ConvergenceWarning: Solver terminated early (max_iter=1000).  Consider pre-processing your data with StandardScaler or MinMaxScaler.\n",
      "  warnings.warn(\n"
     ]
    },
    {
     "name": "stdout",
     "output_type": "stream",
     "text": [
      "[CV 1/5] END C=10, class_weight=None, gamma=0.1, kernel=rbf, max_iter=1000;, score=(train=0.967, test=0.656) total time=   0.2s\n"
     ]
    },
    {
     "name": "stderr",
     "output_type": "stream",
     "text": [
      "c:\\Users\\Muhammad Ade Aulia\\miniconda3\\envs\\gpu_load\\lib\\site-packages\\sklearn\\svm\\_base.py:305: ConvergenceWarning: Solver terminated early (max_iter=1000).  Consider pre-processing your data with StandardScaler or MinMaxScaler.\n",
      "  warnings.warn(\n"
     ]
    },
    {
     "name": "stdout",
     "output_type": "stream",
     "text": [
      "[CV 2/5] END C=10, class_weight=None, gamma=0.1, kernel=rbf, max_iter=1000;, score=(train=0.959, test=0.634) total time=   0.2s\n"
     ]
    },
    {
     "name": "stderr",
     "output_type": "stream",
     "text": [
      "c:\\Users\\Muhammad Ade Aulia\\miniconda3\\envs\\gpu_load\\lib\\site-packages\\sklearn\\svm\\_base.py:305: ConvergenceWarning: Solver terminated early (max_iter=1000).  Consider pre-processing your data with StandardScaler or MinMaxScaler.\n",
      "  warnings.warn(\n"
     ]
    },
    {
     "name": "stdout",
     "output_type": "stream",
     "text": [
      "[CV 3/5] END C=10, class_weight=None, gamma=0.1, kernel=rbf, max_iter=1000;, score=(train=0.963, test=0.653) total time=   0.2s\n"
     ]
    },
    {
     "name": "stderr",
     "output_type": "stream",
     "text": [
      "c:\\Users\\Muhammad Ade Aulia\\miniconda3\\envs\\gpu_load\\lib\\site-packages\\sklearn\\svm\\_base.py:305: ConvergenceWarning: Solver terminated early (max_iter=1000).  Consider pre-processing your data with StandardScaler or MinMaxScaler.\n",
      "  warnings.warn(\n"
     ]
    },
    {
     "name": "stdout",
     "output_type": "stream",
     "text": [
      "[CV 4/5] END C=10, class_weight=None, gamma=0.1, kernel=rbf, max_iter=1000;, score=(train=0.959, test=0.701) total time=   0.2s\n"
     ]
    },
    {
     "name": "stderr",
     "output_type": "stream",
     "text": [
      "c:\\Users\\Muhammad Ade Aulia\\miniconda3\\envs\\gpu_load\\lib\\site-packages\\sklearn\\svm\\_base.py:305: ConvergenceWarning: Solver terminated early (max_iter=1000).  Consider pre-processing your data with StandardScaler or MinMaxScaler.\n",
      "  warnings.warn(\n"
     ]
    },
    {
     "name": "stdout",
     "output_type": "stream",
     "text": [
      "[CV 5/5] END C=10, class_weight=None, gamma=0.1, kernel=rbf, max_iter=1000;, score=(train=0.961, test=0.646) total time=   0.2s\n",
      "[CV 1/5] END C=10, class_weight=None, gamma=0.1, kernel=rbf, max_iter=5000;, score=(train=0.967, test=0.656) total time=   0.2s\n",
      "[CV 2/5] END C=10, class_weight=None, gamma=0.1, kernel=rbf, max_iter=5000;, score=(train=0.959, test=0.634) total time=   0.2s\n",
      "[CV 3/5] END C=10, class_weight=None, gamma=0.1, kernel=rbf, max_iter=5000;, score=(train=0.963, test=0.653) total time=   0.2s\n",
      "[CV 4/5] END C=10, class_weight=None, gamma=0.1, kernel=rbf, max_iter=5000;, score=(train=0.959, test=0.701) total time=   0.2s\n",
      "[CV 5/5] END C=10, class_weight=None, gamma=0.1, kernel=rbf, max_iter=5000;, score=(train=0.961, test=0.646) total time=   0.2s\n",
      "[CV 1/5] END C=10, class_weight=None, gamma=0.1, kernel=rbf, max_iter=10000;, score=(train=0.967, test=0.656) total time=   0.2s\n",
      "[CV 2/5] END C=10, class_weight=None, gamma=0.1, kernel=rbf, max_iter=10000;, score=(train=0.959, test=0.634) total time=   0.2s\n",
      "[CV 3/5] END C=10, class_weight=None, gamma=0.1, kernel=rbf, max_iter=10000;, score=(train=0.963, test=0.653) total time=   0.2s\n",
      "[CV 4/5] END C=10, class_weight=None, gamma=0.1, kernel=rbf, max_iter=10000;, score=(train=0.959, test=0.701) total time=   0.2s\n",
      "[CV 5/5] END C=10, class_weight=None, gamma=0.1, kernel=rbf, max_iter=10000;, score=(train=0.961, test=0.646) total time=   0.2s\n"
     ]
    },
    {
     "name": "stderr",
     "output_type": "stream",
     "text": [
      "c:\\Users\\Muhammad Ade Aulia\\miniconda3\\envs\\gpu_load\\lib\\site-packages\\sklearn\\svm\\_base.py:305: ConvergenceWarning: Solver terminated early (max_iter=1000).  Consider pre-processing your data with StandardScaler or MinMaxScaler.\n",
      "  warnings.warn(\n"
     ]
    },
    {
     "name": "stdout",
     "output_type": "stream",
     "text": [
      "[CV 1/5] END C=10, class_weight=None, gamma=0.01, kernel=rbf, max_iter=1000;, score=(train=0.693, test=0.516) total time=   0.1s\n"
     ]
    },
    {
     "name": "stderr",
     "output_type": "stream",
     "text": [
      "c:\\Users\\Muhammad Ade Aulia\\miniconda3\\envs\\gpu_load\\lib\\site-packages\\sklearn\\svm\\_base.py:305: ConvergenceWarning: Solver terminated early (max_iter=1000).  Consider pre-processing your data with StandardScaler or MinMaxScaler.\n",
      "  warnings.warn(\n"
     ]
    },
    {
     "name": "stdout",
     "output_type": "stream",
     "text": [
      "[CV 2/5] END C=10, class_weight=None, gamma=0.01, kernel=rbf, max_iter=1000;, score=(train=0.705, test=0.519) total time=   0.1s\n"
     ]
    },
    {
     "name": "stderr",
     "output_type": "stream",
     "text": [
      "c:\\Users\\Muhammad Ade Aulia\\miniconda3\\envs\\gpu_load\\lib\\site-packages\\sklearn\\svm\\_base.py:305: ConvergenceWarning: Solver terminated early (max_iter=1000).  Consider pre-processing your data with StandardScaler or MinMaxScaler.\n",
      "  warnings.warn(\n"
     ]
    },
    {
     "name": "stdout",
     "output_type": "stream",
     "text": [
      "[CV 3/5] END C=10, class_weight=None, gamma=0.01, kernel=rbf, max_iter=1000;, score=(train=0.675, test=0.506) total time=   0.1s\n"
     ]
    },
    {
     "name": "stderr",
     "output_type": "stream",
     "text": [
      "c:\\Users\\Muhammad Ade Aulia\\miniconda3\\envs\\gpu_load\\lib\\site-packages\\sklearn\\svm\\_base.py:305: ConvergenceWarning: Solver terminated early (max_iter=1000).  Consider pre-processing your data with StandardScaler or MinMaxScaler.\n",
      "  warnings.warn(\n"
     ]
    },
    {
     "name": "stdout",
     "output_type": "stream",
     "text": [
      "[CV 4/5] END C=10, class_weight=None, gamma=0.01, kernel=rbf, max_iter=1000;, score=(train=0.669, test=0.580) total time=   0.1s\n"
     ]
    },
    {
     "name": "stderr",
     "output_type": "stream",
     "text": [
      "c:\\Users\\Muhammad Ade Aulia\\miniconda3\\envs\\gpu_load\\lib\\site-packages\\sklearn\\svm\\_base.py:305: ConvergenceWarning: Solver terminated early (max_iter=1000).  Consider pre-processing your data with StandardScaler or MinMaxScaler.\n",
      "  warnings.warn(\n"
     ]
    },
    {
     "name": "stdout",
     "output_type": "stream",
     "text": [
      "[CV 5/5] END C=10, class_weight=None, gamma=0.01, kernel=rbf, max_iter=1000;, score=(train=0.693, test=0.529) total time=   0.1s\n",
      "[CV 1/5] END C=10, class_weight=None, gamma=0.01, kernel=rbf, max_iter=5000;, score=(train=0.693, test=0.516) total time=   0.1s\n",
      "[CV 2/5] END C=10, class_weight=None, gamma=0.01, kernel=rbf, max_iter=5000;, score=(train=0.705, test=0.519) total time=   0.1s\n",
      "[CV 3/5] END C=10, class_weight=None, gamma=0.01, kernel=rbf, max_iter=5000;, score=(train=0.675, test=0.506) total time=   0.1s\n",
      "[CV 4/5] END C=10, class_weight=None, gamma=0.01, kernel=rbf, max_iter=5000;, score=(train=0.669, test=0.580) total time=   0.1s\n",
      "[CV 5/5] END C=10, class_weight=None, gamma=0.01, kernel=rbf, max_iter=5000;, score=(train=0.691, test=0.529) total time=   0.1s\n",
      "[CV 1/5] END C=10, class_weight=None, gamma=0.01, kernel=rbf, max_iter=10000;, score=(train=0.693, test=0.516) total time=   0.1s\n",
      "[CV 2/5] END C=10, class_weight=None, gamma=0.01, kernel=rbf, max_iter=10000;, score=(train=0.705, test=0.519) total time=   0.1s\n",
      "[CV 3/5] END C=10, class_weight=None, gamma=0.01, kernel=rbf, max_iter=10000;, score=(train=0.675, test=0.506) total time=   0.1s\n",
      "[CV 4/5] END C=10, class_weight=None, gamma=0.01, kernel=rbf, max_iter=10000;, score=(train=0.669, test=0.580) total time=   0.1s\n",
      "[CV 5/5] END C=10, class_weight=None, gamma=0.01, kernel=rbf, max_iter=10000;, score=(train=0.691, test=0.529) total time=   0.1s\n"
     ]
    },
    {
     "name": "stderr",
     "output_type": "stream",
     "text": [
      "c:\\Users\\Muhammad Ade Aulia\\miniconda3\\envs\\gpu_load\\lib\\site-packages\\sklearn\\svm\\_base.py:305: ConvergenceWarning: Solver terminated early (max_iter=1000).  Consider pre-processing your data with StandardScaler or MinMaxScaler.\n",
      "  warnings.warn(\n"
     ]
    },
    {
     "name": "stdout",
     "output_type": "stream",
     "text": [
      "[CV 1/5] END C=10, class_weight=None, gamma=0.001, kernel=rbf, max_iter=1000;, score=(train=0.369, test=0.290) total time=   0.1s\n"
     ]
    },
    {
     "name": "stderr",
     "output_type": "stream",
     "text": [
      "c:\\Users\\Muhammad Ade Aulia\\miniconda3\\envs\\gpu_load\\lib\\site-packages\\sklearn\\svm\\_base.py:305: ConvergenceWarning: Solver terminated early (max_iter=1000).  Consider pre-processing your data with StandardScaler or MinMaxScaler.\n",
      "  warnings.warn(\n"
     ]
    },
    {
     "name": "stdout",
     "output_type": "stream",
     "text": [
      "[CV 2/5] END C=10, class_weight=None, gamma=0.001, kernel=rbf, max_iter=1000;, score=(train=0.362, test=0.347) total time=   0.2s\n"
     ]
    },
    {
     "name": "stderr",
     "output_type": "stream",
     "text": [
      "c:\\Users\\Muhammad Ade Aulia\\miniconda3\\envs\\gpu_load\\lib\\site-packages\\sklearn\\svm\\_base.py:305: ConvergenceWarning: Solver terminated early (max_iter=1000).  Consider pre-processing your data with StandardScaler or MinMaxScaler.\n",
      "  warnings.warn(\n"
     ]
    },
    {
     "name": "stdout",
     "output_type": "stream",
     "text": [
      "[CV 3/5] END C=10, class_weight=None, gamma=0.001, kernel=rbf, max_iter=1000;, score=(train=0.364, test=0.309) total time=   0.2s\n"
     ]
    },
    {
     "name": "stderr",
     "output_type": "stream",
     "text": [
      "c:\\Users\\Muhammad Ade Aulia\\miniconda3\\envs\\gpu_load\\lib\\site-packages\\sklearn\\svm\\_base.py:305: ConvergenceWarning: Solver terminated early (max_iter=1000).  Consider pre-processing your data with StandardScaler or MinMaxScaler.\n",
      "  warnings.warn(\n"
     ]
    },
    {
     "name": "stdout",
     "output_type": "stream",
     "text": [
      "[CV 4/5] END C=10, class_weight=None, gamma=0.001, kernel=rbf, max_iter=1000;, score=(train=0.362, test=0.354) total time=   0.1s\n"
     ]
    },
    {
     "name": "stderr",
     "output_type": "stream",
     "text": [
      "c:\\Users\\Muhammad Ade Aulia\\miniconda3\\envs\\gpu_load\\lib\\site-packages\\sklearn\\svm\\_base.py:305: ConvergenceWarning: Solver terminated early (max_iter=1000).  Consider pre-processing your data with StandardScaler or MinMaxScaler.\n",
      "  warnings.warn(\n"
     ]
    },
    {
     "name": "stdout",
     "output_type": "stream",
     "text": [
      "[CV 5/5] END C=10, class_weight=None, gamma=0.001, kernel=rbf, max_iter=1000;, score=(train=0.373, test=0.338) total time=   0.1s\n",
      "[CV 1/5] END C=10, class_weight=None, gamma=0.001, kernel=rbf, max_iter=5000;, score=(train=0.369, test=0.290) total time=   0.1s\n",
      "[CV 2/5] END C=10, class_weight=None, gamma=0.001, kernel=rbf, max_iter=5000;, score=(train=0.362, test=0.347) total time=   0.1s\n",
      "[CV 3/5] END C=10, class_weight=None, gamma=0.001, kernel=rbf, max_iter=5000;, score=(train=0.365, test=0.309) total time=   0.1s\n",
      "[CV 4/5] END C=10, class_weight=None, gamma=0.001, kernel=rbf, max_iter=5000;, score=(train=0.362, test=0.354) total time=   0.1s\n",
      "[CV 5/5] END C=10, class_weight=None, gamma=0.001, kernel=rbf, max_iter=5000;, score=(train=0.373, test=0.338) total time=   0.1s\n",
      "[CV 1/5] END C=10, class_weight=None, gamma=0.001, kernel=rbf, max_iter=10000;, score=(train=0.369, test=0.290) total time=   0.1s\n",
      "[CV 2/5] END C=10, class_weight=None, gamma=0.001, kernel=rbf, max_iter=10000;, score=(train=0.362, test=0.347) total time=   0.1s\n",
      "[CV 3/5] END C=10, class_weight=None, gamma=0.001, kernel=rbf, max_iter=10000;, score=(train=0.365, test=0.309) total time=   0.2s\n",
      "[CV 4/5] END C=10, class_weight=None, gamma=0.001, kernel=rbf, max_iter=10000;, score=(train=0.362, test=0.354) total time=   0.1s\n",
      "[CV 5/5] END C=10, class_weight=None, gamma=0.001, kernel=rbf, max_iter=10000;, score=(train=0.373, test=0.338) total time=   0.1s\n",
      "[CV 1/5] END C=10, class_weight=None, gamma=0.0001, kernel=rbf, max_iter=1000;, score=(train=0.276, test=0.226) total time=   0.2s\n",
      "[CV 2/5] END C=10, class_weight=None, gamma=0.0001, kernel=rbf, max_iter=1000;, score=(train=0.263, test=0.271) total time=   0.2s\n",
      "[CV 3/5] END C=10, class_weight=None, gamma=0.0001, kernel=rbf, max_iter=1000;, score=(train=0.269, test=0.264) total time=   0.2s\n",
      "[CV 4/5] END C=10, class_weight=None, gamma=0.0001, kernel=rbf, max_iter=1000;, score=(train=0.265, test=0.274) total time=   0.1s\n",
      "[CV 5/5] END C=10, class_weight=None, gamma=0.0001, kernel=rbf, max_iter=1000;, score=(train=0.258, test=0.268) total time=   0.2s\n",
      "[CV 1/5] END C=10, class_weight=None, gamma=0.0001, kernel=rbf, max_iter=5000;, score=(train=0.276, test=0.226) total time=   0.2s\n",
      "[CV 2/5] END C=10, class_weight=None, gamma=0.0001, kernel=rbf, max_iter=5000;, score=(train=0.263, test=0.271) total time=   0.2s\n",
      "[CV 3/5] END C=10, class_weight=None, gamma=0.0001, kernel=rbf, max_iter=5000;, score=(train=0.269, test=0.264) total time=   0.2s\n",
      "[CV 4/5] END C=10, class_weight=None, gamma=0.0001, kernel=rbf, max_iter=5000;, score=(train=0.265, test=0.274) total time=   0.2s\n",
      "[CV 5/5] END C=10, class_weight=None, gamma=0.0001, kernel=rbf, max_iter=5000;, score=(train=0.258, test=0.268) total time=   0.2s\n",
      "[CV 1/5] END C=10, class_weight=None, gamma=0.0001, kernel=rbf, max_iter=10000;, score=(train=0.276, test=0.226) total time=   0.2s\n",
      "[CV 2/5] END C=10, class_weight=None, gamma=0.0001, kernel=rbf, max_iter=10000;, score=(train=0.263, test=0.271) total time=   0.1s\n",
      "[CV 3/5] END C=10, class_weight=None, gamma=0.0001, kernel=rbf, max_iter=10000;, score=(train=0.269, test=0.264) total time=   0.2s\n",
      "[CV 4/5] END C=10, class_weight=None, gamma=0.0001, kernel=rbf, max_iter=10000;, score=(train=0.265, test=0.274) total time=   0.2s\n",
      "[CV 5/5] END C=10, class_weight=None, gamma=0.0001, kernel=rbf, max_iter=10000;, score=(train=0.258, test=0.268) total time=   0.1s\n",
      "[CV 1/5] END C=10, class_weight=balanced, gamma=1, kernel=rbf, max_iter=1000;, score=(train=0.976, test=0.478) total time=   0.2s\n",
      "[CV 2/5] END C=10, class_weight=balanced, gamma=1, kernel=rbf, max_iter=1000;, score=(train=0.973, test=0.478) total time=   0.2s\n",
      "[CV 3/5] END C=10, class_weight=balanced, gamma=1, kernel=rbf, max_iter=1000;, score=(train=0.978, test=0.494) total time=   0.2s\n",
      "[CV 4/5] END C=10, class_weight=balanced, gamma=1, kernel=rbf, max_iter=1000;, score=(train=0.974, test=0.535) total time=   0.2s\n",
      "[CV 5/5] END C=10, class_weight=balanced, gamma=1, kernel=rbf, max_iter=1000;, score=(train=0.978, test=0.516) total time=   0.2s\n",
      "[CV 1/5] END C=10, class_weight=balanced, gamma=1, kernel=rbf, max_iter=5000;, score=(train=0.976, test=0.478) total time=   0.2s\n",
      "[CV 2/5] END C=10, class_weight=balanced, gamma=1, kernel=rbf, max_iter=5000;, score=(train=0.973, test=0.478) total time=   0.2s\n",
      "[CV 3/5] END C=10, class_weight=balanced, gamma=1, kernel=rbf, max_iter=5000;, score=(train=0.978, test=0.494) total time=   0.2s\n",
      "[CV 4/5] END C=10, class_weight=balanced, gamma=1, kernel=rbf, max_iter=5000;, score=(train=0.974, test=0.535) total time=   0.2s\n",
      "[CV 5/5] END C=10, class_weight=balanced, gamma=1, kernel=rbf, max_iter=5000;, score=(train=0.978, test=0.516) total time=   0.2s\n",
      "[CV 1/5] END C=10, class_weight=balanced, gamma=1, kernel=rbf, max_iter=10000;, score=(train=0.976, test=0.478) total time=   0.2s\n",
      "[CV 2/5] END C=10, class_weight=balanced, gamma=1, kernel=rbf, max_iter=10000;, score=(train=0.973, test=0.478) total time=   0.2s\n",
      "[CV 3/5] END C=10, class_weight=balanced, gamma=1, kernel=rbf, max_iter=10000;, score=(train=0.978, test=0.494) total time=   0.2s\n",
      "[CV 4/5] END C=10, class_weight=balanced, gamma=1, kernel=rbf, max_iter=10000;, score=(train=0.974, test=0.535) total time=   0.2s\n",
      "[CV 5/5] END C=10, class_weight=balanced, gamma=1, kernel=rbf, max_iter=10000;, score=(train=0.978, test=0.516) total time=   0.2s\n"
     ]
    },
    {
     "name": "stderr",
     "output_type": "stream",
     "text": [
      "c:\\Users\\Muhammad Ade Aulia\\miniconda3\\envs\\gpu_load\\lib\\site-packages\\sklearn\\svm\\_base.py:305: ConvergenceWarning: Solver terminated early (max_iter=1000).  Consider pre-processing your data with StandardScaler or MinMaxScaler.\n",
      "  warnings.warn(\n"
     ]
    },
    {
     "name": "stdout",
     "output_type": "stream",
     "text": [
      "[CV 1/5] END C=10, class_weight=balanced, gamma=0.1, kernel=rbf, max_iter=1000;, score=(train=0.962, test=0.650) total time=   0.2s\n"
     ]
    },
    {
     "name": "stderr",
     "output_type": "stream",
     "text": [
      "c:\\Users\\Muhammad Ade Aulia\\miniconda3\\envs\\gpu_load\\lib\\site-packages\\sklearn\\svm\\_base.py:305: ConvergenceWarning: Solver terminated early (max_iter=1000).  Consider pre-processing your data with StandardScaler or MinMaxScaler.\n",
      "  warnings.warn(\n"
     ]
    },
    {
     "name": "stdout",
     "output_type": "stream",
     "text": [
      "[CV 2/5] END C=10, class_weight=balanced, gamma=0.1, kernel=rbf, max_iter=1000;, score=(train=0.959, test=0.631) total time=   0.2s\n"
     ]
    },
    {
     "name": "stderr",
     "output_type": "stream",
     "text": [
      "c:\\Users\\Muhammad Ade Aulia\\miniconda3\\envs\\gpu_load\\lib\\site-packages\\sklearn\\svm\\_base.py:305: ConvergenceWarning: Solver terminated early (max_iter=1000).  Consider pre-processing your data with StandardScaler or MinMaxScaler.\n",
      "  warnings.warn(\n"
     ]
    },
    {
     "name": "stdout",
     "output_type": "stream",
     "text": [
      "[CV 3/5] END C=10, class_weight=balanced, gamma=0.1, kernel=rbf, max_iter=1000;, score=(train=0.963, test=0.666) total time=   0.2s\n"
     ]
    },
    {
     "name": "stderr",
     "output_type": "stream",
     "text": [
      "c:\\Users\\Muhammad Ade Aulia\\miniconda3\\envs\\gpu_load\\lib\\site-packages\\sklearn\\svm\\_base.py:305: ConvergenceWarning: Solver terminated early (max_iter=1000).  Consider pre-processing your data with StandardScaler or MinMaxScaler.\n",
      "  warnings.warn(\n"
     ]
    },
    {
     "name": "stdout",
     "output_type": "stream",
     "text": [
      "[CV 4/5] END C=10, class_weight=balanced, gamma=0.1, kernel=rbf, max_iter=1000;, score=(train=0.958, test=0.701) total time=   0.2s\n"
     ]
    },
    {
     "name": "stderr",
     "output_type": "stream",
     "text": [
      "c:\\Users\\Muhammad Ade Aulia\\miniconda3\\envs\\gpu_load\\lib\\site-packages\\sklearn\\svm\\_base.py:305: ConvergenceWarning: Solver terminated early (max_iter=1000).  Consider pre-processing your data with StandardScaler or MinMaxScaler.\n",
      "  warnings.warn(\n"
     ]
    },
    {
     "name": "stdout",
     "output_type": "stream",
     "text": [
      "[CV 5/5] END C=10, class_weight=balanced, gamma=0.1, kernel=rbf, max_iter=1000;, score=(train=0.959, test=0.650) total time=   0.2s\n",
      "[CV 1/5] END C=10, class_weight=balanced, gamma=0.1, kernel=rbf, max_iter=5000;, score=(train=0.962, test=0.650) total time=   0.2s\n",
      "[CV 2/5] END C=10, class_weight=balanced, gamma=0.1, kernel=rbf, max_iter=5000;, score=(train=0.959, test=0.631) total time=   0.2s\n",
      "[CV 3/5] END C=10, class_weight=balanced, gamma=0.1, kernel=rbf, max_iter=5000;, score=(train=0.963, test=0.666) total time=   0.2s\n",
      "[CV 4/5] END C=10, class_weight=balanced, gamma=0.1, kernel=rbf, max_iter=5000;, score=(train=0.958, test=0.701) total time=   0.2s\n",
      "[CV 5/5] END C=10, class_weight=balanced, gamma=0.1, kernel=rbf, max_iter=5000;, score=(train=0.959, test=0.650) total time=   0.2s\n",
      "[CV 1/5] END C=10, class_weight=balanced, gamma=0.1, kernel=rbf, max_iter=10000;, score=(train=0.962, test=0.650) total time=   0.2s\n",
      "[CV 2/5] END C=10, class_weight=balanced, gamma=0.1, kernel=rbf, max_iter=10000;, score=(train=0.959, test=0.631) total time=   0.2s\n",
      "[CV 3/5] END C=10, class_weight=balanced, gamma=0.1, kernel=rbf, max_iter=10000;, score=(train=0.963, test=0.666) total time=   0.2s\n",
      "[CV 4/5] END C=10, class_weight=balanced, gamma=0.1, kernel=rbf, max_iter=10000;, score=(train=0.958, test=0.701) total time=   0.2s\n",
      "[CV 5/5] END C=10, class_weight=balanced, gamma=0.1, kernel=rbf, max_iter=10000;, score=(train=0.959, test=0.650) total time=   0.2s\n"
     ]
    },
    {
     "name": "stderr",
     "output_type": "stream",
     "text": [
      "c:\\Users\\Muhammad Ade Aulia\\miniconda3\\envs\\gpu_load\\lib\\site-packages\\sklearn\\svm\\_base.py:305: ConvergenceWarning: Solver terminated early (max_iter=1000).  Consider pre-processing your data with StandardScaler or MinMaxScaler.\n",
      "  warnings.warn(\n"
     ]
    },
    {
     "name": "stdout",
     "output_type": "stream",
     "text": [
      "[CV 1/5] END C=10, class_weight=balanced, gamma=0.01, kernel=rbf, max_iter=1000;, score=(train=0.682, test=0.452) total time=   0.1s\n"
     ]
    },
    {
     "name": "stderr",
     "output_type": "stream",
     "text": [
      "c:\\Users\\Muhammad Ade Aulia\\miniconda3\\envs\\gpu_load\\lib\\site-packages\\sklearn\\svm\\_base.py:305: ConvergenceWarning: Solver terminated early (max_iter=1000).  Consider pre-processing your data with StandardScaler or MinMaxScaler.\n",
      "  warnings.warn(\n"
     ]
    },
    {
     "name": "stdout",
     "output_type": "stream",
     "text": [
      "[CV 2/5] END C=10, class_weight=balanced, gamma=0.01, kernel=rbf, max_iter=1000;, score=(train=0.661, test=0.490) total time=   0.2s\n"
     ]
    },
    {
     "name": "stderr",
     "output_type": "stream",
     "text": [
      "c:\\Users\\Muhammad Ade Aulia\\miniconda3\\envs\\gpu_load\\lib\\site-packages\\sklearn\\svm\\_base.py:305: ConvergenceWarning: Solver terminated early (max_iter=1000).  Consider pre-processing your data with StandardScaler or MinMaxScaler.\n",
      "  warnings.warn(\n"
     ]
    },
    {
     "name": "stdout",
     "output_type": "stream",
     "text": [
      "[CV 3/5] END C=10, class_weight=balanced, gamma=0.01, kernel=rbf, max_iter=1000;, score=(train=0.649, test=0.468) total time=   0.1s\n"
     ]
    },
    {
     "name": "stderr",
     "output_type": "stream",
     "text": [
      "c:\\Users\\Muhammad Ade Aulia\\miniconda3\\envs\\gpu_load\\lib\\site-packages\\sklearn\\svm\\_base.py:305: ConvergenceWarning: Solver terminated early (max_iter=1000).  Consider pre-processing your data with StandardScaler or MinMaxScaler.\n",
      "  warnings.warn(\n"
     ]
    },
    {
     "name": "stdout",
     "output_type": "stream",
     "text": [
      "[CV 4/5] END C=10, class_weight=balanced, gamma=0.01, kernel=rbf, max_iter=1000;, score=(train=0.649, test=0.561) total time=   0.2s\n"
     ]
    },
    {
     "name": "stderr",
     "output_type": "stream",
     "text": [
      "c:\\Users\\Muhammad Ade Aulia\\miniconda3\\envs\\gpu_load\\lib\\site-packages\\sklearn\\svm\\_base.py:305: ConvergenceWarning: Solver terminated early (max_iter=1000).  Consider pre-processing your data with StandardScaler or MinMaxScaler.\n",
      "  warnings.warn(\n"
     ]
    },
    {
     "name": "stdout",
     "output_type": "stream",
     "text": [
      "[CV 5/5] END C=10, class_weight=balanced, gamma=0.01, kernel=rbf, max_iter=1000;, score=(train=0.658, test=0.490) total time=   0.2s\n",
      "[CV 1/5] END C=10, class_weight=balanced, gamma=0.01, kernel=rbf, max_iter=5000;, score=(train=0.682, test=0.452) total time=   0.2s\n",
      "[CV 2/5] END C=10, class_weight=balanced, gamma=0.01, kernel=rbf, max_iter=5000;, score=(train=0.661, test=0.490) total time=   0.2s\n",
      "[CV 3/5] END C=10, class_weight=balanced, gamma=0.01, kernel=rbf, max_iter=5000;, score=(train=0.649, test=0.468) total time=   0.2s\n",
      "[CV 4/5] END C=10, class_weight=balanced, gamma=0.01, kernel=rbf, max_iter=5000;, score=(train=0.649, test=0.561) total time=   0.2s\n",
      "[CV 5/5] END C=10, class_weight=balanced, gamma=0.01, kernel=rbf, max_iter=5000;, score=(train=0.658, test=0.490) total time=   0.2s\n",
      "[CV 1/5] END C=10, class_weight=balanced, gamma=0.01, kernel=rbf, max_iter=10000;, score=(train=0.682, test=0.452) total time=   0.1s\n",
      "[CV 2/5] END C=10, class_weight=balanced, gamma=0.01, kernel=rbf, max_iter=10000;, score=(train=0.661, test=0.490) total time=   0.1s\n",
      "[CV 3/5] END C=10, class_weight=balanced, gamma=0.01, kernel=rbf, max_iter=10000;, score=(train=0.649, test=0.468) total time=   0.1s\n",
      "[CV 4/5] END C=10, class_weight=balanced, gamma=0.01, kernel=rbf, max_iter=10000;, score=(train=0.649, test=0.561) total time=   0.1s\n",
      "[CV 5/5] END C=10, class_weight=balanced, gamma=0.01, kernel=rbf, max_iter=10000;, score=(train=0.658, test=0.490) total time=   0.1s\n"
     ]
    },
    {
     "name": "stderr",
     "output_type": "stream",
     "text": [
      "c:\\Users\\Muhammad Ade Aulia\\miniconda3\\envs\\gpu_load\\lib\\site-packages\\sklearn\\svm\\_base.py:305: ConvergenceWarning: Solver terminated early (max_iter=1000).  Consider pre-processing your data with StandardScaler or MinMaxScaler.\n",
      "  warnings.warn(\n"
     ]
    },
    {
     "name": "stdout",
     "output_type": "stream",
     "text": [
      "[CV 1/5] END C=10, class_weight=balanced, gamma=0.001, kernel=rbf, max_iter=1000;, score=(train=0.358, test=0.271) total time=   0.1s\n"
     ]
    },
    {
     "name": "stderr",
     "output_type": "stream",
     "text": [
      "c:\\Users\\Muhammad Ade Aulia\\miniconda3\\envs\\gpu_load\\lib\\site-packages\\sklearn\\svm\\_base.py:305: ConvergenceWarning: Solver terminated early (max_iter=1000).  Consider pre-processing your data with StandardScaler or MinMaxScaler.\n",
      "  warnings.warn(\n"
     ]
    },
    {
     "name": "stdout",
     "output_type": "stream",
     "text": [
      "[CV 2/5] END C=10, class_weight=balanced, gamma=0.001, kernel=rbf, max_iter=1000;, score=(train=0.319, test=0.303) total time=   0.2s\n",
      "[CV 3/5] END C=10, class_weight=balanced, gamma=0.001, kernel=rbf, max_iter=1000;, score=(train=0.317, test=0.271) total time=   0.1s\n"
     ]
    },
    {
     "name": "stderr",
     "output_type": "stream",
     "text": [
      "c:\\Users\\Muhammad Ade Aulia\\miniconda3\\envs\\gpu_load\\lib\\site-packages\\sklearn\\svm\\_base.py:305: ConvergenceWarning: Solver terminated early (max_iter=1000).  Consider pre-processing your data with StandardScaler or MinMaxScaler.\n",
      "  warnings.warn(\n"
     ]
    },
    {
     "name": "stdout",
     "output_type": "stream",
     "text": [
      "[CV 4/5] END C=10, class_weight=balanced, gamma=0.001, kernel=rbf, max_iter=1000;, score=(train=0.311, test=0.309) total time=   0.2s\n",
      "[CV 5/5] END C=10, class_weight=balanced, gamma=0.001, kernel=rbf, max_iter=1000;, score=(train=0.340, test=0.271) total time=   0.1s\n",
      "[CV 1/5] END C=10, class_weight=balanced, gamma=0.001, kernel=rbf, max_iter=5000;, score=(train=0.358, test=0.271) total time=   0.1s\n",
      "[CV 2/5] END C=10, class_weight=balanced, gamma=0.001, kernel=rbf, max_iter=5000;, score=(train=0.319, test=0.303) total time=   0.1s\n",
      "[CV 3/5] END C=10, class_weight=balanced, gamma=0.001, kernel=rbf, max_iter=5000;, score=(train=0.317, test=0.271) total time=   0.2s\n",
      "[CV 4/5] END C=10, class_weight=balanced, gamma=0.001, kernel=rbf, max_iter=5000;, score=(train=0.311, test=0.309) total time=   0.2s\n",
      "[CV 5/5] END C=10, class_weight=balanced, gamma=0.001, kernel=rbf, max_iter=5000;, score=(train=0.340, test=0.271) total time=   0.1s\n",
      "[CV 1/5] END C=10, class_weight=balanced, gamma=0.001, kernel=rbf, max_iter=10000;, score=(train=0.358, test=0.271) total time=   0.1s\n",
      "[CV 2/5] END C=10, class_weight=balanced, gamma=0.001, kernel=rbf, max_iter=10000;, score=(train=0.319, test=0.303) total time=   0.1s\n",
      "[CV 3/5] END C=10, class_weight=balanced, gamma=0.001, kernel=rbf, max_iter=10000;, score=(train=0.317, test=0.271) total time=   0.1s\n",
      "[CV 4/5] END C=10, class_weight=balanced, gamma=0.001, kernel=rbf, max_iter=10000;, score=(train=0.311, test=0.309) total time=   0.1s\n",
      "[CV 5/5] END C=10, class_weight=balanced, gamma=0.001, kernel=rbf, max_iter=10000;, score=(train=0.340, test=0.271) total time=   0.1s\n"
     ]
    },
    {
     "name": "stderr",
     "output_type": "stream",
     "text": [
      "c:\\Users\\Muhammad Ade Aulia\\miniconda3\\envs\\gpu_load\\lib\\site-packages\\sklearn\\svm\\_base.py:305: ConvergenceWarning: Solver terminated early (max_iter=1000).  Consider pre-processing your data with StandardScaler or MinMaxScaler.\n",
      "  warnings.warn(\n"
     ]
    },
    {
     "name": "stdout",
     "output_type": "stream",
     "text": [
      "[CV 1/5] END C=10, class_weight=balanced, gamma=0.0001, kernel=rbf, max_iter=1000;, score=(train=0.260, test=0.178) total time=   0.2s\n",
      "[CV 2/5] END C=10, class_weight=balanced, gamma=0.0001, kernel=rbf, max_iter=1000;, score=(train=0.246, test=0.210) total time=   0.2s\n",
      "[CV 3/5] END C=10, class_weight=balanced, gamma=0.0001, kernel=rbf, max_iter=1000;, score=(train=0.256, test=0.226) total time=   0.2s\n",
      "[CV 4/5] END C=10, class_weight=balanced, gamma=0.0001, kernel=rbf, max_iter=1000;, score=(train=0.244, test=0.261) total time=   0.2s\n",
      "[CV 5/5] END C=10, class_weight=balanced, gamma=0.0001, kernel=rbf, max_iter=1000;, score=(train=0.243, test=0.239) total time=   0.2s\n",
      "[CV 1/5] END C=10, class_weight=balanced, gamma=0.0001, kernel=rbf, max_iter=5000;, score=(train=0.260, test=0.178) total time=   0.2s\n",
      "[CV 2/5] END C=10, class_weight=balanced, gamma=0.0001, kernel=rbf, max_iter=5000;, score=(train=0.246, test=0.210) total time=   0.2s\n",
      "[CV 3/5] END C=10, class_weight=balanced, gamma=0.0001, kernel=rbf, max_iter=5000;, score=(train=0.256, test=0.226) total time=   0.2s\n",
      "[CV 4/5] END C=10, class_weight=balanced, gamma=0.0001, kernel=rbf, max_iter=5000;, score=(train=0.244, test=0.261) total time=   0.2s\n",
      "[CV 5/5] END C=10, class_weight=balanced, gamma=0.0001, kernel=rbf, max_iter=5000;, score=(train=0.243, test=0.239) total time=   0.2s\n",
      "[CV 1/5] END C=10, class_weight=balanced, gamma=0.0001, kernel=rbf, max_iter=10000;, score=(train=0.260, test=0.178) total time=   0.2s\n",
      "[CV 2/5] END C=10, class_weight=balanced, gamma=0.0001, kernel=rbf, max_iter=10000;, score=(train=0.246, test=0.210) total time=   0.2s\n",
      "[CV 3/5] END C=10, class_weight=balanced, gamma=0.0001, kernel=rbf, max_iter=10000;, score=(train=0.256, test=0.226) total time=   0.2s\n",
      "[CV 4/5] END C=10, class_weight=balanced, gamma=0.0001, kernel=rbf, max_iter=10000;, score=(train=0.244, test=0.261) total time=   0.2s\n",
      "[CV 5/5] END C=10, class_weight=balanced, gamma=0.0001, kernel=rbf, max_iter=10000;, score=(train=0.243, test=0.239) total time=   0.2s\n",
      "[CV 1/5] END C=100, class_weight=None, gamma=1, kernel=rbf, max_iter=1000;, score=(train=0.976, test=0.484) total time=   0.2s\n",
      "[CV 2/5] END C=100, class_weight=None, gamma=1, kernel=rbf, max_iter=1000;, score=(train=0.973, test=0.475) total time=   0.2s\n",
      "[CV 3/5] END C=100, class_weight=None, gamma=1, kernel=rbf, max_iter=1000;, score=(train=0.978, test=0.497) total time=   0.2s\n",
      "[CV 4/5] END C=100, class_weight=None, gamma=1, kernel=rbf, max_iter=1000;, score=(train=0.974, test=0.541) total time=   0.2s\n",
      "[CV 5/5] END C=100, class_weight=None, gamma=1, kernel=rbf, max_iter=1000;, score=(train=0.978, test=0.513) total time=   0.2s\n",
      "[CV 1/5] END C=100, class_weight=None, gamma=1, kernel=rbf, max_iter=5000;, score=(train=0.976, test=0.484) total time=   0.2s\n",
      "[CV 2/5] END C=100, class_weight=None, gamma=1, kernel=rbf, max_iter=5000;, score=(train=0.973, test=0.475) total time=   0.2s\n",
      "[CV 3/5] END C=100, class_weight=None, gamma=1, kernel=rbf, max_iter=5000;, score=(train=0.978, test=0.497) total time=   0.2s\n",
      "[CV 4/5] END C=100, class_weight=None, gamma=1, kernel=rbf, max_iter=5000;, score=(train=0.974, test=0.541) total time=   0.2s\n",
      "[CV 5/5] END C=100, class_weight=None, gamma=1, kernel=rbf, max_iter=5000;, score=(train=0.978, test=0.513) total time=   0.2s\n",
      "[CV 1/5] END C=100, class_weight=None, gamma=1, kernel=rbf, max_iter=10000;, score=(train=0.976, test=0.484) total time=   0.2s\n",
      "[CV 2/5] END C=100, class_weight=None, gamma=1, kernel=rbf, max_iter=10000;, score=(train=0.973, test=0.475) total time=   0.2s\n",
      "[CV 3/5] END C=100, class_weight=None, gamma=1, kernel=rbf, max_iter=10000;, score=(train=0.978, test=0.497) total time=   0.2s\n",
      "[CV 4/5] END C=100, class_weight=None, gamma=1, kernel=rbf, max_iter=10000;, score=(train=0.974, test=0.541) total time=   0.2s\n",
      "[CV 5/5] END C=100, class_weight=None, gamma=1, kernel=rbf, max_iter=10000;, score=(train=0.978, test=0.513) total time=   0.2s\n"
     ]
    },
    {
     "name": "stderr",
     "output_type": "stream",
     "text": [
      "c:\\Users\\Muhammad Ade Aulia\\miniconda3\\envs\\gpu_load\\lib\\site-packages\\sklearn\\svm\\_base.py:305: ConvergenceWarning: Solver terminated early (max_iter=1000).  Consider pre-processing your data with StandardScaler or MinMaxScaler.\n",
      "  warnings.warn(\n"
     ]
    },
    {
     "name": "stdout",
     "output_type": "stream",
     "text": [
      "[CV 1/5] END C=100, class_weight=None, gamma=0.1, kernel=rbf, max_iter=1000;, score=(train=0.972, test=0.659) total time=   0.2s\n"
     ]
    },
    {
     "name": "stderr",
     "output_type": "stream",
     "text": [
      "c:\\Users\\Muhammad Ade Aulia\\miniconda3\\envs\\gpu_load\\lib\\site-packages\\sklearn\\svm\\_base.py:305: ConvergenceWarning: Solver terminated early (max_iter=1000).  Consider pre-processing your data with StandardScaler or MinMaxScaler.\n",
      "  warnings.warn(\n"
     ]
    },
    {
     "name": "stdout",
     "output_type": "stream",
     "text": [
      "[CV 2/5] END C=100, class_weight=None, gamma=0.1, kernel=rbf, max_iter=1000;, score=(train=0.970, test=0.627) total time=   0.2s\n"
     ]
    },
    {
     "name": "stderr",
     "output_type": "stream",
     "text": [
      "c:\\Users\\Muhammad Ade Aulia\\miniconda3\\envs\\gpu_load\\lib\\site-packages\\sklearn\\svm\\_base.py:305: ConvergenceWarning: Solver terminated early (max_iter=1000).  Consider pre-processing your data with StandardScaler or MinMaxScaler.\n",
      "  warnings.warn(\n"
     ]
    },
    {
     "name": "stdout",
     "output_type": "stream",
     "text": [
      "[CV 3/5] END C=100, class_weight=None, gamma=0.1, kernel=rbf, max_iter=1000;, score=(train=0.974, test=0.656) total time=   0.2s\n"
     ]
    },
    {
     "name": "stderr",
     "output_type": "stream",
     "text": [
      "c:\\Users\\Muhammad Ade Aulia\\miniconda3\\envs\\gpu_load\\lib\\site-packages\\sklearn\\svm\\_base.py:305: ConvergenceWarning: Solver terminated early (max_iter=1000).  Consider pre-processing your data with StandardScaler or MinMaxScaler.\n",
      "  warnings.warn(\n"
     ]
    },
    {
     "name": "stdout",
     "output_type": "stream",
     "text": [
      "[CV 4/5] END C=100, class_weight=None, gamma=0.1, kernel=rbf, max_iter=1000;, score=(train=0.969, test=0.697) total time=   0.2s\n"
     ]
    },
    {
     "name": "stderr",
     "output_type": "stream",
     "text": [
      "c:\\Users\\Muhammad Ade Aulia\\miniconda3\\envs\\gpu_load\\lib\\site-packages\\sklearn\\svm\\_base.py:305: ConvergenceWarning: Solver terminated early (max_iter=1000).  Consider pre-processing your data with StandardScaler or MinMaxScaler.\n",
      "  warnings.warn(\n"
     ]
    },
    {
     "name": "stdout",
     "output_type": "stream",
     "text": [
      "[CV 5/5] END C=100, class_weight=None, gamma=0.1, kernel=rbf, max_iter=1000;, score=(train=0.973, test=0.643) total time=   0.2s\n",
      "[CV 1/5] END C=100, class_weight=None, gamma=0.1, kernel=rbf, max_iter=5000;, score=(train=0.972, test=0.659) total time=   0.2s\n",
      "[CV 2/5] END C=100, class_weight=None, gamma=0.1, kernel=rbf, max_iter=5000;, score=(train=0.970, test=0.627) total time=   0.2s\n",
      "[CV 3/5] END C=100, class_weight=None, gamma=0.1, kernel=rbf, max_iter=5000;, score=(train=0.974, test=0.656) total time=   0.2s\n",
      "[CV 4/5] END C=100, class_weight=None, gamma=0.1, kernel=rbf, max_iter=5000;, score=(train=0.969, test=0.697) total time=   0.2s\n",
      "[CV 5/5] END C=100, class_weight=None, gamma=0.1, kernel=rbf, max_iter=5000;, score=(train=0.973, test=0.640) total time=   0.2s\n",
      "[CV 1/5] END C=100, class_weight=None, gamma=0.1, kernel=rbf, max_iter=10000;, score=(train=0.972, test=0.659) total time=   0.2s\n",
      "[CV 2/5] END C=100, class_weight=None, gamma=0.1, kernel=rbf, max_iter=10000;, score=(train=0.970, test=0.627) total time=   0.2s\n",
      "[CV 3/5] END C=100, class_weight=None, gamma=0.1, kernel=rbf, max_iter=10000;, score=(train=0.974, test=0.656) total time=   0.2s\n",
      "[CV 4/5] END C=100, class_weight=None, gamma=0.1, kernel=rbf, max_iter=10000;, score=(train=0.969, test=0.697) total time=   0.2s\n",
      "[CV 5/5] END C=100, class_weight=None, gamma=0.1, kernel=rbf, max_iter=10000;, score=(train=0.973, test=0.640) total time=   0.2s\n"
     ]
    },
    {
     "name": "stderr",
     "output_type": "stream",
     "text": [
      "c:\\Users\\Muhammad Ade Aulia\\miniconda3\\envs\\gpu_load\\lib\\site-packages\\sklearn\\svm\\_base.py:305: ConvergenceWarning: Solver terminated early (max_iter=1000).  Consider pre-processing your data with StandardScaler or MinMaxScaler.\n",
      "  warnings.warn(\n"
     ]
    },
    {
     "name": "stdout",
     "output_type": "stream",
     "text": [
      "[CV 1/5] END C=100, class_weight=None, gamma=0.01, kernel=rbf, max_iter=1000;, score=(train=0.948, test=0.745) total time=   0.1s\n"
     ]
    },
    {
     "name": "stderr",
     "output_type": "stream",
     "text": [
      "c:\\Users\\Muhammad Ade Aulia\\miniconda3\\envs\\gpu_load\\lib\\site-packages\\sklearn\\svm\\_base.py:305: ConvergenceWarning: Solver terminated early (max_iter=1000).  Consider pre-processing your data with StandardScaler or MinMaxScaler.\n",
      "  warnings.warn(\n"
     ]
    },
    {
     "name": "stdout",
     "output_type": "stream",
     "text": [
      "[CV 2/5] END C=100, class_weight=None, gamma=0.01, kernel=rbf, max_iter=1000;, score=(train=0.945, test=0.748) total time=   0.1s\n"
     ]
    },
    {
     "name": "stderr",
     "output_type": "stream",
     "text": [
      "c:\\Users\\Muhammad Ade Aulia\\miniconda3\\envs\\gpu_load\\lib\\site-packages\\sklearn\\svm\\_base.py:305: ConvergenceWarning: Solver terminated early (max_iter=1000).  Consider pre-processing your data with StandardScaler or MinMaxScaler.\n",
      "  warnings.warn(\n"
     ]
    },
    {
     "name": "stdout",
     "output_type": "stream",
     "text": [
      "[CV 3/5] END C=100, class_weight=None, gamma=0.01, kernel=rbf, max_iter=1000;, score=(train=0.947, test=0.732) total time=   0.2s\n"
     ]
    },
    {
     "name": "stderr",
     "output_type": "stream",
     "text": [
      "c:\\Users\\Muhammad Ade Aulia\\miniconda3\\envs\\gpu_load\\lib\\site-packages\\sklearn\\svm\\_base.py:305: ConvergenceWarning: Solver terminated early (max_iter=1000).  Consider pre-processing your data with StandardScaler or MinMaxScaler.\n",
      "  warnings.warn(\n"
     ]
    },
    {
     "name": "stdout",
     "output_type": "stream",
     "text": [
      "[CV 4/5] END C=100, class_weight=None, gamma=0.01, kernel=rbf, max_iter=1000;, score=(train=0.944, test=0.774) total time=   0.2s\n"
     ]
    },
    {
     "name": "stderr",
     "output_type": "stream",
     "text": [
      "c:\\Users\\Muhammad Ade Aulia\\miniconda3\\envs\\gpu_load\\lib\\site-packages\\sklearn\\svm\\_base.py:305: ConvergenceWarning: Solver terminated early (max_iter=1000).  Consider pre-processing your data with StandardScaler or MinMaxScaler.\n",
      "  warnings.warn(\n"
     ]
    },
    {
     "name": "stdout",
     "output_type": "stream",
     "text": [
      "[CV 5/5] END C=100, class_weight=None, gamma=0.01, kernel=rbf, max_iter=1000;, score=(train=0.947, test=0.717) total time=   0.1s\n"
     ]
    },
    {
     "name": "stderr",
     "output_type": "stream",
     "text": [
      "c:\\Users\\Muhammad Ade Aulia\\miniconda3\\envs\\gpu_load\\lib\\site-packages\\sklearn\\svm\\_base.py:305: ConvergenceWarning: Solver terminated early (max_iter=5000).  Consider pre-processing your data with StandardScaler or MinMaxScaler.\n",
      "  warnings.warn(\n"
     ]
    },
    {
     "name": "stdout",
     "output_type": "stream",
     "text": [
      "[CV 1/5] END C=100, class_weight=None, gamma=0.01, kernel=rbf, max_iter=5000;, score=(train=0.948, test=0.742) total time=   0.2s\n"
     ]
    },
    {
     "name": "stderr",
     "output_type": "stream",
     "text": [
      "c:\\Users\\Muhammad Ade Aulia\\miniconda3\\envs\\gpu_load\\lib\\site-packages\\sklearn\\svm\\_base.py:305: ConvergenceWarning: Solver terminated early (max_iter=5000).  Consider pre-processing your data with StandardScaler or MinMaxScaler.\n",
      "  warnings.warn(\n"
     ]
    },
    {
     "name": "stdout",
     "output_type": "stream",
     "text": [
      "[CV 2/5] END C=100, class_weight=None, gamma=0.01, kernel=rbf, max_iter=5000;, score=(train=0.945, test=0.745) total time=   0.2s\n",
      "[CV 3/5] END C=100, class_weight=None, gamma=0.01, kernel=rbf, max_iter=5000;, score=(train=0.947, test=0.732) total time=   0.2s\n",
      "[CV 4/5] END C=100, class_weight=None, gamma=0.01, kernel=rbf, max_iter=5000;, score=(train=0.943, test=0.777) total time=   0.2s\n",
      "[CV 5/5] END C=100, class_weight=None, gamma=0.01, kernel=rbf, max_iter=5000;, score=(train=0.947, test=0.717) total time=   0.2s\n",
      "[CV 1/5] END C=100, class_weight=None, gamma=0.01, kernel=rbf, max_iter=10000;, score=(train=0.948, test=0.742) total time=   0.2s\n",
      "[CV 2/5] END C=100, class_weight=None, gamma=0.01, kernel=rbf, max_iter=10000;, score=(train=0.945, test=0.745) total time=   0.2s\n",
      "[CV 3/5] END C=100, class_weight=None, gamma=0.01, kernel=rbf, max_iter=10000;, score=(train=0.947, test=0.732) total time=   0.2s\n",
      "[CV 4/5] END C=100, class_weight=None, gamma=0.01, kernel=rbf, max_iter=10000;, score=(train=0.943, test=0.777) total time=   0.2s\n",
      "[CV 5/5] END C=100, class_weight=None, gamma=0.01, kernel=rbf, max_iter=10000;, score=(train=0.947, test=0.717) total time=   0.2s\n"
     ]
    },
    {
     "name": "stderr",
     "output_type": "stream",
     "text": [
      "c:\\Users\\Muhammad Ade Aulia\\miniconda3\\envs\\gpu_load\\lib\\site-packages\\sklearn\\svm\\_base.py:305: ConvergenceWarning: Solver terminated early (max_iter=1000).  Consider pre-processing your data with StandardScaler or MinMaxScaler.\n",
      "  warnings.warn(\n"
     ]
    },
    {
     "name": "stdout",
     "output_type": "stream",
     "text": [
      "[CV 1/5] END C=100, class_weight=None, gamma=0.001, kernel=rbf, max_iter=1000;, score=(train=0.697, test=0.545) total time=   0.2s\n"
     ]
    },
    {
     "name": "stderr",
     "output_type": "stream",
     "text": [
      "c:\\Users\\Muhammad Ade Aulia\\miniconda3\\envs\\gpu_load\\lib\\site-packages\\sklearn\\svm\\_base.py:305: ConvergenceWarning: Solver terminated early (max_iter=1000).  Consider pre-processing your data with StandardScaler or MinMaxScaler.\n",
      "  warnings.warn(\n"
     ]
    },
    {
     "name": "stdout",
     "output_type": "stream",
     "text": [
      "[CV 2/5] END C=100, class_weight=None, gamma=0.001, kernel=rbf, max_iter=1000;, score=(train=0.692, test=0.576) total time=   0.2s\n"
     ]
    },
    {
     "name": "stderr",
     "output_type": "stream",
     "text": [
      "c:\\Users\\Muhammad Ade Aulia\\miniconda3\\envs\\gpu_load\\lib\\site-packages\\sklearn\\svm\\_base.py:305: ConvergenceWarning: Solver terminated early (max_iter=1000).  Consider pre-processing your data with StandardScaler or MinMaxScaler.\n",
      "  warnings.warn(\n"
     ]
    },
    {
     "name": "stdout",
     "output_type": "stream",
     "text": [
      "[CV 3/5] END C=100, class_weight=None, gamma=0.001, kernel=rbf, max_iter=1000;, score=(train=0.669, test=0.557) total time=   0.2s\n"
     ]
    },
    {
     "name": "stderr",
     "output_type": "stream",
     "text": [
      "c:\\Users\\Muhammad Ade Aulia\\miniconda3\\envs\\gpu_load\\lib\\site-packages\\sklearn\\svm\\_base.py:305: ConvergenceWarning: Solver terminated early (max_iter=1000).  Consider pre-processing your data with StandardScaler or MinMaxScaler.\n",
      "  warnings.warn(\n"
     ]
    },
    {
     "name": "stdout",
     "output_type": "stream",
     "text": [
      "[CV 4/5] END C=100, class_weight=None, gamma=0.001, kernel=rbf, max_iter=1000;, score=(train=0.665, test=0.564) total time=   0.2s\n"
     ]
    },
    {
     "name": "stderr",
     "output_type": "stream",
     "text": [
      "c:\\Users\\Muhammad Ade Aulia\\miniconda3\\envs\\gpu_load\\lib\\site-packages\\sklearn\\svm\\_base.py:305: ConvergenceWarning: Solver terminated early (max_iter=1000).  Consider pre-processing your data with StandardScaler or MinMaxScaler.\n",
      "  warnings.warn(\n"
     ]
    },
    {
     "name": "stdout",
     "output_type": "stream",
     "text": [
      "[CV 5/5] END C=100, class_weight=None, gamma=0.001, kernel=rbf, max_iter=1000;, score=(train=0.683, test=0.557) total time=   0.2s\n"
     ]
    },
    {
     "name": "stderr",
     "output_type": "stream",
     "text": [
      "c:\\Users\\Muhammad Ade Aulia\\miniconda3\\envs\\gpu_load\\lib\\site-packages\\sklearn\\svm\\_base.py:305: ConvergenceWarning: Solver terminated early (max_iter=5000).  Consider pre-processing your data with StandardScaler or MinMaxScaler.\n",
      "  warnings.warn(\n"
     ]
    },
    {
     "name": "stdout",
     "output_type": "stream",
     "text": [
      "[CV 1/5] END C=100, class_weight=None, gamma=0.001, kernel=rbf, max_iter=5000;, score=(train=0.693, test=0.541) total time=   0.2s\n"
     ]
    },
    {
     "name": "stderr",
     "output_type": "stream",
     "text": [
      "c:\\Users\\Muhammad Ade Aulia\\miniconda3\\envs\\gpu_load\\lib\\site-packages\\sklearn\\svm\\_base.py:305: ConvergenceWarning: Solver terminated early (max_iter=5000).  Consider pre-processing your data with StandardScaler or MinMaxScaler.\n",
      "  warnings.warn(\n"
     ]
    },
    {
     "name": "stdout",
     "output_type": "stream",
     "text": [
      "[CV 2/5] END C=100, class_weight=None, gamma=0.001, kernel=rbf, max_iter=5000;, score=(train=0.688, test=0.586) total time=   0.2s\n"
     ]
    },
    {
     "name": "stderr",
     "output_type": "stream",
     "text": [
      "c:\\Users\\Muhammad Ade Aulia\\miniconda3\\envs\\gpu_load\\lib\\site-packages\\sklearn\\svm\\_base.py:305: ConvergenceWarning: Solver terminated early (max_iter=5000).  Consider pre-processing your data with StandardScaler or MinMaxScaler.\n",
      "  warnings.warn(\n"
     ]
    },
    {
     "name": "stdout",
     "output_type": "stream",
     "text": [
      "[CV 3/5] END C=100, class_weight=None, gamma=0.001, kernel=rbf, max_iter=5000;, score=(train=0.666, test=0.557) total time=   0.2s\n"
     ]
    },
    {
     "name": "stderr",
     "output_type": "stream",
     "text": [
      "c:\\Users\\Muhammad Ade Aulia\\miniconda3\\envs\\gpu_load\\lib\\site-packages\\sklearn\\svm\\_base.py:305: ConvergenceWarning: Solver terminated early (max_iter=5000).  Consider pre-processing your data with StandardScaler or MinMaxScaler.\n",
      "  warnings.warn(\n"
     ]
    },
    {
     "name": "stdout",
     "output_type": "stream",
     "text": [
      "[CV 4/5] END C=100, class_weight=None, gamma=0.001, kernel=rbf, max_iter=5000;, score=(train=0.666, test=0.567) total time=   0.2s\n"
     ]
    },
    {
     "name": "stderr",
     "output_type": "stream",
     "text": [
      "c:\\Users\\Muhammad Ade Aulia\\miniconda3\\envs\\gpu_load\\lib\\site-packages\\sklearn\\svm\\_base.py:305: ConvergenceWarning: Solver terminated early (max_iter=5000).  Consider pre-processing your data with StandardScaler or MinMaxScaler.\n",
      "  warnings.warn(\n"
     ]
    },
    {
     "name": "stdout",
     "output_type": "stream",
     "text": [
      "[CV 5/5] END C=100, class_weight=None, gamma=0.001, kernel=rbf, max_iter=5000;, score=(train=0.681, test=0.548) total time=   0.2s\n",
      "[CV 1/5] END C=100, class_weight=None, gamma=0.001, kernel=rbf, max_iter=10000;, score=(train=0.693, test=0.541) total time=   0.2s\n"
     ]
    },
    {
     "name": "stderr",
     "output_type": "stream",
     "text": [
      "c:\\Users\\Muhammad Ade Aulia\\miniconda3\\envs\\gpu_load\\lib\\site-packages\\sklearn\\svm\\_base.py:305: ConvergenceWarning: Solver terminated early (max_iter=10000).  Consider pre-processing your data with StandardScaler or MinMaxScaler.\n",
      "  warnings.warn(\n"
     ]
    },
    {
     "name": "stdout",
     "output_type": "stream",
     "text": [
      "[CV 2/5] END C=100, class_weight=None, gamma=0.001, kernel=rbf, max_iter=10000;, score=(train=0.688, test=0.586) total time=   0.2s\n"
     ]
    },
    {
     "name": "stderr",
     "output_type": "stream",
     "text": [
      "c:\\Users\\Muhammad Ade Aulia\\miniconda3\\envs\\gpu_load\\lib\\site-packages\\sklearn\\svm\\_base.py:305: ConvergenceWarning: Solver terminated early (max_iter=10000).  Consider pre-processing your data with StandardScaler or MinMaxScaler.\n",
      "  warnings.warn(\n"
     ]
    },
    {
     "name": "stdout",
     "output_type": "stream",
     "text": [
      "[CV 3/5] END C=100, class_weight=None, gamma=0.001, kernel=rbf, max_iter=10000;, score=(train=0.666, test=0.557) total time=   0.2s\n"
     ]
    },
    {
     "name": "stderr",
     "output_type": "stream",
     "text": [
      "c:\\Users\\Muhammad Ade Aulia\\miniconda3\\envs\\gpu_load\\lib\\site-packages\\sklearn\\svm\\_base.py:305: ConvergenceWarning: Solver terminated early (max_iter=10000).  Consider pre-processing your data with StandardScaler or MinMaxScaler.\n",
      "  warnings.warn(\n"
     ]
    },
    {
     "name": "stdout",
     "output_type": "stream",
     "text": [
      "[CV 4/5] END C=100, class_weight=None, gamma=0.001, kernel=rbf, max_iter=10000;, score=(train=0.666, test=0.567) total time=   0.2s\n",
      "[CV 5/5] END C=100, class_weight=None, gamma=0.001, kernel=rbf, max_iter=10000;, score=(train=0.681, test=0.548) total time=   0.2s\n"
     ]
    },
    {
     "name": "stderr",
     "output_type": "stream",
     "text": [
      "c:\\Users\\Muhammad Ade Aulia\\miniconda3\\envs\\gpu_load\\lib\\site-packages\\sklearn\\svm\\_base.py:305: ConvergenceWarning: Solver terminated early (max_iter=1000).  Consider pre-processing your data with StandardScaler or MinMaxScaler.\n",
      "  warnings.warn(\n"
     ]
    },
    {
     "name": "stdout",
     "output_type": "stream",
     "text": [
      "[CV 1/5] END C=100, class_weight=None, gamma=0.0001, kernel=rbf, max_iter=1000;, score=(train=0.321, test=0.255) total time=   0.2s\n"
     ]
    },
    {
     "name": "stderr",
     "output_type": "stream",
     "text": [
      "c:\\Users\\Muhammad Ade Aulia\\miniconda3\\envs\\gpu_load\\lib\\site-packages\\sklearn\\svm\\_base.py:305: ConvergenceWarning: Solver terminated early (max_iter=1000).  Consider pre-processing your data with StandardScaler or MinMaxScaler.\n",
      "  warnings.warn(\n"
     ]
    },
    {
     "name": "stdout",
     "output_type": "stream",
     "text": [
      "[CV 2/5] END C=100, class_weight=None, gamma=0.0001, kernel=rbf, max_iter=1000;, score=(train=0.291, test=0.290) total time=   0.2s\n"
     ]
    },
    {
     "name": "stderr",
     "output_type": "stream",
     "text": [
      "c:\\Users\\Muhammad Ade Aulia\\miniconda3\\envs\\gpu_load\\lib\\site-packages\\sklearn\\svm\\_base.py:305: ConvergenceWarning: Solver terminated early (max_iter=1000).  Consider pre-processing your data with StandardScaler or MinMaxScaler.\n",
      "  warnings.warn(\n"
     ]
    },
    {
     "name": "stdout",
     "output_type": "stream",
     "text": [
      "[CV 3/5] END C=100, class_weight=None, gamma=0.0001, kernel=rbf, max_iter=1000;, score=(train=0.317, test=0.309) total time=   0.2s\n"
     ]
    },
    {
     "name": "stderr",
     "output_type": "stream",
     "text": [
      "c:\\Users\\Muhammad Ade Aulia\\miniconda3\\envs\\gpu_load\\lib\\site-packages\\sklearn\\svm\\_base.py:305: ConvergenceWarning: Solver terminated early (max_iter=1000).  Consider pre-processing your data with StandardScaler or MinMaxScaler.\n",
      "  warnings.warn(\n"
     ]
    },
    {
     "name": "stdout",
     "output_type": "stream",
     "text": [
      "[CV 4/5] END C=100, class_weight=None, gamma=0.0001, kernel=rbf, max_iter=1000;, score=(train=0.306, test=0.309) total time=   0.2s\n"
     ]
    },
    {
     "name": "stderr",
     "output_type": "stream",
     "text": [
      "c:\\Users\\Muhammad Ade Aulia\\miniconda3\\envs\\gpu_load\\lib\\site-packages\\sklearn\\svm\\_base.py:305: ConvergenceWarning: Solver terminated early (max_iter=1000).  Consider pre-processing your data with StandardScaler or MinMaxScaler.\n",
      "  warnings.warn(\n"
     ]
    },
    {
     "name": "stdout",
     "output_type": "stream",
     "text": [
      "[CV 5/5] END C=100, class_weight=None, gamma=0.0001, kernel=rbf, max_iter=1000;, score=(train=0.297, test=0.299) total time=   0.2s\n",
      "[CV 1/5] END C=100, class_weight=None, gamma=0.0001, kernel=rbf, max_iter=5000;, score=(train=0.320, test=0.255) total time=   0.2s\n",
      "[CV 2/5] END C=100, class_weight=None, gamma=0.0001, kernel=rbf, max_iter=5000;, score=(train=0.291, test=0.290) total time=   0.2s\n",
      "[CV 3/5] END C=100, class_weight=None, gamma=0.0001, kernel=rbf, max_iter=5000;, score=(train=0.315, test=0.309) total time=   0.2s\n",
      "[CV 4/5] END C=100, class_weight=None, gamma=0.0001, kernel=rbf, max_iter=5000;, score=(train=0.305, test=0.309) total time=   0.2s\n",
      "[CV 5/5] END C=100, class_weight=None, gamma=0.0001, kernel=rbf, max_iter=5000;, score=(train=0.297, test=0.299) total time=   0.2s\n",
      "[CV 1/5] END C=100, class_weight=None, gamma=0.0001, kernel=rbf, max_iter=10000;, score=(train=0.320, test=0.255) total time=   0.2s\n",
      "[CV 2/5] END C=100, class_weight=None, gamma=0.0001, kernel=rbf, max_iter=10000;, score=(train=0.291, test=0.290) total time=   0.2s\n",
      "[CV 3/5] END C=100, class_weight=None, gamma=0.0001, kernel=rbf, max_iter=10000;, score=(train=0.315, test=0.309) total time=   0.2s\n",
      "[CV 4/5] END C=100, class_weight=None, gamma=0.0001, kernel=rbf, max_iter=10000;, score=(train=0.305, test=0.309) total time=   0.2s\n",
      "[CV 5/5] END C=100, class_weight=None, gamma=0.0001, kernel=rbf, max_iter=10000;, score=(train=0.297, test=0.299) total time=   0.2s\n",
      "[CV 1/5] END C=100, class_weight=balanced, gamma=1, kernel=rbf, max_iter=1000;, score=(train=0.976, test=0.478) total time=   0.2s\n",
      "[CV 2/5] END C=100, class_weight=balanced, gamma=1, kernel=rbf, max_iter=1000;, score=(train=0.973, test=0.478) total time=   0.2s\n",
      "[CV 3/5] END C=100, class_weight=balanced, gamma=1, kernel=rbf, max_iter=1000;, score=(train=0.978, test=0.494) total time=   0.2s\n",
      "[CV 4/5] END C=100, class_weight=balanced, gamma=1, kernel=rbf, max_iter=1000;, score=(train=0.974, test=0.535) total time=   0.2s\n",
      "[CV 5/5] END C=100, class_weight=balanced, gamma=1, kernel=rbf, max_iter=1000;, score=(train=0.978, test=0.516) total time=   0.3s\n",
      "[CV 1/5] END C=100, class_weight=balanced, gamma=1, kernel=rbf, max_iter=5000;, score=(train=0.976, test=0.478) total time=   0.2s\n",
      "[CV 2/5] END C=100, class_weight=balanced, gamma=1, kernel=rbf, max_iter=5000;, score=(train=0.973, test=0.478) total time=   0.2s\n",
      "[CV 3/5] END C=100, class_weight=balanced, gamma=1, kernel=rbf, max_iter=5000;, score=(train=0.978, test=0.494) total time=   0.2s\n",
      "[CV 4/5] END C=100, class_weight=balanced, gamma=1, kernel=rbf, max_iter=5000;, score=(train=0.974, test=0.535) total time=   0.2s\n",
      "[CV 5/5] END C=100, class_weight=balanced, gamma=1, kernel=rbf, max_iter=5000;, score=(train=0.978, test=0.516) total time=   0.2s\n",
      "[CV 1/5] END C=100, class_weight=balanced, gamma=1, kernel=rbf, max_iter=10000;, score=(train=0.976, test=0.478) total time=   0.2s\n",
      "[CV 2/5] END C=100, class_weight=balanced, gamma=1, kernel=rbf, max_iter=10000;, score=(train=0.973, test=0.478) total time=   0.2s\n",
      "[CV 3/5] END C=100, class_weight=balanced, gamma=1, kernel=rbf, max_iter=10000;, score=(train=0.978, test=0.494) total time=   0.2s\n",
      "[CV 4/5] END C=100, class_weight=balanced, gamma=1, kernel=rbf, max_iter=10000;, score=(train=0.974, test=0.535) total time=   0.2s\n",
      "[CV 5/5] END C=100, class_weight=balanced, gamma=1, kernel=rbf, max_iter=10000;, score=(train=0.978, test=0.516) total time=   0.2s\n"
     ]
    },
    {
     "name": "stderr",
     "output_type": "stream",
     "text": [
      "c:\\Users\\Muhammad Ade Aulia\\miniconda3\\envs\\gpu_load\\lib\\site-packages\\sklearn\\svm\\_base.py:305: ConvergenceWarning: Solver terminated early (max_iter=1000).  Consider pre-processing your data with StandardScaler or MinMaxScaler.\n",
      "  warnings.warn(\n"
     ]
    },
    {
     "name": "stdout",
     "output_type": "stream",
     "text": [
      "[CV 1/5] END C=100, class_weight=balanced, gamma=0.1, kernel=rbf, max_iter=1000;, score=(train=0.973, test=0.650) total time=   0.2s\n"
     ]
    },
    {
     "name": "stderr",
     "output_type": "stream",
     "text": [
      "c:\\Users\\Muhammad Ade Aulia\\miniconda3\\envs\\gpu_load\\lib\\site-packages\\sklearn\\svm\\_base.py:305: ConvergenceWarning: Solver terminated early (max_iter=1000).  Consider pre-processing your data with StandardScaler or MinMaxScaler.\n",
      "  warnings.warn(\n"
     ]
    },
    {
     "name": "stdout",
     "output_type": "stream",
     "text": [
      "[CV 2/5] END C=100, class_weight=balanced, gamma=0.1, kernel=rbf, max_iter=1000;, score=(train=0.971, test=0.631) total time=   0.2s\n"
     ]
    },
    {
     "name": "stderr",
     "output_type": "stream",
     "text": [
      "c:\\Users\\Muhammad Ade Aulia\\miniconda3\\envs\\gpu_load\\lib\\site-packages\\sklearn\\svm\\_base.py:305: ConvergenceWarning: Solver terminated early (max_iter=1000).  Consider pre-processing your data with StandardScaler or MinMaxScaler.\n",
      "  warnings.warn(\n"
     ]
    },
    {
     "name": "stdout",
     "output_type": "stream",
     "text": [
      "[CV 3/5] END C=100, class_weight=balanced, gamma=0.1, kernel=rbf, max_iter=1000;, score=(train=0.974, test=0.656) total time=   0.2s\n"
     ]
    },
    {
     "name": "stderr",
     "output_type": "stream",
     "text": [
      "c:\\Users\\Muhammad Ade Aulia\\miniconda3\\envs\\gpu_load\\lib\\site-packages\\sklearn\\svm\\_base.py:305: ConvergenceWarning: Solver terminated early (max_iter=1000).  Consider pre-processing your data with StandardScaler or MinMaxScaler.\n",
      "  warnings.warn(\n"
     ]
    },
    {
     "name": "stdout",
     "output_type": "stream",
     "text": [
      "[CV 4/5] END C=100, class_weight=balanced, gamma=0.1, kernel=rbf, max_iter=1000;, score=(train=0.969, test=0.697) total time=   0.2s\n"
     ]
    },
    {
     "name": "stderr",
     "output_type": "stream",
     "text": [
      "c:\\Users\\Muhammad Ade Aulia\\miniconda3\\envs\\gpu_load\\lib\\site-packages\\sklearn\\svm\\_base.py:305: ConvergenceWarning: Solver terminated early (max_iter=1000).  Consider pre-processing your data with StandardScaler or MinMaxScaler.\n",
      "  warnings.warn(\n"
     ]
    },
    {
     "name": "stdout",
     "output_type": "stream",
     "text": [
      "[CV 5/5] END C=100, class_weight=balanced, gamma=0.1, kernel=rbf, max_iter=1000;, score=(train=0.975, test=0.640) total time=   0.2s\n",
      "[CV 1/5] END C=100, class_weight=balanced, gamma=0.1, kernel=rbf, max_iter=5000;, score=(train=0.973, test=0.650) total time=   0.2s\n",
      "[CV 2/5] END C=100, class_weight=balanced, gamma=0.1, kernel=rbf, max_iter=5000;, score=(train=0.971, test=0.631) total time=   0.2s\n",
      "[CV 3/5] END C=100, class_weight=balanced, gamma=0.1, kernel=rbf, max_iter=5000;, score=(train=0.974, test=0.656) total time=   0.2s\n",
      "[CV 4/5] END C=100, class_weight=balanced, gamma=0.1, kernel=rbf, max_iter=5000;, score=(train=0.969, test=0.697) total time=   0.2s\n",
      "[CV 5/5] END C=100, class_weight=balanced, gamma=0.1, kernel=rbf, max_iter=5000;, score=(train=0.975, test=0.640) total time=   0.2s\n",
      "[CV 1/5] END C=100, class_weight=balanced, gamma=0.1, kernel=rbf, max_iter=10000;, score=(train=0.973, test=0.650) total time=   0.2s\n",
      "[CV 2/5] END C=100, class_weight=balanced, gamma=0.1, kernel=rbf, max_iter=10000;, score=(train=0.971, test=0.631) total time=   0.2s\n",
      "[CV 3/5] END C=100, class_weight=balanced, gamma=0.1, kernel=rbf, max_iter=10000;, score=(train=0.974, test=0.656) total time=   0.2s\n",
      "[CV 4/5] END C=100, class_weight=balanced, gamma=0.1, kernel=rbf, max_iter=10000;, score=(train=0.969, test=0.697) total time=   0.2s\n",
      "[CV 5/5] END C=100, class_weight=balanced, gamma=0.1, kernel=rbf, max_iter=10000;, score=(train=0.975, test=0.640) total time=   0.2s\n"
     ]
    },
    {
     "name": "stderr",
     "output_type": "stream",
     "text": [
      "c:\\Users\\Muhammad Ade Aulia\\miniconda3\\envs\\gpu_load\\lib\\site-packages\\sklearn\\svm\\_base.py:305: ConvergenceWarning: Solver terminated early (max_iter=1000).  Consider pre-processing your data with StandardScaler or MinMaxScaler.\n",
      "  warnings.warn(\n"
     ]
    },
    {
     "name": "stdout",
     "output_type": "stream",
     "text": [
      "[CV 1/5] END C=100, class_weight=balanced, gamma=0.01, kernel=rbf, max_iter=1000;, score=(train=0.945, test=0.752) total time=   0.1s\n"
     ]
    },
    {
     "name": "stderr",
     "output_type": "stream",
     "text": [
      "c:\\Users\\Muhammad Ade Aulia\\miniconda3\\envs\\gpu_load\\lib\\site-packages\\sklearn\\svm\\_base.py:305: ConvergenceWarning: Solver terminated early (max_iter=1000).  Consider pre-processing your data with StandardScaler or MinMaxScaler.\n",
      "  warnings.warn(\n"
     ]
    },
    {
     "name": "stdout",
     "output_type": "stream",
     "text": [
      "[CV 2/5] END C=100, class_weight=balanced, gamma=0.01, kernel=rbf, max_iter=1000;, score=(train=0.946, test=0.748) total time=   0.1s\n"
     ]
    },
    {
     "name": "stderr",
     "output_type": "stream",
     "text": [
      "c:\\Users\\Muhammad Ade Aulia\\miniconda3\\envs\\gpu_load\\lib\\site-packages\\sklearn\\svm\\_base.py:305: ConvergenceWarning: Solver terminated early (max_iter=1000).  Consider pre-processing your data with StandardScaler or MinMaxScaler.\n",
      "  warnings.warn(\n"
     ]
    },
    {
     "name": "stdout",
     "output_type": "stream",
     "text": [
      "[CV 3/5] END C=100, class_weight=balanced, gamma=0.01, kernel=rbf, max_iter=1000;, score=(train=0.947, test=0.736) total time=   0.1s\n"
     ]
    },
    {
     "name": "stderr",
     "output_type": "stream",
     "text": [
      "c:\\Users\\Muhammad Ade Aulia\\miniconda3\\envs\\gpu_load\\lib\\site-packages\\sklearn\\svm\\_base.py:305: ConvergenceWarning: Solver terminated early (max_iter=1000).  Consider pre-processing your data with StandardScaler or MinMaxScaler.\n",
      "  warnings.warn(\n"
     ]
    },
    {
     "name": "stdout",
     "output_type": "stream",
     "text": [
      "[CV 4/5] END C=100, class_weight=balanced, gamma=0.01, kernel=rbf, max_iter=1000;, score=(train=0.941, test=0.774) total time=   0.1s\n"
     ]
    },
    {
     "name": "stderr",
     "output_type": "stream",
     "text": [
      "c:\\Users\\Muhammad Ade Aulia\\miniconda3\\envs\\gpu_load\\lib\\site-packages\\sklearn\\svm\\_base.py:305: ConvergenceWarning: Solver terminated early (max_iter=1000).  Consider pre-processing your data with StandardScaler or MinMaxScaler.\n",
      "  warnings.warn(\n"
     ]
    },
    {
     "name": "stdout",
     "output_type": "stream",
     "text": [
      "[CV 5/5] END C=100, class_weight=balanced, gamma=0.01, kernel=rbf, max_iter=1000;, score=(train=0.946, test=0.720) total time=   0.1s\n"
     ]
    },
    {
     "name": "stderr",
     "output_type": "stream",
     "text": [
      "c:\\Users\\Muhammad Ade Aulia\\miniconda3\\envs\\gpu_load\\lib\\site-packages\\sklearn\\svm\\_base.py:305: ConvergenceWarning: Solver terminated early (max_iter=5000).  Consider pre-processing your data with StandardScaler or MinMaxScaler.\n",
      "  warnings.warn(\n"
     ]
    },
    {
     "name": "stdout",
     "output_type": "stream",
     "text": [
      "[CV 1/5] END C=100, class_weight=balanced, gamma=0.01, kernel=rbf, max_iter=5000;, score=(train=0.946, test=0.745) total time=   0.2s\n"
     ]
    },
    {
     "name": "stderr",
     "output_type": "stream",
     "text": [
      "c:\\Users\\Muhammad Ade Aulia\\miniconda3\\envs\\gpu_load\\lib\\site-packages\\sklearn\\svm\\_base.py:305: ConvergenceWarning: Solver terminated early (max_iter=5000).  Consider pre-processing your data with StandardScaler or MinMaxScaler.\n",
      "  warnings.warn(\n"
     ]
    },
    {
     "name": "stdout",
     "output_type": "stream",
     "text": [
      "[CV 2/5] END C=100, class_weight=balanced, gamma=0.01, kernel=rbf, max_iter=5000;, score=(train=0.946, test=0.745) total time=   0.2s\n"
     ]
    },
    {
     "name": "stderr",
     "output_type": "stream",
     "text": [
      "c:\\Users\\Muhammad Ade Aulia\\miniconda3\\envs\\gpu_load\\lib\\site-packages\\sklearn\\svm\\_base.py:305: ConvergenceWarning: Solver terminated early (max_iter=5000).  Consider pre-processing your data with StandardScaler or MinMaxScaler.\n",
      "  warnings.warn(\n"
     ]
    },
    {
     "name": "stdout",
     "output_type": "stream",
     "text": [
      "[CV 3/5] END C=100, class_weight=balanced, gamma=0.01, kernel=rbf, max_iter=5000;, score=(train=0.947, test=0.736) total time=   0.2s\n",
      "[CV 4/5] END C=100, class_weight=balanced, gamma=0.01, kernel=rbf, max_iter=5000;, score=(train=0.939, test=0.777) total time=   0.2s\n",
      "[CV 5/5] END C=100, class_weight=balanced, gamma=0.01, kernel=rbf, max_iter=5000;, score=(train=0.946, test=0.720) total time=   0.2s\n",
      "[CV 1/5] END C=100, class_weight=balanced, gamma=0.01, kernel=rbf, max_iter=10000;, score=(train=0.946, test=0.745) total time=   0.2s\n",
      "[CV 2/5] END C=100, class_weight=balanced, gamma=0.01, kernel=rbf, max_iter=10000;, score=(train=0.946, test=0.745) total time=   0.2s\n",
      "[CV 3/5] END C=100, class_weight=balanced, gamma=0.01, kernel=rbf, max_iter=10000;, score=(train=0.947, test=0.736) total time=   0.2s\n",
      "[CV 4/5] END C=100, class_weight=balanced, gamma=0.01, kernel=rbf, max_iter=10000;, score=(train=0.939, test=0.777) total time=   0.2s\n",
      "[CV 5/5] END C=100, class_weight=balanced, gamma=0.01, kernel=rbf, max_iter=10000;, score=(train=0.946, test=0.720) total time=   0.2s\n"
     ]
    },
    {
     "name": "stderr",
     "output_type": "stream",
     "text": [
      "c:\\Users\\Muhammad Ade Aulia\\miniconda3\\envs\\gpu_load\\lib\\site-packages\\sklearn\\svm\\_base.py:305: ConvergenceWarning: Solver terminated early (max_iter=1000).  Consider pre-processing your data with StandardScaler or MinMaxScaler.\n",
      "  warnings.warn(\n"
     ]
    },
    {
     "name": "stdout",
     "output_type": "stream",
     "text": [
      "[CV 1/5] END C=100, class_weight=balanced, gamma=0.001, kernel=rbf, max_iter=1000;, score=(train=0.706, test=0.510) total time=   0.2s\n"
     ]
    },
    {
     "name": "stderr",
     "output_type": "stream",
     "text": [
      "c:\\Users\\Muhammad Ade Aulia\\miniconda3\\envs\\gpu_load\\lib\\site-packages\\sklearn\\svm\\_base.py:305: ConvergenceWarning: Solver terminated early (max_iter=1000).  Consider pre-processing your data with StandardScaler or MinMaxScaler.\n",
      "  warnings.warn(\n"
     ]
    },
    {
     "name": "stdout",
     "output_type": "stream",
     "text": [
      "[CV 2/5] END C=100, class_weight=balanced, gamma=0.001, kernel=rbf, max_iter=1000;, score=(train=0.705, test=0.580) total time=   0.2s\n"
     ]
    },
    {
     "name": "stderr",
     "output_type": "stream",
     "text": [
      "c:\\Users\\Muhammad Ade Aulia\\miniconda3\\envs\\gpu_load\\lib\\site-packages\\sklearn\\svm\\_base.py:305: ConvergenceWarning: Solver terminated early (max_iter=1000).  Consider pre-processing your data with StandardScaler or MinMaxScaler.\n",
      "  warnings.warn(\n"
     ]
    },
    {
     "name": "stdout",
     "output_type": "stream",
     "text": [
      "[CV 3/5] END C=100, class_weight=balanced, gamma=0.001, kernel=rbf, max_iter=1000;, score=(train=0.687, test=0.529) total time=   0.2s\n"
     ]
    },
    {
     "name": "stderr",
     "output_type": "stream",
     "text": [
      "c:\\Users\\Muhammad Ade Aulia\\miniconda3\\envs\\gpu_load\\lib\\site-packages\\sklearn\\svm\\_base.py:305: ConvergenceWarning: Solver terminated early (max_iter=1000).  Consider pre-processing your data with StandardScaler or MinMaxScaler.\n",
      "  warnings.warn(\n"
     ]
    },
    {
     "name": "stdout",
     "output_type": "stream",
     "text": [
      "[CV 4/5] END C=100, class_weight=balanced, gamma=0.001, kernel=rbf, max_iter=1000;, score=(train=0.701, test=0.621) total time=   0.2s\n"
     ]
    },
    {
     "name": "stderr",
     "output_type": "stream",
     "text": [
      "c:\\Users\\Muhammad Ade Aulia\\miniconda3\\envs\\gpu_load\\lib\\site-packages\\sklearn\\svm\\_base.py:305: ConvergenceWarning: Solver terminated early (max_iter=1000).  Consider pre-processing your data with StandardScaler or MinMaxScaler.\n",
      "  warnings.warn(\n"
     ]
    },
    {
     "name": "stdout",
     "output_type": "stream",
     "text": [
      "[CV 5/5] END C=100, class_weight=balanced, gamma=0.001, kernel=rbf, max_iter=1000;, score=(train=0.674, test=0.500) total time=   0.2s\n"
     ]
    },
    {
     "name": "stderr",
     "output_type": "stream",
     "text": [
      "c:\\Users\\Muhammad Ade Aulia\\miniconda3\\envs\\gpu_load\\lib\\site-packages\\sklearn\\svm\\_base.py:305: ConvergenceWarning: Solver terminated early (max_iter=5000).  Consider pre-processing your data with StandardScaler or MinMaxScaler.\n",
      "  warnings.warn(\n"
     ]
    },
    {
     "name": "stdout",
     "output_type": "stream",
     "text": [
      "[CV 1/5] END C=100, class_weight=balanced, gamma=0.001, kernel=rbf, max_iter=5000;, score=(train=0.701, test=0.503) total time=   0.2s\n"
     ]
    },
    {
     "name": "stderr",
     "output_type": "stream",
     "text": [
      "c:\\Users\\Muhammad Ade Aulia\\miniconda3\\envs\\gpu_load\\lib\\site-packages\\sklearn\\svm\\_base.py:305: ConvergenceWarning: Solver terminated early (max_iter=5000).  Consider pre-processing your data with StandardScaler or MinMaxScaler.\n",
      "  warnings.warn(\n"
     ]
    },
    {
     "name": "stdout",
     "output_type": "stream",
     "text": [
      "[CV 2/5] END C=100, class_weight=balanced, gamma=0.001, kernel=rbf, max_iter=5000;, score=(train=0.703, test=0.580) total time=   0.2s\n"
     ]
    },
    {
     "name": "stderr",
     "output_type": "stream",
     "text": [
      "c:\\Users\\Muhammad Ade Aulia\\miniconda3\\envs\\gpu_load\\lib\\site-packages\\sklearn\\svm\\_base.py:305: ConvergenceWarning: Solver terminated early (max_iter=5000).  Consider pre-processing your data with StandardScaler or MinMaxScaler.\n",
      "  warnings.warn(\n"
     ]
    },
    {
     "name": "stdout",
     "output_type": "stream",
     "text": [
      "[CV 3/5] END C=100, class_weight=balanced, gamma=0.001, kernel=rbf, max_iter=5000;, score=(train=0.685, test=0.538) total time=   0.2s\n"
     ]
    },
    {
     "name": "stderr",
     "output_type": "stream",
     "text": [
      "c:\\Users\\Muhammad Ade Aulia\\miniconda3\\envs\\gpu_load\\lib\\site-packages\\sklearn\\svm\\_base.py:305: ConvergenceWarning: Solver terminated early (max_iter=5000).  Consider pre-processing your data with StandardScaler or MinMaxScaler.\n",
      "  warnings.warn(\n"
     ]
    },
    {
     "name": "stdout",
     "output_type": "stream",
     "text": [
      "[CV 4/5] END C=100, class_weight=balanced, gamma=0.001, kernel=rbf, max_iter=5000;, score=(train=0.697, test=0.621) total time=   0.2s\n"
     ]
    },
    {
     "name": "stderr",
     "output_type": "stream",
     "text": [
      "c:\\Users\\Muhammad Ade Aulia\\miniconda3\\envs\\gpu_load\\lib\\site-packages\\sklearn\\svm\\_base.py:305: ConvergenceWarning: Solver terminated early (max_iter=5000).  Consider pre-processing your data with StandardScaler or MinMaxScaler.\n",
      "  warnings.warn(\n"
     ]
    },
    {
     "name": "stdout",
     "output_type": "stream",
     "text": [
      "[CV 5/5] END C=100, class_weight=balanced, gamma=0.001, kernel=rbf, max_iter=5000;, score=(train=0.670, test=0.503) total time=   0.2s\n",
      "[CV 1/5] END C=100, class_weight=balanced, gamma=0.001, kernel=rbf, max_iter=10000;, score=(train=0.701, test=0.503) total time=   0.2s\n",
      "[CV 2/5] END C=100, class_weight=balanced, gamma=0.001, kernel=rbf, max_iter=10000;, score=(train=0.703, test=0.580) total time=   0.2s\n",
      "[CV 3/5] END C=100, class_weight=balanced, gamma=0.001, kernel=rbf, max_iter=10000;, score=(train=0.685, test=0.538) total time=   0.2s\n",
      "[CV 4/5] END C=100, class_weight=balanced, gamma=0.001, kernel=rbf, max_iter=10000;, score=(train=0.697, test=0.621) total time=   0.2s\n",
      "[CV 5/5] END C=100, class_weight=balanced, gamma=0.001, kernel=rbf, max_iter=10000;, score=(train=0.670, test=0.503) total time=   0.2s\n"
     ]
    },
    {
     "name": "stderr",
     "output_type": "stream",
     "text": [
      "c:\\Users\\Muhammad Ade Aulia\\miniconda3\\envs\\gpu_load\\lib\\site-packages\\sklearn\\svm\\_base.py:305: ConvergenceWarning: Solver terminated early (max_iter=1000).  Consider pre-processing your data with StandardScaler or MinMaxScaler.\n",
      "  warnings.warn(\n"
     ]
    },
    {
     "name": "stdout",
     "output_type": "stream",
     "text": [
      "[CV 1/5] END C=100, class_weight=balanced, gamma=0.0001, kernel=rbf, max_iter=1000;, score=(train=0.318, test=0.258) total time=   0.2s\n"
     ]
    },
    {
     "name": "stderr",
     "output_type": "stream",
     "text": [
      "c:\\Users\\Muhammad Ade Aulia\\miniconda3\\envs\\gpu_load\\lib\\site-packages\\sklearn\\svm\\_base.py:305: ConvergenceWarning: Solver terminated early (max_iter=1000).  Consider pre-processing your data with StandardScaler or MinMaxScaler.\n",
      "  warnings.warn(\n"
     ]
    },
    {
     "name": "stdout",
     "output_type": "stream",
     "text": [
      "[CV 2/5] END C=100, class_weight=balanced, gamma=0.0001, kernel=rbf, max_iter=1000;, score=(train=0.279, test=0.258) total time=   0.2s\n"
     ]
    },
    {
     "name": "stderr",
     "output_type": "stream",
     "text": [
      "c:\\Users\\Muhammad Ade Aulia\\miniconda3\\envs\\gpu_load\\lib\\site-packages\\sklearn\\svm\\_base.py:305: ConvergenceWarning: Solver terminated early (max_iter=1000).  Consider pre-processing your data with StandardScaler or MinMaxScaler.\n",
      "  warnings.warn(\n"
     ]
    },
    {
     "name": "stdout",
     "output_type": "stream",
     "text": [
      "[CV 3/5] END C=100, class_weight=balanced, gamma=0.0001, kernel=rbf, max_iter=1000;, score=(train=0.299, test=0.280) total time=   0.2s\n"
     ]
    },
    {
     "name": "stderr",
     "output_type": "stream",
     "text": [
      "c:\\Users\\Muhammad Ade Aulia\\miniconda3\\envs\\gpu_load\\lib\\site-packages\\sklearn\\svm\\_base.py:305: ConvergenceWarning: Solver terminated early (max_iter=1000).  Consider pre-processing your data with StandardScaler or MinMaxScaler.\n",
      "  warnings.warn(\n"
     ]
    },
    {
     "name": "stdout",
     "output_type": "stream",
     "text": [
      "[CV 4/5] END C=100, class_weight=balanced, gamma=0.0001, kernel=rbf, max_iter=1000;, score=(train=0.283, test=0.290) total time=   0.2s\n"
     ]
    },
    {
     "name": "stderr",
     "output_type": "stream",
     "text": [
      "c:\\Users\\Muhammad Ade Aulia\\miniconda3\\envs\\gpu_load\\lib\\site-packages\\sklearn\\svm\\_base.py:305: ConvergenceWarning: Solver terminated early (max_iter=1000).  Consider pre-processing your data with StandardScaler or MinMaxScaler.\n",
      "  warnings.warn(\n"
     ]
    },
    {
     "name": "stdout",
     "output_type": "stream",
     "text": [
      "[CV 5/5] END C=100, class_weight=balanced, gamma=0.0001, kernel=rbf, max_iter=1000;, score=(train=0.288, test=0.236) total time=   0.2s\n",
      "[CV 1/5] END C=100, class_weight=balanced, gamma=0.0001, kernel=rbf, max_iter=5000;, score=(train=0.319, test=0.258) total time=   0.2s\n",
      "[CV 2/5] END C=100, class_weight=balanced, gamma=0.0001, kernel=rbf, max_iter=5000;, score=(train=0.275, test=0.258) total time=   0.2s\n",
      "[CV 3/5] END C=100, class_weight=balanced, gamma=0.0001, kernel=rbf, max_iter=5000;, score=(train=0.299, test=0.280) total time=   0.2s\n",
      "[CV 4/5] END C=100, class_weight=balanced, gamma=0.0001, kernel=rbf, max_iter=5000;, score=(train=0.282, test=0.293) total time=   0.2s\n",
      "[CV 5/5] END C=100, class_weight=balanced, gamma=0.0001, kernel=rbf, max_iter=5000;, score=(train=0.288, test=0.236) total time=   0.2s\n",
      "[CV 1/5] END C=100, class_weight=balanced, gamma=0.0001, kernel=rbf, max_iter=10000;, score=(train=0.319, test=0.258) total time=   0.2s\n",
      "[CV 2/5] END C=100, class_weight=balanced, gamma=0.0001, kernel=rbf, max_iter=10000;, score=(train=0.275, test=0.258) total time=   0.2s\n",
      "[CV 3/5] END C=100, class_weight=balanced, gamma=0.0001, kernel=rbf, max_iter=10000;, score=(train=0.299, test=0.280) total time=   0.2s\n",
      "[CV 4/5] END C=100, class_weight=balanced, gamma=0.0001, kernel=rbf, max_iter=10000;, score=(train=0.282, test=0.293) total time=   0.2s\n",
      "[CV 5/5] END C=100, class_weight=balanced, gamma=0.0001, kernel=rbf, max_iter=10000;, score=(train=0.288, test=0.236) total time=   0.2s\n"
     ]
    },
    {
     "name": "stderr",
     "output_type": "stream",
     "text": [
      "c:\\Users\\Muhammad Ade Aulia\\miniconda3\\envs\\gpu_load\\lib\\site-packages\\sklearn\\svm\\_base.py:305: ConvergenceWarning: Solver terminated early (max_iter=1000).  Consider pre-processing your data with StandardScaler or MinMaxScaler.\n",
      "  warnings.warn(\n"
     ]
    }
   ],
   "source": [
    "### ===== 1. SVM =====\n",
    "param_grid_svm = {\n",
    "    'C': [0.1, 1, 10, 100],\n",
    "    'gamma': [1, 0.1, 0.01, 0.001, 0.0001],\n",
    "    'kernel': ['rbf'],\n",
    "    'max_iter': [1000, 5000, 10000],\n",
    "    'class_weight': [None, 'balanced']\n",
    "}\n",
    "svc = SVC()\n",
    "grid_svc = GridSearchCV(svc, param_grid_svm, refit=True, verbose=3, cv=5, return_train_score=True)\n",
    "grid_svc.fit(x_train, y_train)\n",
    "joblib.dump(grid_svc, 'models/model_svm.pkl')\n",
    "akurasi_SVM = round(accuracy_score(y_test, grid_svc.predict(x_test)) * 100, 2)"
   ]
  },
  {
   "cell_type": "code",
   "execution_count": 16,
   "id": "4219ced8",
   "metadata": {},
   "outputs": [
    {
     "name": "stdout",
     "output_type": "stream",
     "text": [
      "Fitting 5 folds for each of 4 candidates, totalling 20 fits\n",
      "[CV 1/5] END ...............var_smoothing=1e-09;, score=0.723 total time=   0.0s\n",
      "[CV 2/5] END ...............var_smoothing=1e-09;, score=0.723 total time=   0.0s\n",
      "[CV 3/5] END ...............var_smoothing=1e-09;, score=0.726 total time=   0.0s\n",
      "[CV 4/5] END ...............var_smoothing=1e-09;, score=0.732 total time=   0.0s\n",
      "[CV 5/5] END ...............var_smoothing=1e-09;, score=0.764 total time=   0.0s\n",
      "[CV 1/5] END ...............var_smoothing=1e-08;, score=0.720 total time=   0.0s\n",
      "[CV 2/5] END ...............var_smoothing=1e-08;, score=0.720 total time=   0.0s\n",
      "[CV 3/5] END ...............var_smoothing=1e-08;, score=0.726 total time=   0.0s\n",
      "[CV 4/5] END ...............var_smoothing=1e-08;, score=0.742 total time=   0.0s\n",
      "[CV 5/5] END ...............var_smoothing=1e-08;, score=0.755 total time=   0.0s\n",
      "[CV 1/5] END ...............var_smoothing=1e-07;, score=0.720 total time=   0.0s\n",
      "[CV 2/5] END ...............var_smoothing=1e-07;, score=0.726 total time=   0.0s\n",
      "[CV 3/5] END ...............var_smoothing=1e-07;, score=0.726 total time=   0.0s\n",
      "[CV 4/5] END ...............var_smoothing=1e-07;, score=0.739 total time=   0.0s\n",
      "[CV 5/5] END ...............var_smoothing=1e-07;, score=0.755 total time=   0.0s\n",
      "[CV 1/5] END ...............var_smoothing=1e-06;, score=0.726 total time=   0.0s\n",
      "[CV 2/5] END ...............var_smoothing=1e-06;, score=0.736 total time=   0.0s\n",
      "[CV 3/5] END ...............var_smoothing=1e-06;, score=0.720 total time=   0.0s\n",
      "[CV 4/5] END ...............var_smoothing=1e-06;, score=0.736 total time=   0.0s\n",
      "[CV 5/5] END ...............var_smoothing=1e-06;, score=0.758 total time=   0.0s\n"
     ]
    }
   ],
   "source": [
    "### ===== 2. Gaussian Naive Bayes =====\n",
    "param_grid_gnb = {'var_smoothing': [1e-9, 1e-8, 1e-7, 1e-6]}\n",
    "gnb = GaussianNB()\n",
    "grid_gnb = GridSearchCV(gnb, param_grid_gnb, refit=True, verbose=3, cv=5)\n",
    "grid_gnb.fit(x_train, y_train)\n",
    "joblib.dump(grid_gnb, 'models/model_gnb.pkl')\n",
    "akurasi_GNB = round(accuracy_score(y_test, grid_gnb.predict(x_test)) * 100, 2)"
   ]
  },
  {
   "cell_type": "code",
   "execution_count": 17,
   "id": "6316957e",
   "metadata": {},
   "outputs": [
    {
     "name": "stdout",
     "output_type": "stream",
     "text": [
      "Fitting 5 folds for each of 54 candidates, totalling 270 fits\n",
      "[CV 1/5] END class_weight=None, max_depth=None, min_samples_split=2, n_estimators=50;, score=0.761 total time=   0.1s\n",
      "[CV 2/5] END class_weight=None, max_depth=None, min_samples_split=2, n_estimators=50;, score=0.758 total time=   0.1s\n",
      "[CV 3/5] END class_weight=None, max_depth=None, min_samples_split=2, n_estimators=50;, score=0.764 total time=   0.1s\n",
      "[CV 4/5] END class_weight=None, max_depth=None, min_samples_split=2, n_estimators=50;, score=0.787 total time=   0.1s\n",
      "[CV 5/5] END class_weight=None, max_depth=None, min_samples_split=2, n_estimators=50;, score=0.748 total time=   0.1s\n",
      "[CV 1/5] END class_weight=None, max_depth=None, min_samples_split=2, n_estimators=100;, score=0.768 total time=   0.4s\n",
      "[CV 2/5] END class_weight=None, max_depth=None, min_samples_split=2, n_estimators=100;, score=0.745 total time=   0.3s\n",
      "[CV 3/5] END class_weight=None, max_depth=None, min_samples_split=2, n_estimators=100;, score=0.768 total time=   0.3s\n",
      "[CV 4/5] END class_weight=None, max_depth=None, min_samples_split=2, n_estimators=100;, score=0.793 total time=   0.3s\n",
      "[CV 5/5] END class_weight=None, max_depth=None, min_samples_split=2, n_estimators=100;, score=0.745 total time=   0.3s\n",
      "[CV 1/5] END class_weight=None, max_depth=None, min_samples_split=2, n_estimators=200;, score=0.771 total time=   0.7s\n",
      "[CV 2/5] END class_weight=None, max_depth=None, min_samples_split=2, n_estimators=200;, score=0.755 total time=   0.7s\n",
      "[CV 3/5] END class_weight=None, max_depth=None, min_samples_split=2, n_estimators=200;, score=0.771 total time=   0.7s\n",
      "[CV 4/5] END class_weight=None, max_depth=None, min_samples_split=2, n_estimators=200;, score=0.787 total time=   0.7s\n",
      "[CV 5/5] END class_weight=None, max_depth=None, min_samples_split=2, n_estimators=200;, score=0.745 total time=   0.7s\n",
      "[CV 1/5] END class_weight=None, max_depth=None, min_samples_split=5, n_estimators=50;, score=0.771 total time=   0.1s\n",
      "[CV 2/5] END class_weight=None, max_depth=None, min_samples_split=5, n_estimators=50;, score=0.774 total time=   0.1s\n",
      "[CV 3/5] END class_weight=None, max_depth=None, min_samples_split=5, n_estimators=50;, score=0.768 total time=   0.1s\n",
      "[CV 4/5] END class_weight=None, max_depth=None, min_samples_split=5, n_estimators=50;, score=0.771 total time=   0.1s\n",
      "[CV 5/5] END class_weight=None, max_depth=None, min_samples_split=5, n_estimators=50;, score=0.752 total time=   0.1s\n",
      "[CV 1/5] END class_weight=None, max_depth=None, min_samples_split=5, n_estimators=100;, score=0.764 total time=   0.2s\n",
      "[CV 2/5] END class_weight=None, max_depth=None, min_samples_split=5, n_estimators=100;, score=0.780 total time=   0.3s\n",
      "[CV 3/5] END class_weight=None, max_depth=None, min_samples_split=5, n_estimators=100;, score=0.764 total time=   0.2s\n",
      "[CV 4/5] END class_weight=None, max_depth=None, min_samples_split=5, n_estimators=100;, score=0.780 total time=   0.3s\n",
      "[CV 5/5] END class_weight=None, max_depth=None, min_samples_split=5, n_estimators=100;, score=0.739 total time=   0.2s\n",
      "[CV 1/5] END class_weight=None, max_depth=None, min_samples_split=5, n_estimators=200;, score=0.768 total time=   0.6s\n",
      "[CV 2/5] END class_weight=None, max_depth=None, min_samples_split=5, n_estimators=200;, score=0.777 total time=   0.6s\n",
      "[CV 3/5] END class_weight=None, max_depth=None, min_samples_split=5, n_estimators=200;, score=0.768 total time=   0.6s\n",
      "[CV 4/5] END class_weight=None, max_depth=None, min_samples_split=5, n_estimators=200;, score=0.787 total time=   0.6s\n",
      "[CV 5/5] END class_weight=None, max_depth=None, min_samples_split=5, n_estimators=200;, score=0.755 total time=   0.6s\n",
      "[CV 1/5] END class_weight=None, max_depth=None, min_samples_split=10, n_estimators=50;, score=0.732 total time=   0.1s\n",
      "[CV 2/5] END class_weight=None, max_depth=None, min_samples_split=10, n_estimators=50;, score=0.758 total time=   0.1s\n",
      "[CV 3/5] END class_weight=None, max_depth=None, min_samples_split=10, n_estimators=50;, score=0.755 total time=   0.1s\n",
      "[CV 4/5] END class_weight=None, max_depth=None, min_samples_split=10, n_estimators=50;, score=0.758 total time=   0.1s\n",
      "[CV 5/5] END class_weight=None, max_depth=None, min_samples_split=10, n_estimators=50;, score=0.755 total time=   0.1s\n",
      "[CV 1/5] END class_weight=None, max_depth=None, min_samples_split=10, n_estimators=100;, score=0.732 total time=   0.2s\n",
      "[CV 2/5] END class_weight=None, max_depth=None, min_samples_split=10, n_estimators=100;, score=0.764 total time=   0.2s\n",
      "[CV 3/5] END class_weight=None, max_depth=None, min_samples_split=10, n_estimators=100;, score=0.761 total time=   0.2s\n",
      "[CV 4/5] END class_weight=None, max_depth=None, min_samples_split=10, n_estimators=100;, score=0.774 total time=   0.2s\n",
      "[CV 5/5] END class_weight=None, max_depth=None, min_samples_split=10, n_estimators=100;, score=0.752 total time=   0.2s\n",
      "[CV 1/5] END class_weight=None, max_depth=None, min_samples_split=10, n_estimators=200;, score=0.732 total time=   0.5s\n",
      "[CV 2/5] END class_weight=None, max_depth=None, min_samples_split=10, n_estimators=200;, score=0.783 total time=   0.5s\n",
      "[CV 3/5] END class_weight=None, max_depth=None, min_samples_split=10, n_estimators=200;, score=0.758 total time=   0.5s\n",
      "[CV 4/5] END class_weight=None, max_depth=None, min_samples_split=10, n_estimators=200;, score=0.780 total time=   0.5s\n",
      "[CV 5/5] END class_weight=None, max_depth=None, min_samples_split=10, n_estimators=200;, score=0.748 total time=   0.6s\n",
      "[CV 1/5] END class_weight=None, max_depth=10, min_samples_split=2, n_estimators=50;, score=0.417 total time=   0.0s\n",
      "[CV 2/5] END class_weight=None, max_depth=10, min_samples_split=2, n_estimators=50;, score=0.446 total time=   0.0s\n",
      "[CV 3/5] END class_weight=None, max_depth=10, min_samples_split=2, n_estimators=50;, score=0.389 total time=   0.0s\n",
      "[CV 4/5] END class_weight=None, max_depth=10, min_samples_split=2, n_estimators=50;, score=0.376 total time=   0.0s\n",
      "[CV 5/5] END class_weight=None, max_depth=10, min_samples_split=2, n_estimators=50;, score=0.401 total time=   0.0s\n",
      "[CV 1/5] END class_weight=None, max_depth=10, min_samples_split=2, n_estimators=100;, score=0.401 total time=   0.1s\n",
      "[CV 2/5] END class_weight=None, max_depth=10, min_samples_split=2, n_estimators=100;, score=0.427 total time=   0.1s\n",
      "[CV 3/5] END class_weight=None, max_depth=10, min_samples_split=2, n_estimators=100;, score=0.379 total time=   0.1s\n",
      "[CV 4/5] END class_weight=None, max_depth=10, min_samples_split=2, n_estimators=100;, score=0.385 total time=   0.1s\n",
      "[CV 5/5] END class_weight=None, max_depth=10, min_samples_split=2, n_estimators=100;, score=0.427 total time=   0.1s\n",
      "[CV 1/5] END class_weight=None, max_depth=10, min_samples_split=2, n_estimators=200;, score=0.404 total time=   0.2s\n",
      "[CV 2/5] END class_weight=None, max_depth=10, min_samples_split=2, n_estimators=200;, score=0.424 total time=   0.2s\n",
      "[CV 3/5] END class_weight=None, max_depth=10, min_samples_split=2, n_estimators=200;, score=0.395 total time=   0.2s\n",
      "[CV 4/5] END class_weight=None, max_depth=10, min_samples_split=2, n_estimators=200;, score=0.398 total time=   0.2s\n",
      "[CV 5/5] END class_weight=None, max_depth=10, min_samples_split=2, n_estimators=200;, score=0.401 total time=   0.2s\n",
      "[CV 1/5] END class_weight=None, max_depth=10, min_samples_split=5, n_estimators=50;, score=0.395 total time=   0.0s\n",
      "[CV 2/5] END class_weight=None, max_depth=10, min_samples_split=5, n_estimators=50;, score=0.443 total time=   0.0s\n",
      "[CV 3/5] END class_weight=None, max_depth=10, min_samples_split=5, n_estimators=50;, score=0.347 total time=   0.0s\n",
      "[CV 4/5] END class_weight=None, max_depth=10, min_samples_split=5, n_estimators=50;, score=0.379 total time=   0.0s\n",
      "[CV 5/5] END class_weight=None, max_depth=10, min_samples_split=5, n_estimators=50;, score=0.379 total time=   0.0s\n",
      "[CV 1/5] END class_weight=None, max_depth=10, min_samples_split=5, n_estimators=100;, score=0.385 total time=   0.1s\n",
      "[CV 2/5] END class_weight=None, max_depth=10, min_samples_split=5, n_estimators=100;, score=0.417 total time=   0.1s\n",
      "[CV 3/5] END class_weight=None, max_depth=10, min_samples_split=5, n_estimators=100;, score=0.385 total time=   0.1s\n",
      "[CV 4/5] END class_weight=None, max_depth=10, min_samples_split=5, n_estimators=100;, score=0.401 total time=   0.1s\n",
      "[CV 5/5] END class_weight=None, max_depth=10, min_samples_split=5, n_estimators=100;, score=0.411 total time=   0.1s\n",
      "[CV 1/5] END class_weight=None, max_depth=10, min_samples_split=5, n_estimators=200;, score=0.366 total time=   0.2s\n",
      "[CV 2/5] END class_weight=None, max_depth=10, min_samples_split=5, n_estimators=200;, score=0.430 total time=   0.2s\n",
      "[CV 3/5] END class_weight=None, max_depth=10, min_samples_split=5, n_estimators=200;, score=0.395 total time=   0.2s\n",
      "[CV 4/5] END class_weight=None, max_depth=10, min_samples_split=5, n_estimators=200;, score=0.398 total time=   0.2s\n",
      "[CV 5/5] END class_weight=None, max_depth=10, min_samples_split=5, n_estimators=200;, score=0.414 total time=   0.2s\n",
      "[CV 1/5] END class_weight=None, max_depth=10, min_samples_split=10, n_estimators=50;, score=0.382 total time=   0.0s\n",
      "[CV 2/5] END class_weight=None, max_depth=10, min_samples_split=10, n_estimators=50;, score=0.459 total time=   0.0s\n",
      "[CV 3/5] END class_weight=None, max_depth=10, min_samples_split=10, n_estimators=50;, score=0.366 total time=   0.0s\n",
      "[CV 4/5] END class_weight=None, max_depth=10, min_samples_split=10, n_estimators=50;, score=0.401 total time=   0.0s\n",
      "[CV 5/5] END class_weight=None, max_depth=10, min_samples_split=10, n_estimators=50;, score=0.369 total time=   0.0s\n",
      "[CV 1/5] END class_weight=None, max_depth=10, min_samples_split=10, n_estimators=100;, score=0.363 total time=   0.1s\n",
      "[CV 2/5] END class_weight=None, max_depth=10, min_samples_split=10, n_estimators=100;, score=0.430 total time=   0.1s\n",
      "[CV 3/5] END class_weight=None, max_depth=10, min_samples_split=10, n_estimators=100;, score=0.379 total time=   0.0s\n",
      "[CV 4/5] END class_weight=None, max_depth=10, min_samples_split=10, n_estimators=100;, score=0.398 total time=   0.1s\n",
      "[CV 5/5] END class_weight=None, max_depth=10, min_samples_split=10, n_estimators=100;, score=0.398 total time=   0.0s\n",
      "[CV 1/5] END class_weight=None, max_depth=10, min_samples_split=10, n_estimators=200;, score=0.366 total time=   0.2s\n",
      "[CV 2/5] END class_weight=None, max_depth=10, min_samples_split=10, n_estimators=200;, score=0.427 total time=   0.2s\n",
      "[CV 3/5] END class_weight=None, max_depth=10, min_samples_split=10, n_estimators=200;, score=0.398 total time=   0.2s\n",
      "[CV 4/5] END class_weight=None, max_depth=10, min_samples_split=10, n_estimators=200;, score=0.389 total time=   0.2s\n",
      "[CV 5/5] END class_weight=None, max_depth=10, min_samples_split=10, n_estimators=200;, score=0.401 total time=   0.2s\n",
      "[CV 1/5] END class_weight=None, max_depth=20, min_samples_split=2, n_estimators=50;, score=0.576 total time=   0.0s\n",
      "[CV 2/5] END class_weight=None, max_depth=20, min_samples_split=2, n_estimators=50;, score=0.570 total time=   0.0s\n",
      "[CV 3/5] END class_weight=None, max_depth=20, min_samples_split=2, n_estimators=50;, score=0.573 total time=   0.0s\n",
      "[CV 4/5] END class_weight=None, max_depth=20, min_samples_split=2, n_estimators=50;, score=0.573 total time=   0.0s\n",
      "[CV 5/5] END class_weight=None, max_depth=20, min_samples_split=2, n_estimators=50;, score=0.567 total time=   0.0s\n",
      "[CV 1/5] END class_weight=None, max_depth=20, min_samples_split=2, n_estimators=100;, score=0.580 total time=   0.1s\n",
      "[CV 2/5] END class_weight=None, max_depth=20, min_samples_split=2, n_estimators=100;, score=0.592 total time=   0.1s\n",
      "[CV 3/5] END class_weight=None, max_depth=20, min_samples_split=2, n_estimators=100;, score=0.589 total time=   0.1s\n",
      "[CV 4/5] END class_weight=None, max_depth=20, min_samples_split=2, n_estimators=100;, score=0.621 total time=   0.1s\n",
      "[CV 5/5] END class_weight=None, max_depth=20, min_samples_split=2, n_estimators=100;, score=0.589 total time=   0.1s\n",
      "[CV 1/5] END class_weight=None, max_depth=20, min_samples_split=2, n_estimators=200;, score=0.570 total time=   0.3s\n",
      "[CV 2/5] END class_weight=None, max_depth=20, min_samples_split=2, n_estimators=200;, score=0.586 total time=   0.3s\n",
      "[CV 3/5] END class_weight=None, max_depth=20, min_samples_split=2, n_estimators=200;, score=0.570 total time=   0.3s\n",
      "[CV 4/5] END class_weight=None, max_depth=20, min_samples_split=2, n_estimators=200;, score=0.605 total time=   0.3s\n",
      "[CV 5/5] END class_weight=None, max_depth=20, min_samples_split=2, n_estimators=200;, score=0.599 total time=   0.3s\n",
      "[CV 1/5] END class_weight=None, max_depth=20, min_samples_split=5, n_estimators=50;, score=0.567 total time=   0.0s\n",
      "[CV 2/5] END class_weight=None, max_depth=20, min_samples_split=5, n_estimators=50;, score=0.564 total time=   0.0s\n",
      "[CV 3/5] END class_weight=None, max_depth=20, min_samples_split=5, n_estimators=50;, score=0.548 total time=   0.0s\n",
      "[CV 4/5] END class_weight=None, max_depth=20, min_samples_split=5, n_estimators=50;, score=0.576 total time=   0.0s\n",
      "[CV 5/5] END class_weight=None, max_depth=20, min_samples_split=5, n_estimators=50;, score=0.561 total time=   0.0s\n",
      "[CV 1/5] END class_weight=None, max_depth=20, min_samples_split=5, n_estimators=100;, score=0.567 total time=   0.1s\n",
      "[CV 2/5] END class_weight=None, max_depth=20, min_samples_split=5, n_estimators=100;, score=0.589 total time=   0.1s\n",
      "[CV 3/5] END class_weight=None, max_depth=20, min_samples_split=5, n_estimators=100;, score=0.573 total time=   0.1s\n",
      "[CV 4/5] END class_weight=None, max_depth=20, min_samples_split=5, n_estimators=100;, score=0.608 total time=   0.1s\n",
      "[CV 5/5] END class_weight=None, max_depth=20, min_samples_split=5, n_estimators=100;, score=0.583 total time=   0.1s\n",
      "[CV 1/5] END class_weight=None, max_depth=20, min_samples_split=5, n_estimators=200;, score=0.561 total time=   0.3s\n",
      "[CV 2/5] END class_weight=None, max_depth=20, min_samples_split=5, n_estimators=200;, score=0.583 total time=   0.3s\n",
      "[CV 3/5] END class_weight=None, max_depth=20, min_samples_split=5, n_estimators=200;, score=0.567 total time=   0.3s\n",
      "[CV 4/5] END class_weight=None, max_depth=20, min_samples_split=5, n_estimators=200;, score=0.592 total time=   0.3s\n",
      "[CV 5/5] END class_weight=None, max_depth=20, min_samples_split=5, n_estimators=200;, score=0.576 total time=   0.3s\n",
      "[CV 1/5] END class_weight=None, max_depth=20, min_samples_split=10, n_estimators=50;, score=0.535 total time=   0.0s\n",
      "[CV 2/5] END class_weight=None, max_depth=20, min_samples_split=10, n_estimators=50;, score=0.564 total time=   0.0s\n",
      "[CV 3/5] END class_weight=None, max_depth=20, min_samples_split=10, n_estimators=50;, score=0.554 total time=   0.0s\n",
      "[CV 4/5] END class_weight=None, max_depth=20, min_samples_split=10, n_estimators=50;, score=0.545 total time=   0.0s\n",
      "[CV 5/5] END class_weight=None, max_depth=20, min_samples_split=10, n_estimators=50;, score=0.570 total time=   0.0s\n",
      "[CV 1/5] END class_weight=None, max_depth=20, min_samples_split=10, n_estimators=100;, score=0.545 total time=   0.1s\n",
      "[CV 2/5] END class_weight=None, max_depth=20, min_samples_split=10, n_estimators=100;, score=0.589 total time=   0.1s\n",
      "[CV 3/5] END class_weight=None, max_depth=20, min_samples_split=10, n_estimators=100;, score=0.567 total time=   0.1s\n",
      "[CV 4/5] END class_weight=None, max_depth=20, min_samples_split=10, n_estimators=100;, score=0.592 total time=   0.1s\n",
      "[CV 5/5] END class_weight=None, max_depth=20, min_samples_split=10, n_estimators=100;, score=0.573 total time=   0.1s\n",
      "[CV 1/5] END class_weight=None, max_depth=20, min_samples_split=10, n_estimators=200;, score=0.538 total time=   0.3s\n",
      "[CV 2/5] END class_weight=None, max_depth=20, min_samples_split=10, n_estimators=200;, score=0.557 total time=   0.3s\n",
      "[CV 3/5] END class_weight=None, max_depth=20, min_samples_split=10, n_estimators=200;, score=0.564 total time=   0.3s\n",
      "[CV 4/5] END class_weight=None, max_depth=20, min_samples_split=10, n_estimators=200;, score=0.580 total time=   0.3s\n",
      "[CV 5/5] END class_weight=None, max_depth=20, min_samples_split=10, n_estimators=200;, score=0.583 total time=   0.3s\n",
      "[CV 1/5] END class_weight=balanced, max_depth=None, min_samples_split=2, n_estimators=50;, score=0.755 total time=   0.1s\n",
      "[CV 2/5] END class_weight=balanced, max_depth=None, min_samples_split=2, n_estimators=50;, score=0.761 total time=   0.1s\n",
      "[CV 3/5] END class_weight=balanced, max_depth=None, min_samples_split=2, n_estimators=50;, score=0.752 total time=   0.1s\n",
      "[CV 4/5] END class_weight=balanced, max_depth=None, min_samples_split=2, n_estimators=50;, score=0.774 total time=   0.1s\n",
      "[CV 5/5] END class_weight=balanced, max_depth=None, min_samples_split=2, n_estimators=50;, score=0.748 total time=   0.1s\n",
      "[CV 1/5] END class_weight=balanced, max_depth=None, min_samples_split=2, n_estimators=100;, score=0.752 total time=   0.3s\n",
      "[CV 2/5] END class_weight=balanced, max_depth=None, min_samples_split=2, n_estimators=100;, score=0.758 total time=   0.3s\n",
      "[CV 3/5] END class_weight=balanced, max_depth=None, min_samples_split=2, n_estimators=100;, score=0.768 total time=   0.3s\n",
      "[CV 4/5] END class_weight=balanced, max_depth=None, min_samples_split=2, n_estimators=100;, score=0.783 total time=   0.3s\n",
      "[CV 5/5] END class_weight=balanced, max_depth=None, min_samples_split=2, n_estimators=100;, score=0.742 total time=   0.3s\n",
      "[CV 1/5] END class_weight=balanced, max_depth=None, min_samples_split=2, n_estimators=200;, score=0.755 total time=   0.8s\n",
      "[CV 2/5] END class_weight=balanced, max_depth=None, min_samples_split=2, n_estimators=200;, score=0.755 total time=   0.7s\n",
      "[CV 3/5] END class_weight=balanced, max_depth=None, min_samples_split=2, n_estimators=200;, score=0.764 total time=   0.7s\n",
      "[CV 4/5] END class_weight=balanced, max_depth=None, min_samples_split=2, n_estimators=200;, score=0.777 total time=   0.7s\n",
      "[CV 5/5] END class_weight=balanced, max_depth=None, min_samples_split=2, n_estimators=200;, score=0.742 total time=   0.7s\n",
      "[CV 1/5] END class_weight=balanced, max_depth=None, min_samples_split=5, n_estimators=50;, score=0.755 total time=   0.1s\n",
      "[CV 2/5] END class_weight=balanced, max_depth=None, min_samples_split=5, n_estimators=50;, score=0.771 total time=   0.1s\n",
      "[CV 3/5] END class_weight=balanced, max_depth=None, min_samples_split=5, n_estimators=50;, score=0.761 total time=   0.1s\n",
      "[CV 4/5] END class_weight=balanced, max_depth=None, min_samples_split=5, n_estimators=50;, score=0.780 total time=   0.1s\n",
      "[CV 5/5] END class_weight=balanced, max_depth=None, min_samples_split=5, n_estimators=50;, score=0.752 total time=   0.1s\n",
      "[CV 1/5] END class_weight=balanced, max_depth=None, min_samples_split=5, n_estimators=100;, score=0.745 total time=   0.3s\n",
      "[CV 2/5] END class_weight=balanced, max_depth=None, min_samples_split=5, n_estimators=100;, score=0.771 total time=   0.2s\n",
      "[CV 3/5] END class_weight=balanced, max_depth=None, min_samples_split=5, n_estimators=100;, score=0.768 total time=   0.2s\n",
      "[CV 4/5] END class_weight=balanced, max_depth=None, min_samples_split=5, n_estimators=100;, score=0.790 total time=   0.2s\n",
      "[CV 5/5] END class_weight=balanced, max_depth=None, min_samples_split=5, n_estimators=100;, score=0.755 total time=   0.3s\n",
      "[CV 1/5] END class_weight=balanced, max_depth=None, min_samples_split=5, n_estimators=200;, score=0.752 total time=   0.6s\n",
      "[CV 2/5] END class_weight=balanced, max_depth=None, min_samples_split=5, n_estimators=200;, score=0.768 total time=   0.6s\n",
      "[CV 3/5] END class_weight=balanced, max_depth=None, min_samples_split=5, n_estimators=200;, score=0.764 total time=   0.6s\n",
      "[CV 4/5] END class_weight=balanced, max_depth=None, min_samples_split=5, n_estimators=200;, score=0.790 total time=   0.6s\n",
      "[CV 5/5] END class_weight=balanced, max_depth=None, min_samples_split=5, n_estimators=200;, score=0.764 total time=   0.6s\n",
      "[CV 1/5] END class_weight=balanced, max_depth=None, min_samples_split=10, n_estimators=50;, score=0.720 total time=   0.1s\n",
      "[CV 2/5] END class_weight=balanced, max_depth=None, min_samples_split=10, n_estimators=50;, score=0.774 total time=   0.1s\n",
      "[CV 3/5] END class_weight=balanced, max_depth=None, min_samples_split=10, n_estimators=50;, score=0.764 total time=   0.1s\n",
      "[CV 4/5] END class_weight=balanced, max_depth=None, min_samples_split=10, n_estimators=50;, score=0.777 total time=   0.1s\n",
      "[CV 5/5] END class_weight=balanced, max_depth=None, min_samples_split=10, n_estimators=50;, score=0.758 total time=   0.1s\n",
      "[CV 1/5] END class_weight=balanced, max_depth=None, min_samples_split=10, n_estimators=100;, score=0.729 total time=   0.2s\n",
      "[CV 2/5] END class_weight=balanced, max_depth=None, min_samples_split=10, n_estimators=100;, score=0.768 total time=   0.2s\n",
      "[CV 3/5] END class_weight=balanced, max_depth=None, min_samples_split=10, n_estimators=100;, score=0.768 total time=   0.3s\n",
      "[CV 4/5] END class_weight=balanced, max_depth=None, min_samples_split=10, n_estimators=100;, score=0.790 total time=   0.2s\n",
      "[CV 5/5] END class_weight=balanced, max_depth=None, min_samples_split=10, n_estimators=100;, score=0.755 total time=   0.2s\n",
      "[CV 1/5] END class_weight=balanced, max_depth=None, min_samples_split=10, n_estimators=200;, score=0.726 total time=   0.5s\n",
      "[CV 2/5] END class_weight=balanced, max_depth=None, min_samples_split=10, n_estimators=200;, score=0.771 total time=   0.5s\n",
      "[CV 3/5] END class_weight=balanced, max_depth=None, min_samples_split=10, n_estimators=200;, score=0.755 total time=   0.5s\n",
      "[CV 4/5] END class_weight=balanced, max_depth=None, min_samples_split=10, n_estimators=200;, score=0.796 total time=   0.5s\n",
      "[CV 5/5] END class_weight=balanced, max_depth=None, min_samples_split=10, n_estimators=200;, score=0.748 total time=   0.5s\n",
      "[CV 1/5] END class_weight=balanced, max_depth=10, min_samples_split=2, n_estimators=50;, score=0.459 total time=   0.0s\n",
      "[CV 2/5] END class_weight=balanced, max_depth=10, min_samples_split=2, n_estimators=50;, score=0.455 total time=   0.0s\n",
      "[CV 3/5] END class_weight=balanced, max_depth=10, min_samples_split=2, n_estimators=50;, score=0.503 total time=   0.0s\n",
      "[CV 4/5] END class_weight=balanced, max_depth=10, min_samples_split=2, n_estimators=50;, score=0.513 total time=   0.0s\n",
      "[CV 5/5] END class_weight=balanced, max_depth=10, min_samples_split=2, n_estimators=50;, score=0.471 total time=   0.0s\n",
      "[CV 1/5] END class_weight=balanced, max_depth=10, min_samples_split=2, n_estimators=100;, score=0.436 total time=   0.1s\n",
      "[CV 2/5] END class_weight=balanced, max_depth=10, min_samples_split=2, n_estimators=100;, score=0.452 total time=   0.1s\n",
      "[CV 3/5] END class_weight=balanced, max_depth=10, min_samples_split=2, n_estimators=100;, score=0.522 total time=   0.1s\n",
      "[CV 4/5] END class_weight=balanced, max_depth=10, min_samples_split=2, n_estimators=100;, score=0.494 total time=   0.1s\n",
      "[CV 5/5] END class_weight=balanced, max_depth=10, min_samples_split=2, n_estimators=100;, score=0.481 total time=   0.1s\n",
      "[CV 1/5] END class_weight=balanced, max_depth=10, min_samples_split=2, n_estimators=200;, score=0.424 total time=   0.2s\n",
      "[CV 2/5] END class_weight=balanced, max_depth=10, min_samples_split=2, n_estimators=200;, score=0.439 total time=   0.2s\n",
      "[CV 3/5] END class_weight=balanced, max_depth=10, min_samples_split=2, n_estimators=200;, score=0.497 total time=   0.2s\n",
      "[CV 4/5] END class_weight=balanced, max_depth=10, min_samples_split=2, n_estimators=200;, score=0.529 total time=   0.2s\n",
      "[CV 5/5] END class_weight=balanced, max_depth=10, min_samples_split=2, n_estimators=200;, score=0.490 total time=   0.2s\n",
      "[CV 1/5] END class_weight=balanced, max_depth=10, min_samples_split=5, n_estimators=50;, score=0.439 total time=   0.0s\n",
      "[CV 2/5] END class_weight=balanced, max_depth=10, min_samples_split=5, n_estimators=50;, score=0.439 total time=   0.0s\n",
      "[CV 3/5] END class_weight=balanced, max_depth=10, min_samples_split=5, n_estimators=50;, score=0.490 total time=   0.0s\n",
      "[CV 4/5] END class_weight=balanced, max_depth=10, min_samples_split=5, n_estimators=50;, score=0.506 total time=   0.0s\n",
      "[CV 5/5] END class_weight=balanced, max_depth=10, min_samples_split=5, n_estimators=50;, score=0.494 total time=   0.0s\n",
      "[CV 1/5] END class_weight=balanced, max_depth=10, min_samples_split=5, n_estimators=100;, score=0.430 total time=   0.1s\n",
      "[CV 2/5] END class_weight=balanced, max_depth=10, min_samples_split=5, n_estimators=100;, score=0.439 total time=   0.1s\n",
      "[CV 3/5] END class_weight=balanced, max_depth=10, min_samples_split=5, n_estimators=100;, score=0.500 total time=   0.1s\n",
      "[CV 4/5] END class_weight=balanced, max_depth=10, min_samples_split=5, n_estimators=100;, score=0.462 total time=   0.1s\n",
      "[CV 5/5] END class_weight=balanced, max_depth=10, min_samples_split=5, n_estimators=100;, score=0.471 total time=   0.1s\n",
      "[CV 1/5] END class_weight=balanced, max_depth=10, min_samples_split=5, n_estimators=200;, score=0.427 total time=   0.2s\n",
      "[CV 2/5] END class_weight=balanced, max_depth=10, min_samples_split=5, n_estimators=200;, score=0.449 total time=   0.2s\n",
      "[CV 3/5] END class_weight=balanced, max_depth=10, min_samples_split=5, n_estimators=200;, score=0.475 total time=   0.3s\n",
      "[CV 4/5] END class_weight=balanced, max_depth=10, min_samples_split=5, n_estimators=200;, score=0.522 total time=   0.2s\n",
      "[CV 5/5] END class_weight=balanced, max_depth=10, min_samples_split=5, n_estimators=200;, score=0.487 total time=   0.3s\n",
      "[CV 1/5] END class_weight=balanced, max_depth=10, min_samples_split=10, n_estimators=50;, score=0.417 total time=   0.0s\n",
      "[CV 2/5] END class_weight=balanced, max_depth=10, min_samples_split=10, n_estimators=50;, score=0.465 total time=   0.0s\n",
      "[CV 3/5] END class_weight=balanced, max_depth=10, min_samples_split=10, n_estimators=50;, score=0.497 total time=   0.0s\n",
      "[CV 4/5] END class_weight=balanced, max_depth=10, min_samples_split=10, n_estimators=50;, score=0.462 total time=   0.0s\n",
      "[CV 5/5] END class_weight=balanced, max_depth=10, min_samples_split=10, n_estimators=50;, score=0.468 total time=   0.0s\n",
      "[CV 1/5] END class_weight=balanced, max_depth=10, min_samples_split=10, n_estimators=100;, score=0.411 total time=   0.1s\n",
      "[CV 2/5] END class_weight=balanced, max_depth=10, min_samples_split=10, n_estimators=100;, score=0.452 total time=   0.1s\n",
      "[CV 3/5] END class_weight=balanced, max_depth=10, min_samples_split=10, n_estimators=100;, score=0.513 total time=   0.1s\n",
      "[CV 4/5] END class_weight=balanced, max_depth=10, min_samples_split=10, n_estimators=100;, score=0.465 total time=   0.1s\n",
      "[CV 5/5] END class_weight=balanced, max_depth=10, min_samples_split=10, n_estimators=100;, score=0.430 total time=   0.1s\n",
      "[CV 1/5] END class_weight=balanced, max_depth=10, min_samples_split=10, n_estimators=200;, score=0.401 total time=   0.2s\n",
      "[CV 2/5] END class_weight=balanced, max_depth=10, min_samples_split=10, n_estimators=200;, score=0.443 total time=   0.2s\n",
      "[CV 3/5] END class_weight=balanced, max_depth=10, min_samples_split=10, n_estimators=200;, score=0.481 total time=   0.2s\n",
      "[CV 4/5] END class_weight=balanced, max_depth=10, min_samples_split=10, n_estimators=200;, score=0.487 total time=   0.2s\n",
      "[CV 5/5] END class_weight=balanced, max_depth=10, min_samples_split=10, n_estimators=200;, score=0.452 total time=   0.2s\n",
      "[CV 1/5] END class_weight=balanced, max_depth=20, min_samples_split=2, n_estimators=50;, score=0.605 total time=   0.0s\n",
      "[CV 2/5] END class_weight=balanced, max_depth=20, min_samples_split=2, n_estimators=50;, score=0.548 total time=   0.0s\n",
      "[CV 3/5] END class_weight=balanced, max_depth=20, min_samples_split=2, n_estimators=50;, score=0.580 total time=   0.0s\n",
      "[CV 4/5] END class_weight=balanced, max_depth=20, min_samples_split=2, n_estimators=50;, score=0.618 total time=   0.0s\n",
      "[CV 5/5] END class_weight=balanced, max_depth=20, min_samples_split=2, n_estimators=50;, score=0.615 total time=   0.0s\n",
      "[CV 1/5] END class_weight=balanced, max_depth=20, min_samples_split=2, n_estimators=100;, score=0.576 total time=   0.1s\n",
      "[CV 2/5] END class_weight=balanced, max_depth=20, min_samples_split=2, n_estimators=100;, score=0.564 total time=   0.1s\n",
      "[CV 3/5] END class_weight=balanced, max_depth=20, min_samples_split=2, n_estimators=100;, score=0.621 total time=   0.1s\n",
      "[CV 4/5] END class_weight=balanced, max_depth=20, min_samples_split=2, n_estimators=100;, score=0.608 total time=   0.1s\n",
      "[CV 5/5] END class_weight=balanced, max_depth=20, min_samples_split=2, n_estimators=100;, score=0.599 total time=   0.1s\n",
      "[CV 1/5] END class_weight=balanced, max_depth=20, min_samples_split=2, n_estimators=200;, score=0.592 total time=   0.3s\n",
      "[CV 2/5] END class_weight=balanced, max_depth=20, min_samples_split=2, n_estimators=200;, score=0.541 total time=   0.3s\n",
      "[CV 3/5] END class_weight=balanced, max_depth=20, min_samples_split=2, n_estimators=200;, score=0.611 total time=   0.3s\n",
      "[CV 4/5] END class_weight=balanced, max_depth=20, min_samples_split=2, n_estimators=200;, score=0.631 total time=   0.3s\n",
      "[CV 5/5] END class_weight=balanced, max_depth=20, min_samples_split=2, n_estimators=200;, score=0.589 total time=   0.3s\n",
      "[CV 1/5] END class_weight=balanced, max_depth=20, min_samples_split=5, n_estimators=50;, score=0.535 total time=   0.0s\n",
      "[CV 2/5] END class_weight=balanced, max_depth=20, min_samples_split=5, n_estimators=50;, score=0.580 total time=   0.0s\n",
      "[CV 3/5] END class_weight=balanced, max_depth=20, min_samples_split=5, n_estimators=50;, score=0.573 total time=   0.0s\n",
      "[CV 4/5] END class_weight=balanced, max_depth=20, min_samples_split=5, n_estimators=50;, score=0.631 total time=   0.0s\n",
      "[CV 5/5] END class_weight=balanced, max_depth=20, min_samples_split=5, n_estimators=50;, score=0.618 total time=   0.0s\n",
      "[CV 1/5] END class_weight=balanced, max_depth=20, min_samples_split=5, n_estimators=100;, score=0.564 total time=   0.1s\n",
      "[CV 2/5] END class_weight=balanced, max_depth=20, min_samples_split=5, n_estimators=100;, score=0.554 total time=   0.1s\n",
      "[CV 3/5] END class_weight=balanced, max_depth=20, min_samples_split=5, n_estimators=100;, score=0.586 total time=   0.1s\n",
      "[CV 4/5] END class_weight=balanced, max_depth=20, min_samples_split=5, n_estimators=100;, score=0.650 total time=   0.1s\n",
      "[CV 5/5] END class_weight=balanced, max_depth=20, min_samples_split=5, n_estimators=100;, score=0.599 total time=   0.1s\n",
      "[CV 1/5] END class_weight=balanced, max_depth=20, min_samples_split=5, n_estimators=200;, score=0.545 total time=   0.3s\n",
      "[CV 2/5] END class_weight=balanced, max_depth=20, min_samples_split=5, n_estimators=200;, score=0.561 total time=   0.3s\n",
      "[CV 3/5] END class_weight=balanced, max_depth=20, min_samples_split=5, n_estimators=200;, score=0.602 total time=   0.3s\n",
      "[CV 4/5] END class_weight=balanced, max_depth=20, min_samples_split=5, n_estimators=200;, score=0.631 total time=   0.3s\n",
      "[CV 5/5] END class_weight=balanced, max_depth=20, min_samples_split=5, n_estimators=200;, score=0.592 total time=   0.3s\n",
      "[CV 1/5] END class_weight=balanced, max_depth=20, min_samples_split=10, n_estimators=50;, score=0.522 total time=   0.0s\n",
      "[CV 2/5] END class_weight=balanced, max_depth=20, min_samples_split=10, n_estimators=50;, score=0.570 total time=   0.0s\n",
      "[CV 3/5] END class_weight=balanced, max_depth=20, min_samples_split=10, n_estimators=50;, score=0.573 total time=   0.0s\n",
      "[CV 4/5] END class_weight=balanced, max_depth=20, min_samples_split=10, n_estimators=50;, score=0.599 total time=   0.0s\n",
      "[CV 5/5] END class_weight=balanced, max_depth=20, min_samples_split=10, n_estimators=50;, score=0.583 total time=   0.0s\n",
      "[CV 1/5] END class_weight=balanced, max_depth=20, min_samples_split=10, n_estimators=100;, score=0.522 total time=   0.1s\n",
      "[CV 2/5] END class_weight=balanced, max_depth=20, min_samples_split=10, n_estimators=100;, score=0.548 total time=   0.1s\n",
      "[CV 3/5] END class_weight=balanced, max_depth=20, min_samples_split=10, n_estimators=100;, score=0.580 total time=   0.1s\n",
      "[CV 4/5] END class_weight=balanced, max_depth=20, min_samples_split=10, n_estimators=100;, score=0.621 total time=   0.1s\n",
      "[CV 5/5] END class_weight=balanced, max_depth=20, min_samples_split=10, n_estimators=100;, score=0.561 total time=   0.1s\n",
      "[CV 1/5] END class_weight=balanced, max_depth=20, min_samples_split=10, n_estimators=200;, score=0.529 total time=   0.3s\n",
      "[CV 2/5] END class_weight=balanced, max_depth=20, min_samples_split=10, n_estimators=200;, score=0.548 total time=   0.3s\n",
      "[CV 3/5] END class_weight=balanced, max_depth=20, min_samples_split=10, n_estimators=200;, score=0.586 total time=   0.3s\n",
      "[CV 4/5] END class_weight=balanced, max_depth=20, min_samples_split=10, n_estimators=200;, score=0.640 total time=   0.3s\n",
      "[CV 5/5] END class_weight=balanced, max_depth=20, min_samples_split=10, n_estimators=200;, score=0.586 total time=   0.3s\n"
     ]
    }
   ],
   "source": [
    "### ===== 3. Random Forest =====\n",
    "param_grid_rf = {\n",
    "    'n_estimators': [50, 100, 200],\n",
    "    'max_depth': [None, 10, 20],\n",
    "    'min_samples_split': [2, 5, 10],\n",
    "    'class_weight': [None, 'balanced']\n",
    "}\n",
    "rf = RandomForestClassifier(random_state=42)\n",
    "grid_rf = GridSearchCV(rf, param_grid_rf, refit=True, verbose=3, cv=5)\n",
    "grid_rf.fit(x_train, y_train)\n",
    "joblib.dump(grid_rf, 'models/model_rf.pkl')\n",
    "akurasi_RF = round(accuracy_score(y_test, grid_rf.predict(x_test)) * 100, 2)"
   ]
  },
  {
   "cell_type": "code",
   "execution_count": 18,
   "id": "808d3734",
   "metadata": {},
   "outputs": [
    {
     "name": "stdout",
     "output_type": "stream",
     "text": [
      "Fitting 5 folds for each of 8 candidates, totalling 40 fits\n",
      "[CV 1/5] END metric=euclidean, n_neighbors=3, weights=uniform;, score=0.439 total time=   0.0s\n",
      "[CV 2/5] END metric=euclidean, n_neighbors=3, weights=uniform;, score=0.430 total time=   0.0s\n",
      "[CV 3/5] END metric=euclidean, n_neighbors=3, weights=uniform;, score=0.389 total time=   0.0s\n",
      "[CV 4/5] END metric=euclidean, n_neighbors=3, weights=uniform;, score=0.525 total time=   0.0s\n",
      "[CV 5/5] END metric=euclidean, n_neighbors=3, weights=uniform;, score=0.443 total time=   0.0s\n",
      "[CV 1/5] END metric=euclidean, n_neighbors=3, weights=distance;, score=0.513 total time=   0.0s\n",
      "[CV 2/5] END metric=euclidean, n_neighbors=3, weights=distance;, score=0.529 total time=   0.0s\n",
      "[CV 3/5] END metric=euclidean, n_neighbors=3, weights=distance;, score=0.503 total time=   0.0s\n",
      "[CV 4/5] END metric=euclidean, n_neighbors=3, weights=distance;, score=0.627 total time=   0.0s\n",
      "[CV 5/5] END metric=euclidean, n_neighbors=3, weights=distance;, score=0.554 total time=   0.0s\n",
      "[CV 1/5] END metric=euclidean, n_neighbors=5, weights=uniform;, score=0.439 total time=   0.0s\n",
      "[CV 2/5] END metric=euclidean, n_neighbors=5, weights=uniform;, score=0.417 total time=   0.0s\n",
      "[CV 3/5] END metric=euclidean, n_neighbors=5, weights=uniform;, score=0.366 total time=   0.0s\n",
      "[CV 4/5] END metric=euclidean, n_neighbors=5, weights=uniform;, score=0.484 total time=   0.0s\n",
      "[CV 5/5] END metric=euclidean, n_neighbors=5, weights=uniform;, score=0.382 total time=   0.0s\n",
      "[CV 1/5] END metric=euclidean, n_neighbors=5, weights=distance;, score=0.525 total time=   0.0s\n",
      "[CV 2/5] END metric=euclidean, n_neighbors=5, weights=distance;, score=0.490 total time=   0.0s\n",
      "[CV 3/5] END metric=euclidean, n_neighbors=5, weights=distance;, score=0.455 total time=   0.0s\n",
      "[CV 4/5] END metric=euclidean, n_neighbors=5, weights=distance;, score=0.618 total time=   0.0s\n",
      "[CV 5/5] END metric=euclidean, n_neighbors=5, weights=distance;, score=0.522 total time=   0.0s\n",
      "[CV 1/5] END metric=euclidean, n_neighbors=7, weights=uniform;, score=0.404 total time=   0.0s\n",
      "[CV 2/5] END metric=euclidean, n_neighbors=7, weights=uniform;, score=0.408 total time=   0.0s\n",
      "[CV 3/5] END metric=euclidean, n_neighbors=7, weights=uniform;, score=0.344 total time=   0.0s\n",
      "[CV 4/5] END metric=euclidean, n_neighbors=7, weights=uniform;, score=0.446 total time=   0.0s\n",
      "[CV 5/5] END metric=euclidean, n_neighbors=7, weights=uniform;, score=0.389 total time=   0.0s\n",
      "[CV 1/5] END metric=euclidean, n_neighbors=7, weights=distance;, score=0.506 total time=   0.0s\n",
      "[CV 2/5] END metric=euclidean, n_neighbors=7, weights=distance;, score=0.494 total time=   0.0s\n",
      "[CV 3/5] END metric=euclidean, n_neighbors=7, weights=distance;, score=0.462 total time=   0.0s\n",
      "[CV 4/5] END metric=euclidean, n_neighbors=7, weights=distance;, score=0.583 total time=   0.0s\n",
      "[CV 5/5] END metric=euclidean, n_neighbors=7, weights=distance;, score=0.516 total time=   0.0s\n",
      "[CV 1/5] END metric=euclidean, n_neighbors=9, weights=uniform;, score=0.395 total time=   0.0s\n",
      "[CV 2/5] END metric=euclidean, n_neighbors=9, weights=uniform;, score=0.376 total time=   0.0s\n",
      "[CV 3/5] END metric=euclidean, n_neighbors=9, weights=uniform;, score=0.350 total time=   0.0s\n",
      "[CV 4/5] END metric=euclidean, n_neighbors=9, weights=uniform;, score=0.439 total time=   0.0s\n",
      "[CV 5/5] END metric=euclidean, n_neighbors=9, weights=uniform;, score=0.344 total time=   0.0s\n",
      "[CV 1/5] END metric=euclidean, n_neighbors=9, weights=distance;, score=0.510 total time=   0.0s\n",
      "[CV 2/5] END metric=euclidean, n_neighbors=9, weights=distance;, score=0.478 total time=   0.0s\n",
      "[CV 3/5] END metric=euclidean, n_neighbors=9, weights=distance;, score=0.468 total time=   0.0s\n",
      "[CV 4/5] END metric=euclidean, n_neighbors=9, weights=distance;, score=0.580 total time=   0.0s\n",
      "[CV 5/5] END metric=euclidean, n_neighbors=9, weights=distance;, score=0.500 total time=   0.0s\n"
     ]
    }
   ],
   "source": [
    "from sklearn.neighbors import KNeighborsClassifier\n",
    "\n",
    "### ===== 4. KNN =====\n",
    "param_grid_knn = {\n",
    "    'n_neighbors': [3, 5, 7, 9],\n",
    "    'weights': ['uniform', 'distance'],\n",
    "    'metric': ['euclidean']\n",
    "}\n",
    "knn = KNeighborsClassifier()\n",
    "grid_knn = GridSearchCV(knn, param_grid_knn, refit=True, verbose=3, cv=5)\n",
    "grid_knn.fit(x_train, y_train)\n",
    "joblib.dump(grid_knn, 'models/model_knn.pkl')\n",
    "akurasi_KNN = round(accuracy_score(y_test, grid_knn.predict(x_test)) * 100, 2)\n"
   ]
  },
  {
   "cell_type": "code",
   "execution_count": 19,
   "id": "383fb76a",
   "metadata": {},
   "outputs": [
    {
     "data": {
      "text/plain": [
       "['encoders/onehot_mackonversi_columns.pkl']"
      ]
     },
     "execution_count": 19,
     "metadata": {},
     "output_type": "execute_result"
    }
   ],
   "source": [
    "# Simpan LabelEncoders\n",
    "os.makedirs('encoders', exist_ok=True)\n",
    "joblib.dump(le_ssid, 'encoders/le_ssid.pkl')\n",
    "joblib.dump(le_lokasi, 'encoders/le_lokasi.pkl')\n",
    "\n",
    "# Simpan kolom hasil one-hot encoder untuk mackonversi\n",
    "mackonversi_columns = mackonversi_encoded.columns.tolist()\n",
    "joblib.dump(mackonversi_columns, 'encoders/onehot_mackonversi_columns.pkl')"
   ]
  },
  {
   "cell_type": "markdown",
   "id": "a05acef3",
   "metadata": {},
   "source": [
    "## Model Evaluation"
   ]
  },
  {
   "cell_type": "code",
   "execution_count": 20,
   "id": "7ab0d345",
   "metadata": {},
   "outputs": [
    {
     "name": "stdout",
     "output_type": "stream",
     "text": [
      "\n",
      "--- Akurasi Model ---\n",
      "SVM : 77.3%\n",
      "GNB : 77.3%\n",
      "RF  : 77.15%\n",
      "KNN : 53.86%\n",
      "\n",
      "✅ Semua model & encoder berhasil disimpan.\n"
     ]
    }
   ],
   "source": [
    "print(\"\\n--- Akurasi Model ---\")\n",
    "print(f\"SVM : {akurasi_SVM}%\")\n",
    "print(f\"GNB : {akurasi_GNB}%\")\n",
    "print(f\"RF  : {akurasi_RF}%\")\n",
    "print(f\"KNN : {akurasi_KNN}%\")\n",
    "print(\"\\n✅ Semua model & encoder berhasil disimpan.\")"
   ]
  },
  {
   "cell_type": "code",
   "execution_count": 21,
   "id": "c6e27b75",
   "metadata": {},
   "outputs": [
    {
     "name": "stdout",
     "output_type": "stream",
     "text": [
      "\n",
      "Hasil Evaluasi Semua Model:\n"
     ]
    },
    {
     "data": {
      "text/html": [
       "<div>\n",
       "<style scoped>\n",
       "    .dataframe tbody tr th:only-of-type {\n",
       "        vertical-align: middle;\n",
       "    }\n",
       "\n",
       "    .dataframe tbody tr th {\n",
       "        vertical-align: top;\n",
       "    }\n",
       "\n",
       "    .dataframe thead th {\n",
       "        text-align: right;\n",
       "    }\n",
       "</style>\n",
       "<table border=\"1\" class=\"dataframe\">\n",
       "  <thead>\n",
       "    <tr style=\"text-align: right;\">\n",
       "      <th></th>\n",
       "      <th>Model</th>\n",
       "      <th>Accuracy</th>\n",
       "      <th>Precision</th>\n",
       "      <th>Recall</th>\n",
       "      <th>F1-Score</th>\n",
       "    </tr>\n",
       "  </thead>\n",
       "  <tbody>\n",
       "    <tr>\n",
       "      <th>0</th>\n",
       "      <td>SVM</td>\n",
       "      <td>77.30</td>\n",
       "      <td>78.94</td>\n",
       "      <td>77.30</td>\n",
       "      <td>77.57</td>\n",
       "    </tr>\n",
       "    <tr>\n",
       "      <th>1</th>\n",
       "      <td>GaussianNB</td>\n",
       "      <td>77.30</td>\n",
       "      <td>81.68</td>\n",
       "      <td>77.30</td>\n",
       "      <td>77.94</td>\n",
       "    </tr>\n",
       "    <tr>\n",
       "      <th>2</th>\n",
       "      <td>RandomForest</td>\n",
       "      <td>77.15</td>\n",
       "      <td>79.68</td>\n",
       "      <td>77.15</td>\n",
       "      <td>77.54</td>\n",
       "    </tr>\n",
       "    <tr>\n",
       "      <th>3</th>\n",
       "      <td>KNN</td>\n",
       "      <td>53.86</td>\n",
       "      <td>55.34</td>\n",
       "      <td>53.86</td>\n",
       "      <td>53.81</td>\n",
       "    </tr>\n",
       "  </tbody>\n",
       "</table>\n",
       "</div>"
      ],
      "text/plain": [
       "          Model  Accuracy  Precision  Recall  F1-Score\n",
       "0           SVM     77.30      78.94   77.30     77.57\n",
       "1    GaussianNB     77.30      81.68   77.30     77.94\n",
       "2  RandomForest     77.15      79.68   77.15     77.54\n",
       "3           KNN     53.86      55.34   53.86     53.81"
      ]
     },
     "execution_count": 21,
     "metadata": {},
     "output_type": "execute_result"
    }
   ],
   "source": [
    "def get_metrics(model_name, y_test, y_pred):\n",
    "    return {\n",
    "        'Model': model_name,\n",
    "        'Accuracy': round(accuracy_score(y_test, y_pred) * 100, 2),\n",
    "        'Precision': round(precision_score(y_test, y_pred, average='weighted') * 100, 2),\n",
    "        'Recall': round(recall_score(y_test, y_pred, average='weighted') * 100, 2),\n",
    "        'F1-Score': round(f1_score(y_test, y_pred, average='weighted') * 100, 2)\n",
    "    }\n",
    "\n",
    "y_pred_svm = grid_svc.predict(x_test)\n",
    "y_pred_gnb = grid_gnb.predict(x_test)\n",
    "y_pred_rf = grid_rf.predict(x_test)\n",
    "y_pred_knn = grid_knn.predict(x_test)\n",
    "\n",
    "all_results = []\n",
    "\n",
    "all_results.append(get_metrics('SVM', y_test, y_pred_svm))\n",
    "all_results.append(get_metrics('GaussianNB', y_test, y_pred_gnb))\n",
    "all_results.append(get_metrics('RandomForest', y_test, y_pred_rf))\n",
    "all_results.append(get_metrics('KNN', y_test, y_pred_knn))\n",
    "\n",
    "evaluation_df = pd.DataFrame(all_results)\n",
    "\n",
    "print(\"\\nHasil Evaluasi Semua Model:\")\n",
    "evaluation_df"
   ]
  },
  {
   "cell_type": "markdown",
   "id": "ed801918",
   "metadata": {},
   "source": [
    "10 lokasi\n",
    "svm -> 67\n",
    "nbc -> 15\n",
    "\n",
    "3 lokasi\n",
    "svm -> 96\n",
    "nbc -> 67\n"
   ]
  },
  {
   "cell_type": "markdown",
   "id": "7ca56cc7",
   "metadata": {},
   "source": [
    "## Export Model"
   ]
  },
  {
   "cell_type": "code",
   "execution_count": 22,
   "id": "61b08260",
   "metadata": {},
   "outputs": [
    {
     "data": {
      "text/plain": [
       "['models/model_knn.pkl']"
      ]
     },
     "execution_count": 22,
     "metadata": {},
     "output_type": "execute_result"
    }
   ],
   "source": [
    "# import joblib\n",
    "\n",
    "# # Simpan model ke dalam file pickle\n",
    "joblib.dump(grid_svc.best_estimator_, 'models/model_svm.pkl')\n",
    "joblib.dump(grid_gnb.best_estimator_, 'models/model_gnb.pkl')\n",
    "joblib.dump(grid_rf.best_estimator_, 'models/model_rf.pkl')\n",
    "joblib.dump(grid_knn.best_estimator_, 'models/model_knn.pkl')\n",
    "\n",
    "# print(\"Semua model telah disimpan sebagai file pickle.\")"
   ]
  },
  {
   "cell_type": "markdown",
   "id": "cf58db85",
   "metadata": {},
   "source": [
    "## Testing"
   ]
  },
  {
   "cell_type": "code",
   "execution_count": 23,
   "id": "6512a1b7",
   "metadata": {},
   "outputs": [],
   "source": [
    "import pandas as pd\n",
    "import joblib\n",
    "\n",
    "# === 1. Load Semua Model dan Encoder ===\n",
    "model_svm = joblib.load('models/model_svm.pkl')\n",
    "model_gnb = joblib.load('models/model_gnb.pkl')\n",
    "model_rf = joblib.load('models/model_rf.pkl')\n",
    "model_knn = joblib.load('models/model_knn.pkl')\n",
    "\n",
    "le_ssid = joblib.load('encoders/le_ssid.pkl')\n",
    "le_lokasi = joblib.load('encoders/le_lokasi.pkl')\n",
    "onehot_columns = joblib.load('encoders/onehot_mackonversi_columns.pkl')  # Ganti binary_encoder\n",
    "\n",
    "# === 2. Load Data Testing ===\n",
    "lokasi_target = 'Cafetaria Pasca'\n",
    "data_test = pd.read_excel('data/wifi.xlsx', sheet_name=lokasi_target)\n",
    "data_test = data_test[['ssid', 'mackonversi', 'rssi']]\n",
    "\n",
    "# === 3. Tangani SSID Tidak Dikenal ===\n",
    "ssid_dikenal = set(le_ssid.classes_)\n",
    "data_test = data_test[data_test['ssid'].isin(ssid_dikenal)].copy()\n",
    "\n",
    "# === 4. Encode SSID ===\n",
    "data_test['ssid_encoded'] = le_ssid.transform(data_test['ssid'])\n",
    "\n",
    "# === 5. One-Hot Encode kolom 'mackonversi' ===\n",
    "mackonversi_encoded = pd.get_dummies(data_test['mackonversi'], prefix='mac')\n",
    "mackonversi_encoded = mackonversi_encoded.reindex(columns=onehot_columns, fill_value=0)\n",
    "\n",
    "# === 6. Gabungkan Semua Fitur untuk Prediksi ===\n",
    "X_test = pd.concat([mackonversi_encoded, data_test[['ssid_encoded', 'rssi']]], axis=1)\n",
    "\n",
    "# === 7. Prediksi dari Semua Model ===\n",
    "pred_svm = le_lokasi.inverse_transform(model_svm.predict(X_test))\n",
    "pred_gnb = le_lokasi.inverse_transform(model_gnb.predict(X_test))\n",
    "pred_rf  = le_lokasi.inverse_transform(model_rf.predict(X_test))\n",
    "pred_knn = le_lokasi.inverse_transform(model_knn.predict(X_test))"
   ]
  },
  {
   "cell_type": "code",
   "execution_count": 24,
   "id": "0473ee55",
   "metadata": {},
   "outputs": [],
   "source": [
    "# === 8. Evaluasi Tepat/Tidak ===\n",
    "def evaluasi_prediksi(prediksi, lokasi_target):\n",
    "    return ['Tepat' if pred == lokasi_target else 'Tidak Tepat' for pred in prediksi]\n",
    "\n",
    "eval_svm = evaluasi_prediksi(pred_svm, lokasi_target)\n",
    "eval_gnb = evaluasi_prediksi(pred_gnb, lokasi_target)\n",
    "eval_rf  = evaluasi_prediksi(pred_rf, lokasi_target)\n",
    "eval_knn = evaluasi_prediksi(pred_knn, lokasi_target)\n",
    "\n",
    "# === 9. Buat DataFrame Hasil ===\n",
    "hasil_prediksi = data_test.copy()\n",
    "hasil_prediksi['prediksi_lokasi_svm'] = pred_svm\n",
    "hasil_prediksi['evaluasi_svm'] = eval_svm\n",
    "\n",
    "hasil_prediksi['prediksi_lokasi_gnb'] = pred_gnb\n",
    "hasil_prediksi['evaluasi_gnb'] = eval_gnb\n",
    "\n",
    "hasil_prediksi['prediksi_lokasi_rf'] = pred_rf\n",
    "hasil_prediksi['evaluasi_rf'] = eval_rf\n",
    "\n",
    "hasil_prediksi['prediksi_lokasi_knn'] = pred_knn\n",
    "hasil_prediksi['evaluasi_knn'] = eval_knn\n",
    "\n",
    "# === 10. Hitung Ringkasan Tepat/Tidak ===\n",
    "def hitung_summary(evaluasi_list):\n",
    "    tepat = evaluasi_list.count('Tepat')\n",
    "    tidak = evaluasi_list.count('Tidak Tepat')\n",
    "    return tepat, tidak\n",
    "\n",
    "summary = {\n",
    "    'Model': ['SVM', 'GNB', 'RF', 'KNN'],\n",
    "    'Tepat': [],\n",
    "    'Tidak Tepat': []\n",
    "}\n",
    "\n",
    "for ev in [eval_svm, eval_gnb, eval_rf, eval_knn]:\n",
    "    t, td = hitung_summary(ev)\n",
    "    summary['Tepat'].append(t)\n",
    "    summary['Tidak Tepat'].append(td)\n",
    "\n",
    "summary_df = pd.DataFrame(summary)"
   ]
  },
  {
   "cell_type": "code",
   "execution_count": 25,
   "id": "65086281",
   "metadata": {},
   "outputs": [
    {
     "name": "stdout",
     "output_type": "stream",
     "text": [
      "DataFrame Hasil Prediksi:\n"
     ]
    },
    {
     "data": {
      "text/html": [
       "<div>\n",
       "<style scoped>\n",
       "    .dataframe tbody tr th:only-of-type {\n",
       "        vertical-align: middle;\n",
       "    }\n",
       "\n",
       "    .dataframe tbody tr th {\n",
       "        vertical-align: top;\n",
       "    }\n",
       "\n",
       "    .dataframe thead th {\n",
       "        text-align: right;\n",
       "    }\n",
       "</style>\n",
       "<table border=\"1\" class=\"dataframe\">\n",
       "  <thead>\n",
       "    <tr style=\"text-align: right;\">\n",
       "      <th></th>\n",
       "      <th>ssid</th>\n",
       "      <th>mackonversi</th>\n",
       "      <th>rssi</th>\n",
       "      <th>ssid_encoded</th>\n",
       "      <th>prediksi_lokasi_svm</th>\n",
       "      <th>evaluasi_svm</th>\n",
       "      <th>prediksi_lokasi_gnb</th>\n",
       "      <th>evaluasi_gnb</th>\n",
       "      <th>prediksi_lokasi_rf</th>\n",
       "      <th>evaluasi_rf</th>\n",
       "      <th>prediksi_lokasi_knn</th>\n",
       "      <th>evaluasi_knn</th>\n",
       "    </tr>\n",
       "  </thead>\n",
       "  <tbody>\n",
       "    <tr>\n",
       "      <th>0</th>\n",
       "      <td>eepisGuest</td>\n",
       "      <td>185492502530370</td>\n",
       "      <td>-71</td>\n",
       "      <td>147</td>\n",
       "      <td>Cafetaria Pasca</td>\n",
       "      <td>Tepat</td>\n",
       "      <td>Cafetaria Pasca</td>\n",
       "      <td>Tepat</td>\n",
       "      <td>Cafetaria Pasca</td>\n",
       "      <td>Tepat</td>\n",
       "      <td>Musholla Saw</td>\n",
       "      <td>Tidak Tepat</td>\n",
       "    </tr>\n",
       "    <tr>\n",
       "      <th>1</th>\n",
       "      <td>eepisGuest</td>\n",
       "      <td>220077978550115</td>\n",
       "      <td>-72</td>\n",
       "      <td>147</td>\n",
       "      <td>Cafetaria Pasca</td>\n",
       "      <td>Tepat</td>\n",
       "      <td>Cafetaria Pasca</td>\n",
       "      <td>Tepat</td>\n",
       "      <td>Cafetaria Pasca</td>\n",
       "      <td>Tepat</td>\n",
       "      <td>Musholla D4</td>\n",
       "      <td>Tidak Tepat</td>\n",
       "    </tr>\n",
       "    <tr>\n",
       "      <th>2</th>\n",
       "      <td>eepisGuest</td>\n",
       "      <td>220077978544130</td>\n",
       "      <td>-83</td>\n",
       "      <td>147</td>\n",
       "      <td>Perpustakaan Pasca</td>\n",
       "      <td>Tidak Tepat</td>\n",
       "      <td>Cafetaria Pasca</td>\n",
       "      <td>Tepat</td>\n",
       "      <td>Musholla Saw</td>\n",
       "      <td>Tidak Tepat</td>\n",
       "      <td>Perpustakaan Pasca</td>\n",
       "      <td>Tidak Tepat</td>\n",
       "    </tr>\n",
       "    <tr>\n",
       "      <th>3</th>\n",
       "      <td>eepisMobile</td>\n",
       "      <td>220077978542659</td>\n",
       "      <td>-43</td>\n",
       "      <td>148</td>\n",
       "      <td>Cafetaria Pasca</td>\n",
       "      <td>Tepat</td>\n",
       "      <td>Cafetaria Pasca</td>\n",
       "      <td>Tepat</td>\n",
       "      <td>Cafetaria Pasca</td>\n",
       "      <td>Tepat</td>\n",
       "      <td>Cafetaria Pasca</td>\n",
       "      <td>Tepat</td>\n",
       "    </tr>\n",
       "    <tr>\n",
       "      <th>4</th>\n",
       "      <td>eepiswlanXpress</td>\n",
       "      <td>220077978542660</td>\n",
       "      <td>-43</td>\n",
       "      <td>151</td>\n",
       "      <td>Cafetaria Pasca</td>\n",
       "      <td>Tepat</td>\n",
       "      <td>Cafetaria Pasca</td>\n",
       "      <td>Tepat</td>\n",
       "      <td>Cafetaria Pasca</td>\n",
       "      <td>Tepat</td>\n",
       "      <td>Cafetaria Pasca</td>\n",
       "      <td>Tepat</td>\n",
       "    </tr>\n",
       "    <tr>\n",
       "      <th>...</th>\n",
       "      <td>...</td>\n",
       "      <td>...</td>\n",
       "      <td>...</td>\n",
       "      <td>...</td>\n",
       "      <td>...</td>\n",
       "      <td>...</td>\n",
       "      <td>...</td>\n",
       "      <td>...</td>\n",
       "      <td>...</td>\n",
       "      <td>...</td>\n",
       "      <td>...</td>\n",
       "      <td>...</td>\n",
       "    </tr>\n",
       "    <tr>\n",
       "      <th>88</th>\n",
       "      <td>eepiswlanXpress</td>\n",
       "      <td>220077978542660</td>\n",
       "      <td>-59</td>\n",
       "      <td>151</td>\n",
       "      <td>Musholla Saw</td>\n",
       "      <td>Tidak Tepat</td>\n",
       "      <td>Cafetaria Pasca</td>\n",
       "      <td>Tepat</td>\n",
       "      <td>Cafetaria Pasca</td>\n",
       "      <td>Tepat</td>\n",
       "      <td>Perpustakaan D4</td>\n",
       "      <td>Tidak Tepat</td>\n",
       "    </tr>\n",
       "    <tr>\n",
       "      <th>89</th>\n",
       "      <td>eepiswlan</td>\n",
       "      <td>97497779925073</td>\n",
       "      <td>-77</td>\n",
       "      <td>149</td>\n",
       "      <td>Cafetaria Pasca</td>\n",
       "      <td>Tepat</td>\n",
       "      <td>Cafetaria Pasca</td>\n",
       "      <td>Tepat</td>\n",
       "      <td>Cafetaria Pasca</td>\n",
       "      <td>Tepat</td>\n",
       "      <td>Cafetaria Pasca</td>\n",
       "      <td>Tepat</td>\n",
       "    </tr>\n",
       "    <tr>\n",
       "      <th>90</th>\n",
       "      <td>eepiswlan</td>\n",
       "      <td>220077978550114</td>\n",
       "      <td>-72</td>\n",
       "      <td>149</td>\n",
       "      <td>Cafetaria Pasca</td>\n",
       "      <td>Tepat</td>\n",
       "      <td>Cafetaria Pasca</td>\n",
       "      <td>Tepat</td>\n",
       "      <td>Cafetaria Pasca</td>\n",
       "      <td>Tepat</td>\n",
       "      <td>Saw 0808</td>\n",
       "      <td>Tidak Tepat</td>\n",
       "    </tr>\n",
       "    <tr>\n",
       "      <th>91</th>\n",
       "      <td>eepisGuest</td>\n",
       "      <td>220077978542658</td>\n",
       "      <td>-59</td>\n",
       "      <td>147</td>\n",
       "      <td>Sekber D4</td>\n",
       "      <td>Tidak Tepat</td>\n",
       "      <td>Cafetaria Pasca</td>\n",
       "      <td>Tepat</td>\n",
       "      <td>Cafetaria Pasca</td>\n",
       "      <td>Tepat</td>\n",
       "      <td>Perpustakaan D4</td>\n",
       "      <td>Tidak Tepat</td>\n",
       "    </tr>\n",
       "    <tr>\n",
       "      <th>92</th>\n",
       "      <td>eepisMobile</td>\n",
       "      <td>273142100850467</td>\n",
       "      <td>-70</td>\n",
       "      <td>148</td>\n",
       "      <td>Cafetaria Pasca</td>\n",
       "      <td>Tepat</td>\n",
       "      <td>Cafetaria Pasca</td>\n",
       "      <td>Tepat</td>\n",
       "      <td>Cafetaria Pasca</td>\n",
       "      <td>Tepat</td>\n",
       "      <td>Lab E204 D4</td>\n",
       "      <td>Tidak Tepat</td>\n",
       "    </tr>\n",
       "  </tbody>\n",
       "</table>\n",
       "<p>91 rows × 12 columns</p>\n",
       "</div>"
      ],
      "text/plain": [
       "               ssid      mackonversi  rssi  ssid_encoded prediksi_lokasi_svm  \\\n",
       "0        eepisGuest  185492502530370   -71           147     Cafetaria Pasca   \n",
       "1        eepisGuest  220077978550115   -72           147     Cafetaria Pasca   \n",
       "2        eepisGuest  220077978544130   -83           147  Perpustakaan Pasca   \n",
       "3       eepisMobile  220077978542659   -43           148     Cafetaria Pasca   \n",
       "4   eepiswlanXpress  220077978542660   -43           151     Cafetaria Pasca   \n",
       "..              ...              ...   ...           ...                 ...   \n",
       "88  eepiswlanXpress  220077978542660   -59           151        Musholla Saw   \n",
       "89        eepiswlan   97497779925073   -77           149     Cafetaria Pasca   \n",
       "90        eepiswlan  220077978550114   -72           149     Cafetaria Pasca   \n",
       "91       eepisGuest  220077978542658   -59           147           Sekber D4   \n",
       "92      eepisMobile  273142100850467   -70           148     Cafetaria Pasca   \n",
       "\n",
       "   evaluasi_svm prediksi_lokasi_gnb evaluasi_gnb prediksi_lokasi_rf  \\\n",
       "0         Tepat     Cafetaria Pasca        Tepat    Cafetaria Pasca   \n",
       "1         Tepat     Cafetaria Pasca        Tepat    Cafetaria Pasca   \n",
       "2   Tidak Tepat     Cafetaria Pasca        Tepat       Musholla Saw   \n",
       "3         Tepat     Cafetaria Pasca        Tepat    Cafetaria Pasca   \n",
       "4         Tepat     Cafetaria Pasca        Tepat    Cafetaria Pasca   \n",
       "..          ...                 ...          ...                ...   \n",
       "88  Tidak Tepat     Cafetaria Pasca        Tepat    Cafetaria Pasca   \n",
       "89        Tepat     Cafetaria Pasca        Tepat    Cafetaria Pasca   \n",
       "90        Tepat     Cafetaria Pasca        Tepat    Cafetaria Pasca   \n",
       "91  Tidak Tepat     Cafetaria Pasca        Tepat    Cafetaria Pasca   \n",
       "92        Tepat     Cafetaria Pasca        Tepat    Cafetaria Pasca   \n",
       "\n",
       "    evaluasi_rf prediksi_lokasi_knn evaluasi_knn  \n",
       "0         Tepat        Musholla Saw  Tidak Tepat  \n",
       "1         Tepat         Musholla D4  Tidak Tepat  \n",
       "2   Tidak Tepat  Perpustakaan Pasca  Tidak Tepat  \n",
       "3         Tepat     Cafetaria Pasca        Tepat  \n",
       "4         Tepat     Cafetaria Pasca        Tepat  \n",
       "..          ...                 ...          ...  \n",
       "88        Tepat     Perpustakaan D4  Tidak Tepat  \n",
       "89        Tepat     Cafetaria Pasca        Tepat  \n",
       "90        Tepat            Saw 0808  Tidak Tepat  \n",
       "91        Tepat     Perpustakaan D4  Tidak Tepat  \n",
       "92        Tepat         Lab E204 D4  Tidak Tepat  \n",
       "\n",
       "[91 rows x 12 columns]"
      ]
     },
     "execution_count": 25,
     "metadata": {},
     "output_type": "execute_result"
    }
   ],
   "source": [
    "print(\"DataFrame Hasil Prediksi:\")\n",
    "hasil_prediksi"
   ]
  },
  {
   "cell_type": "code",
   "execution_count": 26,
   "id": "0ffbdeb5",
   "metadata": {},
   "outputs": [
    {
     "name": "stdout",
     "output_type": "stream",
     "text": [
      "\n",
      "Summary Ketepatan Prediksi:\n"
     ]
    },
    {
     "data": {
      "text/html": [
       "<div>\n",
       "<style scoped>\n",
       "    .dataframe tbody tr th:only-of-type {\n",
       "        vertical-align: middle;\n",
       "    }\n",
       "\n",
       "    .dataframe tbody tr th {\n",
       "        vertical-align: top;\n",
       "    }\n",
       "\n",
       "    .dataframe thead th {\n",
       "        text-align: right;\n",
       "    }\n",
       "</style>\n",
       "<table border=\"1\" class=\"dataframe\">\n",
       "  <thead>\n",
       "    <tr style=\"text-align: right;\">\n",
       "      <th></th>\n",
       "      <th>Model</th>\n",
       "      <th>Tepat</th>\n",
       "      <th>Tidak Tepat</th>\n",
       "    </tr>\n",
       "  </thead>\n",
       "  <tbody>\n",
       "    <tr>\n",
       "      <th>0</th>\n",
       "      <td>SVM</td>\n",
       "      <td>83</td>\n",
       "      <td>8</td>\n",
       "    </tr>\n",
       "    <tr>\n",
       "      <th>1</th>\n",
       "      <td>GNB</td>\n",
       "      <td>86</td>\n",
       "      <td>5</td>\n",
       "    </tr>\n",
       "    <tr>\n",
       "      <th>2</th>\n",
       "      <td>RF</td>\n",
       "      <td>81</td>\n",
       "      <td>10</td>\n",
       "    </tr>\n",
       "    <tr>\n",
       "      <th>3</th>\n",
       "      <td>KNN</td>\n",
       "      <td>50</td>\n",
       "      <td>41</td>\n",
       "    </tr>\n",
       "  </tbody>\n",
       "</table>\n",
       "</div>"
      ],
      "text/plain": [
       "  Model  Tepat  Tidak Tepat\n",
       "0   SVM     83            8\n",
       "1   GNB     86            5\n",
       "2    RF     81           10\n",
       "3   KNN     50           41"
      ]
     },
     "execution_count": 26,
     "metadata": {},
     "output_type": "execute_result"
    }
   ],
   "source": [
    "print(\"\\nSummary Ketepatan Prediksi:\")\n",
    "summary_df"
   ]
  }
 ],
 "metadata": {
  "kernelspec": {
   "display_name": "gpu_load",
   "language": "python",
   "name": "python3"
  },
  "language_info": {
   "codemirror_mode": {
    "name": "ipython",
    "version": 3
   },
   "file_extension": ".py",
   "mimetype": "text/x-python",
   "name": "python",
   "nbconvert_exporter": "python",
   "pygments_lexer": "ipython3",
   "version": "3.10.14"
  }
 },
 "nbformat": 4,
 "nbformat_minor": 5
}
